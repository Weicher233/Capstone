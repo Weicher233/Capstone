{
 "cells": [
  {
   "cell_type": "markdown",
   "id": "05d14d24-8e39-4adf-a775-f915eb9c98cf",
   "metadata": {},
   "source": [
    "# Traffic trends for London's public transport network"
   ]
  },
  {
   "attachments": {},
   "cell_type": "markdown",
   "id": "5db3e7e0-de78-448b-a8cd-0a60d51238f8",
   "metadata": {},
   "source": [
    "## Introduction\n",
    "### 1.1 Background\n",
    "London is a global hub for large-scale events, hosting concerts, sports tournaments, cultural festivals, and more. These events significantly impact the city's transportation system, particularly the London Underground (TfL network).  \n",
    "\n",
    "Transport for London (TfL) typically schedules services based on historical data and pre-planned timetables. However, this method may not immediately accommodate fluctuations in passenger demand caused by events  \n",
    "\r\n",
    "Our study aims to analyze whether events can serve as a reliable predictor of station business (passenger flow) and assess how well TfL’s current scheduling aligns with demand surge  \n",
    "### 1.2 Research question  \n",
    "What key factors (e.g., event characteristics, external conditions) are most relevant in predicting station business during events?  \n",
    "H1: The type, scale, and ticketing status of an event have a significant impact on station business, but the extent of this impact varies depending on external factors such as weather, time, and competing events.\n",
    "\n",
    "\n",
    "Can we develop a tool that links event type, size, and scale with station business to improve network management?  \n",
    "H2: Developing a predictive model that links event characteristics with station business will provide data-driven insights for network management, thereby enhancing transport planning efficiency.\n",
    "\n",
    "\n",
    "Can integrating event data into a predictive model improve TfL’s ability to optimize scheduling and resource allocation?  \n",
    "H3:Integrating event data (such as event type, scale, and timing) into the predictive model will enhance TfL’s ability to accurately schedule services during high-demand periods, reduce over-scheduling and resource waste, and optimize train frequencies and station operations.  \n",
    "### 1.3 Data sources  \n",
    "1.3.1 TFL data:ons.\r\n",
    "e：\n"
   ]
  },
  {
   "cell_type": "code",
   "execution_count": null,
   "id": "af3e06ce-cd5f-450d-ae63-97752389eef0",
   "metadata": {},
   "outputs": [],
   "source": []
  }
 ],
 "metadata": {
  "kernelspec": {
   "display_name": "Python 3 (ipykernel)",
   "language": "python",
   "name": "python3"
  },
  "language_info": {
   "codemirror_mode": {
    "name": "ipython",
    "version": 3
   },
   "file_extension": ".py",
   "mimetype": "text/x-python",
   "name": "python",
   "nbconvert_exporter": "python",
   "pygments_lexer": "ipython3",
   "version": "3.12.4"
  }
 },
 "nbformat": 4,
 "nbformat_minor": 5
}
