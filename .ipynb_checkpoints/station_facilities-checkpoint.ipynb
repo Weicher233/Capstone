{
  "nbformat": 4,
  "nbformat_minor": 0,
  "metadata": {
    "colab": {
      "provenance": []
    },
    "kernelspec": {
      "name": "python3",
      "display_name": "Python 3"
    },
    "language_info": {
      "name": "python"
    }
  },
  "cells": [
    {
      "cell_type": "code",
      "execution_count": 1,
      "metadata": {
        "colab": {
          "base_uri": "https://localhost:8080/"
        },
        "id": "5oPA0gLq6a9G",
        "outputId": "8ab440b9-76c5-44d1-ec76-3dd98316c69c"
      },
      "outputs": [
        {
          "output_type": "stream",
          "name": "stdout",
          "text": [
            "Requirement already satisfied: requests in /usr/local/lib/python3.11/dist-packages (2.32.3)\n",
            "Requirement already satisfied: tqdm in /usr/local/lib/python3.11/dist-packages (4.67.1)\n",
            "Requirement already satisfied: pandas in /usr/local/lib/python3.11/dist-packages (2.2.2)\n",
            "Requirement already satisfied: charset-normalizer<4,>=2 in /usr/local/lib/python3.11/dist-packages (from requests) (3.4.1)\n",
            "Requirement already satisfied: idna<4,>=2.5 in /usr/local/lib/python3.11/dist-packages (from requests) (3.10)\n",
            "Requirement already satisfied: urllib3<3,>=1.21.1 in /usr/local/lib/python3.11/dist-packages (from requests) (2.3.0)\n",
            "Requirement already satisfied: certifi>=2017.4.17 in /usr/local/lib/python3.11/dist-packages (from requests) (2025.1.31)\n",
            "Requirement already satisfied: numpy>=1.23.2 in /usr/local/lib/python3.11/dist-packages (from pandas) (2.0.2)\n",
            "Requirement already satisfied: python-dateutil>=2.8.2 in /usr/local/lib/python3.11/dist-packages (from pandas) (2.8.2)\n",
            "Requirement already satisfied: pytz>=2020.1 in /usr/local/lib/python3.11/dist-packages (from pandas) (2025.1)\n",
            "Requirement already satisfied: tzdata>=2022.7 in /usr/local/lib/python3.11/dist-packages (from pandas) (2025.1)\n",
            "Requirement already satisfied: six>=1.5 in /usr/local/lib/python3.11/dist-packages (from python-dateutil>=2.8.2->pandas) (1.17.0)\n"
          ]
        }
      ],
      "source": [
        "pip install requests tqdm pandas"
      ]
    },
    {
      "cell_type": "code",
      "source": [
        "import requests\n",
        "import pandas as pd\n",
        "from tqdm import tqdm\n",
        "\n",
        "line_url = \"https://api.tfl.gov.uk/line/mode/tube,overground,dlr\"\n",
        "line_res = requests.get(line_url)\n",
        "lines = line_res.json()\n",
        "\n",
        "line_ids = [line['id'] for line in lines]\n",
        "\n",
        "print(f\"Retrieved {len(line_ids)} lines\")\n",
        "\n",
        "station_data = {}\n",
        "\n",
        "for line_id in tqdm(line_ids, desc=\"Fetching stations for each line\"):\n",
        "    stop_url = f\"https://api.tfl.gov.uk/line/{line_id}/stoppoints\"\n",
        "    stop_res = requests.get(stop_url)\n",
        "    stops = stop_res.json()\n",
        "\n",
        "    for stop in stops:\n",
        "        stop_id = stop['id']\n",
        "        if stop_id in station_data:\n",
        "            station_data[stop_id]['Lines Served'].add(line_id)\n",
        "            continue\n",
        "\n",
        "        station_data[stop_id] = {\n",
        "            'Station Name': stop['commonName'],\n",
        "            'Latitude': stop['lat'],\n",
        "            'Longitude': stop['lon'],\n",
        "            'Lines Served': set([line_id]),\n",
        "        }\n",
        "\n",
        "print(\"Fetching detailed facilities information for each station...\")\n",
        "\n",
        "for stop_id in tqdm(station_data.keys(), desc=\"Fetching station facilities\"):\n",
        "    detail_url = f\"https://api.tfl.gov.uk/StopPoint/{stop_id}\"\n",
        "    detail_res = requests.get(detail_url)\n",
        "    detail = detail_res.json()\n",
        "\n",
        "    facilities = []\n",
        "    for prop in detail.get(\"additionalProperties\", []):\n",
        "        if 'toilet' in prop['key'].lower() or 'wifi' in prop['key'].lower():\n",
        "            facilities.append(f\"{prop['key']}: {prop['value']}\")\n",
        "\n",
        "    station_data[stop_id]['Facilities'] = facilities\n",
        "\n",
        "df = pd.DataFrame.from_dict(station_data, orient='index')\n",
        "df['Lines Served'] = df['Lines Served'].apply(lambda x: ', '.join(x))\n",
        "\n",
        "print(df.head())\n",
        "\n",
        "df.to_csv('stations_with_facilities.csv', index_label='Station ID')\n",
        "print(\"File saved as stations_with_facilities.csv\")\n"
      ],
      "metadata": {
        "colab": {
          "base_uri": "https://localhost:8080/"
        },
        "id": "GQYXxMjW6e9I",
        "outputId": "c24fb52c-098b-4d32-8f94-d75db35b5582"
      },
      "execution_count": 15,
      "outputs": [
        {
          "output_type": "stream",
          "name": "stdout",
          "text": [
            "Retrieved 18 lines\n"
          ]
        },
        {
          "output_type": "stream",
          "name": "stderr",
          "text": [
            "Fetching stations for each line: 100%|██████████| 18/18 [00:11<00:00,  1.59it/s]\n"
          ]
        },
        {
          "output_type": "stream",
          "name": "stdout",
          "text": [
            "Fetching detailed facilities information for each station...\n"
          ]
        },
        {
          "output_type": "stream",
          "name": "stderr",
          "text": [
            "Fetching station facilities: 100%|██████████| 430/430 [02:02<00:00,  3.51it/s]"
          ]
        },
        {
          "output_type": "stream",
          "name": "stdout",
          "text": [
            "                                            Station Name   Latitude  \\\n",
            "940GZZLUBST             Baker Street Underground Station  51.522883   \n",
            "940GZZLUCHX            Charing Cross Underground Station  51.507410   \n",
            "940GZZLUEAC        Elephant & Castle Underground Station  51.494536   \n",
            "940GZZLUEMB               Embankment Underground Station  51.507058   \n",
            "940GZZLUERB  Edgware Road (Bakerloo) Underground Station  51.520299   \n",
            "\n",
            "             Longitude                                       Lines Served  \\\n",
            "940GZZLUBST  -0.157130  metropolitan, hammersmith-city, jubilee, circl...   \n",
            "940GZZLUCHX  -0.127277                                 bakerloo, northern   \n",
            "940GZZLUEAC  -0.100606                                 bakerloo, northern   \n",
            "940GZZLUEMB  -0.122666               circle, bakerloo, district, northern   \n",
            "940GZZLUERB  -0.170150                                           bakerloo   \n",
            "\n",
            "                                        Facilities  \n",
            "940GZZLUBST  [Toilets: yes, WiFi: yes, Toilet: No]  \n",
            "940GZZLUCHX               [Toilets: no, WiFi: yes]  \n",
            "940GZZLUEAC               [Toilets: no, WiFi: yes]  \n",
            "940GZZLUEMB               [Toilets: no, WiFi: yes]  \n",
            "940GZZLUERB   [Toilets: no, WiFi: yes, Toilet: No]  \n",
            "File saved as stations_with_facilities.csv\n"
          ]
        },
        {
          "output_type": "stream",
          "name": "stderr",
          "text": [
            "\n"
          ]
        }
      ]
    },
    {
      "cell_type": "code",
      "source": [
        "import pandas as pd\n",
        "\n",
        "df = pd.read_csv('stations_with_facilities.csv')\n",
        "print(df)"
      ],
      "metadata": {
        "colab": {
          "base_uri": "https://localhost:8080/"
        },
        "id": "CLdRA18W8ZXU",
        "outputId": "0a8d0d6a-31f5-48f8-912a-577f2bf18691"
      },
      "execution_count": 5,
      "outputs": [
        {
          "output_type": "stream",
          "name": "stdout",
          "text": [
            "      Station ID                                 Station Name   Latitude  \\\n",
            "0    940GZZLUBST             Baker Street Underground Station  51.522883   \n",
            "1    940GZZLUCHX            Charing Cross Underground Station  51.507410   \n",
            "2    940GZZLUEAC        Elephant & Castle Underground Station  51.494536   \n",
            "3    940GZZLUEMB               Embankment Underground Station  51.507058   \n",
            "4    940GZZLUERB  Edgware Road (Bakerloo) Underground Station  51.520299   \n",
            "..           ...                                          ...        ...   \n",
            "425  910GSYDENHM                        Sydenham Rail Station  51.427248   \n",
            "426  910GWAPPING                         Wapping Rail Station  51.504388   \n",
            "427  910GWCHAPEL                     Whitechapel Rail Station  51.519469   \n",
            "428  910GWCROYDN                    West Croydon Rail Station  51.378428   \n",
            "429  910GWNDSWRD                 Wandsworth Road Rail Station  51.470216   \n",
            "\n",
            "     Longitude                                       Lines Served  \\\n",
            "0    -0.157130  metropolitan, hammersmith-city, jubilee, circl...   \n",
            "1    -0.127277                                 bakerloo, northern   \n",
            "2    -0.100606                                 bakerloo, northern   \n",
            "3    -0.122666               circle, bakerloo, district, northern   \n",
            "4    -0.170150                                           bakerloo   \n",
            "..         ...                                                ...   \n",
            "425  -0.054244                                           windrush   \n",
            "426  -0.055931                                           windrush   \n",
            "427  -0.059757                                           windrush   \n",
            "428  -0.102585                                           windrush   \n",
            "429  -0.138520                                           windrush   \n",
            "\n",
            "                                      Facilities  \n",
            "0    ['Toilets: yes', 'WiFi: yes', 'Toilet: No']  \n",
            "1                   ['Toilets: no', 'WiFi: yes']  \n",
            "2                   ['Toilets: no', 'WiFi: yes']  \n",
            "3                   ['Toilets: no', 'WiFi: yes']  \n",
            "4     ['Toilets: no', 'WiFi: yes', 'Toilet: No']  \n",
            "..                                           ...  \n",
            "425                                           []  \n",
            "426                                           []  \n",
            "427                  ['WiFi: no', 'Toilets: no']  \n",
            "428                                           []  \n",
            "429                                           []  \n",
            "\n",
            "[430 rows x 6 columns]\n"
          ]
        }
      ]
    },
    {
      "cell_type": "code",
      "source": [
        "from google.colab import files\n",
        "files.download('stations_with_facilities.csv')\n"
      ],
      "metadata": {
        "colab": {
          "base_uri": "https://localhost:8080/",
          "height": 17
        },
        "id": "5bUXS0dQ8aJj",
        "outputId": "df28570b-babf-44b4-aa08-e904bbb31e44"
      },
      "execution_count": 6,
      "outputs": [
        {
          "output_type": "display_data",
          "data": {
            "text/plain": [
              "<IPython.core.display.Javascript object>"
            ],
            "application/javascript": [
              "\n",
              "    async function download(id, filename, size) {\n",
              "      if (!google.colab.kernel.accessAllowed) {\n",
              "        return;\n",
              "      }\n",
              "      const div = document.createElement('div');\n",
              "      const label = document.createElement('label');\n",
              "      label.textContent = `Downloading \"${filename}\": `;\n",
              "      div.appendChild(label);\n",
              "      const progress = document.createElement('progress');\n",
              "      progress.max = size;\n",
              "      div.appendChild(progress);\n",
              "      document.body.appendChild(div);\n",
              "\n",
              "      const buffers = [];\n",
              "      let downloaded = 0;\n",
              "\n",
              "      const channel = await google.colab.kernel.comms.open(id);\n",
              "      // Send a message to notify the kernel that we're ready.\n",
              "      channel.send({})\n",
              "\n",
              "      for await (const message of channel.messages) {\n",
              "        // Send a message to notify the kernel that we're ready.\n",
              "        channel.send({})\n",
              "        if (message.buffers) {\n",
              "          for (const buffer of message.buffers) {\n",
              "            buffers.push(buffer);\n",
              "            downloaded += buffer.byteLength;\n",
              "            progress.value = downloaded;\n",
              "          }\n",
              "        }\n",
              "      }\n",
              "      const blob = new Blob(buffers, {type: 'application/binary'});\n",
              "      const a = document.createElement('a');\n",
              "      a.href = window.URL.createObjectURL(blob);\n",
              "      a.download = filename;\n",
              "      div.appendChild(a);\n",
              "      a.click();\n",
              "      div.remove();\n",
              "    }\n",
              "  "
            ]
          },
          "metadata": {}
        },
        {
          "output_type": "display_data",
          "data": {
            "text/plain": [
              "<IPython.core.display.Javascript object>"
            ],
            "application/javascript": [
              "download(\"download_320c049b-e382-4d35-8310-b690e01b1893\", \"stations_with_facilities.csv\", 37215)"
            ]
          },
          "metadata": {}
        }
      ]
    },
    {
      "cell_type": "markdown",
      "source": [
        "# show all the station data (But only tell the amount elevator)"
      ],
      "metadata": {
        "id": "H94BvZ0jYu5i"
      }
    },
    {
      "cell_type": "code",
      "source": [
        "import requests\n",
        "import xml.etree.ElementTree as ET\n",
        "import pandas as pd\n",
        "\n",
        "url = \"https://tfl.gov.uk/tfl/syndication/feeds/stations-facilities.xml\"\n",
        "response = requests.get(url)\n",
        "xml_content = response.content\n",
        "\n",
        "root = ET.fromstring(xml_content)\n",
        "\n",
        "stations = []\n",
        "\n",
        "for station in root.findall(\".//station\"):\n",
        "    station_id = station.get('id')\n",
        "    station_type = station.get('type')\n",
        "    name = station.find('name').text.strip()\n",
        "\n",
        "    facilities = {\n",
        "        'Ticket Halls': None,\n",
        "        'Lifts': None,\n",
        "        'Escalators': None,\n",
        "        'Gates': None,\n",
        "        'Toilets': None,\n",
        "        'Photo Booths': None,\n",
        "        'Cash Machines': None,\n",
        "        'Payphones': None,\n",
        "        'Car park': None,\n",
        "        'Vending Machines': None,\n",
        "        'Help Points': None,\n",
        "        'Bridge': None,\n",
        "        'Waiting Room': None,\n",
        "        'Other Facilities': None\n",
        "    }\n",
        "\n",
        "    facilities_block = station.find('facilities')\n",
        "    if facilities_block is not None:\n",
        "        for facility in facilities_block:\n",
        "            facility_name = facility.get('name')\n",
        "            facility_value = facility.text.strip() if facility.text else ''\n",
        "            facilities[facility_name] = facility_value\n",
        "\n",
        "    station_row = {\n",
        "        'Station ID': station_id,\n",
        "        'Station Name': name,\n",
        "        'Station Type': station_type\n",
        "    }\n",
        "    station_row.update(facilities)\n",
        "\n",
        "    stations.append(station_row)\n",
        "\n",
        "df = pd.DataFrame(stations)\n",
        "\n",
        "df.to_csv('stations_facilities_expanded_filled.csv', index=False)\n",
        "print(\"finished stations_facilities_expanded_filled.csv\")\n",
        "from google.colab import files\n",
        "files.download('stations_facilities_expanded_filled.csv')\n"
      ],
      "metadata": {
        "colab": {
          "base_uri": "https://localhost:8080/",
          "height": 34
        },
        "id": "KcGtchjz8kpv",
        "outputId": "91cf0d47-0303-4aed-fcab-5db2a81f6f47"
      },
      "execution_count": 11,
      "outputs": [
        {
          "output_type": "stream",
          "name": "stdout",
          "text": [
            "finished stations_facilities_expanded_filled.csv\n"
          ]
        },
        {
          "output_type": "display_data",
          "data": {
            "text/plain": [
              "<IPython.core.display.Javascript object>"
            ],
            "application/javascript": [
              "\n",
              "    async function download(id, filename, size) {\n",
              "      if (!google.colab.kernel.accessAllowed) {\n",
              "        return;\n",
              "      }\n",
              "      const div = document.createElement('div');\n",
              "      const label = document.createElement('label');\n",
              "      label.textContent = `Downloading \"${filename}\": `;\n",
              "      div.appendChild(label);\n",
              "      const progress = document.createElement('progress');\n",
              "      progress.max = size;\n",
              "      div.appendChild(progress);\n",
              "      document.body.appendChild(div);\n",
              "\n",
              "      const buffers = [];\n",
              "      let downloaded = 0;\n",
              "\n",
              "      const channel = await google.colab.kernel.comms.open(id);\n",
              "      // Send a message to notify the kernel that we're ready.\n",
              "      channel.send({})\n",
              "\n",
              "      for await (const message of channel.messages) {\n",
              "        // Send a message to notify the kernel that we're ready.\n",
              "        channel.send({})\n",
              "        if (message.buffers) {\n",
              "          for (const buffer of message.buffers) {\n",
              "            buffers.push(buffer);\n",
              "            downloaded += buffer.byteLength;\n",
              "            progress.value = downloaded;\n",
              "          }\n",
              "        }\n",
              "      }\n",
              "      const blob = new Blob(buffers, {type: 'application/binary'});\n",
              "      const a = document.createElement('a');\n",
              "      a.href = window.URL.createObjectURL(blob);\n",
              "      a.download = filename;\n",
              "      div.appendChild(a);\n",
              "      a.click();\n",
              "      div.remove();\n",
              "    }\n",
              "  "
            ]
          },
          "metadata": {}
        },
        {
          "output_type": "display_data",
          "data": {
            "text/plain": [
              "<IPython.core.display.Javascript object>"
            ],
            "application/javascript": [
              "download(\"download_f11bb745-5fbc-4b34-bcf1-edecf76acbd5\", \"stations_facilities_expanded_filled.csv\", 43578)"
            ]
          },
          "metadata": {}
        }
      ]
    },
    {
      "cell_type": "markdown",
      "source": [
        "# tfl-stationdata-detailed.zip"
      ],
      "metadata": {
        "id": "IdsYjdl9YKMb"
      }
    },
    {
      "cell_type": "code",
      "source": [
        "import requests\n",
        "import zipfile\n",
        "import io\n",
        "import pandas as pd\n",
        "\n",
        "url = \"https://api.tfl.gov.uk/stationdata/tfl-stationdata-detailed.zip\"\n",
        "print(\"Downloading ZIP file...\")\n",
        "response = requests.get(url)\n",
        "\n",
        "print(\"Extracting ZIP file...\")\n",
        "with zipfile.ZipFile(io.BytesIO(response.content)) as zip_ref:\n",
        "    zip_ref.extractall(\"stationdata\")\n",
        "\n",
        "import os\n",
        "extracted_files = os.listdir(\"stationdata\")\n",
        "print(f\"Extracted files: {extracted_files}\")\n",
        "\n",
        "for file in extracted_files:\n",
        "    if file.endswith(\".csv\"):\n",
        "        df = pd.read_csv(f\"stationdata/{file}\")\n",
        "        print(f\"Loaded {file}\")\n",
        "        print(df.head())\n",
        "    elif file.endswith(\".json\"):\n",
        "        df = pd.read_json(f\"stationdata/{file}\")\n",
        "        print(f\"Loaded {file}\")\n",
        "        print(df.head())\n"
      ],
      "metadata": {
        "colab": {
          "base_uri": "https://localhost:8080/"
        },
        "id": "WXWdwznQIEn_",
        "outputId": "f5f79bd1-18cb-4617-db6c-ac907d6ce06f"
      },
      "execution_count": 16,
      "outputs": [
        {
          "output_type": "stream",
          "name": "stdout",
          "text": [
            "Downloading ZIP file...\n",
            "Extracting ZIP file...\n",
            "Extracted files: ['StationPoints.csv', 'Toilets.csv', 'Lifts.csv', 'StepFreeIntechangeInfo.csv', 'ModesAndLines.csv', 'Platforms.csv', 'PlatformServices.csv', 'SameLevelPaths.csv', 'RampRoutes.csv', 'Stations.csv', 'FeedInfo.csv']\n",
            "Loaded StationPoints.csv\n",
            "                     UniqueId StationUniqueId AreaName  AreaId  Level  \\\n",
            "0    910GACTNCTL-1001002-AC-3     910GACTNCTL       AC       3      0   \n",
            "1   910GACTNCTL-1001002-Bus-1     910GACTNCTL      Bus       1      0   \n",
            "2  910GACTNCTL-1001002-ENTR-7     910GACTNCTL     ENTR       7      0   \n",
            "3   910GACTNCTL-1001002-RLY-4     910GACTNCTL      RLY       4      1   \n",
            "4   910GACTNCTL-1001002-RPL-2     910GACTNCTL      RPL       2      1   \n",
            "\n",
            "        Lat      Lon FriendlyName  \n",
            "0  51.50862 -0.26351           AC  \n",
            "1  51.50651 -0.26372          Bus  \n",
            "2  51.50892 -0.26260         ENTR  \n",
            "3  51.50865 -0.26293          RLY  \n",
            "4  51.50865 -0.26306          RPL  \n",
            "Loaded Toilets.csv\n",
            "  StationUniqueId  Id IsAccessible  HasBabyChanging  IsInsideGateLine  \\\n",
            "0     910GACTONML   1         TRUE            False              True   \n",
            "1     910GBHILLPK   1        FALSE            False              True   \n",
            "2     910GBHILLPK   2        FALSE            False              True   \n",
            "3     910GBHILLPK   3         TRUE             True              True   \n",
            "4       910GBNHAM   1        FALSE            False              True   \n",
            "\n",
            "                 Location  IsFeeCharged    Type  IsManagedByTfL  \n",
            "0  Located in ticket hall         False  Unisex            True  \n",
            "1                     NaN         False    Male            True  \n",
            "2                     NaN         False  Female            True  \n",
            "3                     NaN         False  Unisex            True  \n",
            "4   Located on platform 2         False    Male            True  \n",
            "Loaded Lifts.csv\n",
            "  StationUniqueId        LiftUniqueId LiftId NationalRailUprn LiftName  \\\n",
            "0     910GACTONML  910GACTONML-Lift-1      1              NaN      NaN   \n",
            "1     910GACTONML  910GACTONML-Lift-2      2              NaN      NaN   \n",
            "2      910GBRENTX   910GBRENTX-Lift-1      1              NaN      NaN   \n",
            "3      910GBRENTX   910GBRENTX-Lift-2      2              NaN      NaN   \n",
            "4      910GBRENTX   910GBRENTX-Lift-3      3              NaN      NaN   \n",
            "\n",
            "  FriendlyName                   FromAreas IntermediateAreas  \\\n",
            "0       Lift A  910GACTONML-1001003-AC-S-6               NaN   \n",
            "1       Lift B  910GACTONML-1001003-AC-S-6               NaN   \n",
            "2       Lift 1   910GBRENTX-1002310-EntW-7               NaN   \n",
            "3      Lift 2     910GBRENTX-1002310-RLY-5               NaN   \n",
            "4      Lift 3     910GBRENTX-1002310-RLY-5               NaN   \n",
            "\n",
            "  IntermediateAreas2                                            ToAreas  \\\n",
            "0                NaN                         910GACTONML-1001003-RPL1-2   \n",
            "1                NaN                         910GACTONML-1001003-RPL2-5   \n",
            "2                NaN                            910GBRENTX-1002310-FB-8   \n",
            "3                NaN  910GBRENTX-1002310-RPL4-10|910GBRENTX-1002310-...   \n",
            "4                NaN  910GBRENTX-1002310-RPL2-3|910GBRENTX-1002310-R...   \n",
            "\n",
            "   LimitedCapacityLift LiftNotes  \n",
            "0                False       NaN  \n",
            "1                False       NaN  \n",
            "2                False       NaN  \n",
            "3                False       NaN  \n",
            "4                False       NaN  \n",
            "Loaded StepFreeIntechangeInfo.csv\n",
            "                      FromPlatformUniqueId  \\\n",
            "0  910GACTNCTL-Plat01-WB-london-overground   \n",
            "1  910GACTNCTL-Plat02-EB-london-overground   \n",
            "2  910GANERLEY-Plat01-NB-london-overground   \n",
            "3  910GANERLEY-Plat02-SB-london-overground   \n",
            "4  910GBHILLPK-Plat01-SB-london-overground   \n",
            "\n",
            "                        ToPlatformUniqueId  DistanceInMetres  \n",
            "0  910GACTNCTL-Plat02-EB-london-overground                50  \n",
            "1  910GACTNCTL-Plat01-WB-london-overground                50  \n",
            "2  910GANERLEY-Plat02-SB-london-overground               220  \n",
            "3  910GANERLEY-Plat01-NB-london-overground               220  \n",
            "4  910GBHILLPK-Plat02-NB-london-overground               290  \n",
            "Loaded ModesAndLines.csv\n",
            "           Mode              Name\n",
            "0      cableCar  london-cable-car\n",
            "1           dlr               dlr\n",
            "2  nationalRail        thameslink\n",
            "3  nationalRail     national-rail\n",
            "4    overground           liberty\n",
            "Loaded Platforms.csv\n",
            "                                  UniqueId StationUniqueId PlatformNumber  \\\n",
            "0           HUBABW-Plat01-WB-national-rail          HUBABW              1   \n",
            "1           HUBABW-Plat02-EB-national-rail          HUBABW              2   \n",
            "2               HUBABW-Plat03-WB-elizabeth          HUBABW              3   \n",
            "3               HUBABW-Plat04-WB-elizabeth          HUBABW              4   \n",
            "4  910GACTNCTL-Plat01-WB-london-overground     910GACTNCTL              1   \n",
            "\n",
            "  CardinalDirection PlatformNaptanCode           FriendlyName  \\\n",
            "0         Westbound                NaN  Westbound Platform 1    \n",
            "1         Eastbound                NaN  Eastbound Platform 2    \n",
            "2         Westbound                NaN   Westbound Platform 3   \n",
            "3         Westbound                NaN   Westbound Platform 4   \n",
            "4         Westbound                NaN   Westbound Platform 1   \n",
            "\n",
            "   IsCustomerFacing  HasServiceInterchange AccessibleEntranceName  \\\n",
            "0              True                  False                    NaN   \n",
            "1              True                  False                    NaN   \n",
            "2              True                  False                    NaN   \n",
            "3              True                  False                    NaN   \n",
            "4              True                  False  East Churchfield Road   \n",
            "\n",
            "   HasStepFreeRouteInformation  \n",
            "0                         True  \n",
            "1                         True  \n",
            "2                         True  \n",
            "3                         True  \n",
            "4                         True  \n",
            "Loaded PlatformServices.csv\n",
            "                          PlatformUniqueId StopAreaNaptanCode           Line  \\\n",
            "0           HUBABW-Plat01-WB-national-rail           910GABWD  national-rail   \n",
            "1           HUBABW-Plat02-EB-national-rail           910GABWD  national-rail   \n",
            "2               HUBABW-Plat03-WB-elizabeth           910GABWD      elizabeth   \n",
            "3               HUBABW-Plat04-WB-elizabeth           910GABWD      elizabeth   \n",
            "4  910GACTNCTL-Plat01-WB-london-overground        910GACTNCTL        mildmay   \n",
            "\n",
            "  DirectionTowards  MinGap  MaxGap  AverageGap  MinStep  MaxStep  AverageStep  \\\n",
            "0              NaN     NaN     NaN         NaN      NaN      NaN          NaN   \n",
            "1              NaN     NaN     NaN         NaN      NaN      NaN          NaN   \n",
            "2              NaN     NaN     NaN         NaN      NaN      NaN          NaN   \n",
            "3              NaN     NaN     NaN         NaN      NaN      NaN          NaN   \n",
            "4         Richmond     NaN     NaN         NaN      NaN      NaN          NaN   \n",
            "\n",
            "   DesignatedLevelAccessPoint LocationOfLevelAccess  LevelAccessByManualRamp  \\\n",
            "0                       False                   NaN                     True   \n",
            "1                       False                   NaN                     True   \n",
            "2                       False                   NaN                     True   \n",
            "3                       False                   NaN                     True   \n",
            "4                       False                   NaN                     True   \n",
            "\n",
            "                  AdditionalAccessibilityInformation GroupName  \n",
            "0                                                NaN       NaN  \n",
            "1                                                NaN       NaN  \n",
            "2                                                NaN       NaN  \n",
            "3                                                NaN       NaN  \n",
            "4  Step-free platform interchange requires a 50m ...       NaN  \n",
            "Loaded SameLevelPaths.csv\n",
            "                         From                          To\n",
            "0    910GACTNCTL-1001002-AC-3   910GACTNCTL-1001002-Bus-1\n",
            "1   910GACTNCTL-1001002-Bus-1    910GACTNCTL-1001002-AC-3\n",
            "2   910GACTNCTL-1001002-Bus-1  910GACTNCTL-1001002-ENTR-7\n",
            "3  910GACTNCTL-1001002-ENTR-7   910GACTNCTL-1001002-Bus-1\n",
            "4   910GACTNCTL-1001002-RLY-4   910GACTNCTL-1001002-RPL-2\n",
            "Loaded RampRoutes.csv\n",
            "                         From                           To\n",
            "0    910GACTNCTL-1001002-AC-3    910GACTNCTL-1001002-RLY-4\n",
            "1  910GACTNCTL-1001002-ENTR-7    910GACTNCTL-1001002-RPL-5\n",
            "2   910GACTNCTL-1001002-RLY-4     910GACTNCTL-1001002-AC-3\n",
            "3   910GACTNCTL-1001002-RPL-5   910GACTNCTL-1001002-ENTR-7\n",
            "4  910GBCKNHMH-1001017-EntM-6  910GBCKNHMH-1001017-RPL-S-3\n",
            "Loaded Stations.csv\n",
            "      UniqueId             Name FareZones HubNaptanCode   Wifi  \\\n",
            "0       HUBABW       Abbey Wood         4        HUBABW  False   \n",
            "1  910GACTNCTL    Acton Central         3           NaN   True   \n",
            "2  910GACTONML  Acton Main Line         3           NaN  False   \n",
            "3  910GANERLEY          Anerley         4           NaN   True   \n",
            "4  910GBCKNHMH   Beckenham Hill         4           NaN  False   \n",
            "\n",
            "  OutsideStationUniqueId  BlueBadgeCarParking  BlueBadgeCarParkSpaces  \\\n",
            "0         HUBABW-Outside                False                     NaN   \n",
            "1    910GACTNCTL-Outside                False                     NaN   \n",
            "2    910GACTONML-Outside                False                     NaN   \n",
            "3    910GANERLEY-Outside                False                     NaN   \n",
            "4    910GBCKNHMH-Outside                False                     NaN   \n",
            "\n",
            "   TaxiRanksOutsideStation MainBusInterchange PierInterchange  \\\n",
            "0                    False                NaN             NaN   \n",
            "1                    False                NaN             NaN   \n",
            "2                    False                NaN             NaN   \n",
            "3                    False                NaN             NaN   \n",
            "4                    False                NaN             NaN   \n",
            "\n",
            "  NationalRailInterchange AirportInterchange EmiratesAirLineInterchange  \n",
            "0                     NaN                NaN                        NaN  \n",
            "1                     NaN                NaN                        NaN  \n",
            "2                     NaN                NaN                        NaN  \n",
            "3                     NaN                NaN                        NaN  \n",
            "4                     NaN                NaN                        NaN  \n",
            "Loaded FeedInfo.csv\n",
            "      FeedPublisherName    FeedPublisherUrl FeedLang           FeedStartDate\n",
            "0  Transport for London  https://tfl.gov.uk       en  2025-03-14T14:29+00:00\n"
          ]
        }
      ]
    }
  ]
}