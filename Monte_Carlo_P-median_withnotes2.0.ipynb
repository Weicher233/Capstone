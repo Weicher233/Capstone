{
 "cells": [
  {
   "cell_type": "code",
   "execution_count": 1,
   "id": "d125a5d0",
   "metadata": {},
   "outputs": [],
   "source": [
    "import numpy as np\n",
    "import pandas as pd\n",
    "import requests\n",
    "import networkx as nx\n",
    "import random\n",
    "import matplotlib.pyplot as plt\n",
    "from itertools import combinations\n",
    "import seaborn as sns"
   ]
  },
  {
   "cell_type": "code",
   "execution_count": 2,
   "id": "111e4d35",
   "metadata": {},
   "outputs": [
    {
     "name": "stdout",
     "output_type": "stream",
     "text": [
      "['_Cover', 'Link_Loads', 'Link_Frequencies', 'Line_Boarders', 'Station_Flows', 'Station_Entries', 'Station_Exits', 'Station_Boarders', 'Station_Alighters']\n"
     ]
    }
   ],
   "source": [
    "url = \"https://crowding.data.tfl.gov.uk/NUMBAT/NUMBAT%202023/NBT23FRI_outputs.xlsx\"\n",
    "\n",
    "r = requests.get(url)\n",
    "with open(\"NBT23FRI_outputs.xlsx\", \"wb\") as f:\n",
    "    f.write(r.content)\n",
    "\n",
    "xls = pd.ExcelFile(\"NBT23FRI_outputs.xlsx\")\n",
    "print(xls.sheet_names)"
   ]
  },
  {
   "cell_type": "markdown",
   "id": "7f5ba1be",
   "metadata": {},
   "source": [
    "## Monte Carlo-Based Route Simulation"
   ]
  },
  {
   "cell_type": "markdown",
   "id": "781b3a00",
   "metadata": {},
   "source": [
    "To capture realistic patterns of passenger movement within the transport network, we implemented a Monte Carlo simulation pipeline. A directed graph was first constructed from station-to-station flow data, with each edge weighted by total passenger volume. Transfer behavior at interchange stations was modeled probabilistically, allowing random transitions between lines based on a predefined switching probability.\n",
    "\n",
    "In our simulation, transfer behavior at interchange stations was modeled using a fixed 30% probability, representing a moderate level of assumed switching. While not derived from a specific empirical study, this value reflects conventions commonly adopted in agent-based transport simulations where detailed behavioral data is unavailable (Zheng et al., 2013). Transitions along transit links were weighted by observed station-to-station passenger volumes, ensuring that, despite the assumed transfer heuristic, route choices remain largely governed by observed flow patterns.\n",
    "\n",
    "To prevent overly complex or unrealistic passenger paths, each simulated journey was capped at five steps (i.e., up to five transfers). This aligns with empirical findings from TfL and other urban transit studies, which suggest that most passengers make fewer than 3-5 transfers per trip (Zhong et al., 2014; Nagel et al., 2007).\n",
    "\n",
    "We conducted 30,000 simulations, using a fixed random seed to ensure reproducibility. Each simulated route began at a station selected in proportion to its observed entry volume, and proceeded step by step, with each subsequent station drawn from a weighted distribution informed by observed link flows and the 30% transfer probability. This stochastic framework captures both dominant travel behaviors and realistic variation in passenger routing.\n",
    "\n",
    "After the simulation, we extracted all origin-destination (OD) pairs and computed their occurrence frequencies. To focus on consistently recurring travel patterns, we retained only those OD pairs that appeared 15 times or more across the 30,000 simulations. This threshold was chosen based on the highly skewed frequency distribution of OD pairs, allowing us to exclude extremely rare, potentially random routes and concentrate the analysis on statistically meaningful patterns.\n",
    "\n",
    "_References:_  \n",
    "_Zheng, H., Son, Y.-J., Chiu, Y.-C., Head, L., Feng, Y., Xi, H., Kim, S., & Hickman, M. (2013). A Primer for Agent-Based Simulation and Modeling in Transportation Applications. U.S. Department of Transportation, Federal Highway Administration, Office of Operations Research and Development. https://trid.trb.org/view/1278955._  \n",
    "_Zhong, C., Arisona, S. M., Huang, X., Batty, M., & Schmitt, G. (2014). Detecting the dynamics of urban structure through spatial network analysis. International Journal of Geographical Information Science, 28(11), 2178-2199. https://doi.org/10.1080/13658816.2014.914521_  \n",
    "_Nagel, K., & Marchal, F. (2007). Computational methods for multi-agent simulations of travel behavior. https://www.researchgate.net/publication/239538480_Computational_methods_for_multi-agent_simulations_of_travel_behavior_  "
   ]
  },
  {
   "cell_type": "markdown",
   "id": "3330c793",
   "metadata": {},
   "source": [
    "**Note:**  \n",
    "In the early stage of our analysis, we used the `Link_Load` data to simulate approximately 30,000 complete passenger trajectories through the London Underground. This was intended to reflect realistic travel paths and network usage patterns.\n",
    "\n",
    "However, as the focus of the project shifted toward origin-destination (OD) pair analysis—particularly to identify high-frequency start-end combinations for accessibility improvement—the simulation results were summarized at the OD level.\n",
    "\n",
    "While `Station_Flow` provides platform-level detail—including movement types (Board, Alight, Interchange), line directions (e.g., \"Piccadilly // WB\"), and time periods—it lacks explicit, end-to-end directional pairing between origin and destination stations. Although individual segments can be interpreted manually, reconstructing full journeys requires assumptions across interchanges, as the dataset does not contain sequential trip logic or passenger paths across multiple stations.\n",
    "\n",
    "For our Monte Carlo simulation, which involved scalable generation of realistic passenger journeys, we required a dataset that naturally supports path-based modeling at the OD level. Therefore, we selected `Link_Loads` as our core data source. Unlike `Station_Flow`, `Link_Loads` directly encodes station-to-station passenger volumes along transit links, providing a clearer structure for constructing a weighted, directed graph of the network."
   ]
  },
  {
   "cell_type": "code",
   "execution_count": 3,
   "id": "fbc9ee6a",
   "metadata": {},
   "outputs": [],
   "source": [
    "df_links = pd.read_excel(xls, sheet_name=\"Link_Loads\", header=2)\n",
    "df_flows = pd.read_excel(xls, sheet_name=\"Station_Flows\", header=2)\n",
    "df_entries = pd.read_excel(xls, sheet_name=\"Station_Entries\", header=2)\n",
    "df_exits = pd.read_excel(xls, sheet_name=\"Station_Exits\", header=2)\n",
    "df_boarders = pd.read_excel(xls, sheet_name=\"Station_Boarders\", header=2)\n",
    "df_alighters = pd.read_excel(xls, sheet_name=\"Station_Alighters\", header=2)\n",
    "\n",
    "# Extract a list of interchange station names from flow data\n",
    "def extract_interchange_stations(df_flows):\n",
    "    interchange_rows = df_flows[df_flows[\"Movement\"].str.contains(\"Interchange\", na=False)]\n",
    "    interchange_stations = interchange_rows[\"To Station\"].dropna().unique().tolist()\n",
    "    return interchange_stations\n",
    "\n",
    "# # Construct a directed graph where nodes are stations and edges represent flows\n",
    "# def build_graph_from_links(df_links, entry_stations=None, exit_stations=None):\n",
    "#     G = nx.DiGraph()\n",
    "#     for _, r in df_links.iterrows():\n",
    "#         # Add edge with weight = flow volume\n",
    "#         G.add_edge(r[\"From Station\"], r[\"To Station\"], weight=r[\"Total\"])\n",
    "#     # Ensure all entry and exit stations are included in the graph.\n",
    "#     # This step prevents missing nodes when some stations appear only in df_entries/df_exits\n",
    "#     # but not in the link-level flow data (df_links). Without this, the graph G may be incomplete, \n",
    "#     # leading to simulation errors or missing routes.\n",
    "#     if len(entry_stations) > 0:\n",
    "#         for station in entry_stations:\n",
    "#             if station not in G:\n",
    "#                 G.add_node(station)\n",
    "#     if len(exit_stations) > 0:\n",
    "#         for station in exit_stations:\n",
    "#             if station not in G:\n",
    "#                 G.add_node(station)\n",
    "#     return G\n",
    "\n",
    "# Construct a directed graph where nodes are stations and edges represent flows\n",
    "def build_graph_from_links(df_links, entry_stations=None, exit_stations=None):\n",
    "    G = nx.DiGraph()\n",
    "    \n",
    "    from_stations = set()\n",
    "    to_stations = set()\n",
    "\n",
    "    for _, r in df_links.iterrows():\n",
    "        # Add edge with weight = flow volume\n",
    "        from_stations.add(r[\"From Station\"])\n",
    "        to_stations.add(r[\"To Station\"])\n",
    "        G.add_edge(r[\"From Station\"], r[\"To Station\"], weight=r[\"Total\"])\n",
    "\n",
    "    # Flag suspicious station names not in df_links\n",
    "    if entry_stations is not None and len(entry_stations) > 0:\n",
    "        missing_entries = [s for s in entry_stations if s not in from_stations and s not in to_stations]\n",
    "        if missing_entries:\n",
    "            print(f\"[Warning] Entry stations not found in df_links: {missing_entries}\")\n",
    "    if exit_stations is not None and len(exit_stations) > 0:\n",
    "        missing_exits = [s for s in exit_stations if s not in from_stations and s not in to_stations]\n",
    "        if missing_exits:\n",
    "            print(f\"[Warning] Exit stations not found in df_links: {missing_exits}\")\n",
    "\n",
    "    # Still add them to avoid simulation errors (but now at least can know which are missing)\n",
    "    # Note: To avoid simulation interruptions, we ensured all entry and exit stations are included in the graph \n",
    "    # even if not found in the Link_Loads dataset. \n",
    "    # However, a warning is printed when mismatched names are detected, \n",
    "    # helping us identify possible inconsistencies in station naming (e.g., Camden Town vs Camden Town LU). \n",
    "    # These are manually reviewed and corrected where necessary.\n",
    "    if entry_stations is not None and len(entry_stations) > 0:\n",
    "        for station in entry_stations:\n",
    "            if station not in G:\n",
    "                G.add_node(station)\n",
    "    if exit_stations is not None and len(exit_stations) > 0:\n",
    "        for station in exit_stations:\n",
    "            if station not in G:\n",
    "                G.add_node(station)\n",
    "\n",
    "    return G\n",
    "\n",
    "def build_entry_weights(df_entries):\n",
    "    entries = df_entries[[\"Station\", \"Total\"]].dropna()\n",
    "    return dict(zip(entries[\"Station\"], entries[\"Total\"]))\n",
    "\n",
    "def build_exit_weights(df_exits):\n",
    "    exits = df_exits[[\"Station\", \"Total\"]].dropna()\n",
    "    return dict(zip(exits[\"Station\"], exits[\"Total\"]))\n",
    "\n",
    "# Create dictionaries for total boardings and alightings per station\n",
    "def build_board_alight_dicts(df_boarders, df_alighters):\n",
    "    board_dict = df_boarders.groupby(\"Station\")[\"Total\"].sum().to_dict()\n",
    "    alight_dict = df_alighters.groupby(\"Station\")[\"Total\"].sum().to_dict()\n",
    "    return board_dict, alight_dict\n",
    "\n",
    "# Simulate a single route starting from a given station\n",
    "# Incorporates random transfers at interchange stations and weighted moves based on flow\n",
    "\n",
    "# max_transfers controls the maximum number of inter-line transfers in a simulated route.\n",
    "# A value of 5 reflects typical commuter behavior, where most metro users make fewer than 3-5 transfers per journey.\n",
    "# This cap avoids overly complex routes while preserving realistic trip patterns and ensuring computational efficiency.\n",
    "\n",
    "# transfer_prob: assumed probability that a passenger will transfer at an interchange station (30%).\n",
    "# This is consistent with agent-based modeling practices where detailed behavioral data is unavailable,\n",
    "# and was referenced from heuristics in Zheng et al. (2013).\n",
    "def simulate_route(G, start, interchange_list, board_dict, alight_dict,\n",
    "                   max_transfers=5, transfer_prob=0.3):\n",
    "\n",
    "    path = [start]\n",
    "    cur = start\n",
    "    score = 0\n",
    "    transfer_count = 0 # New: transfer count to limit transfers\n",
    "\n",
    "    while transfer_count < max_transfers:\n",
    "        # Possibly transfer at interchange stations based on probability\n",
    "        if cur in interchange_list and random.random() < transfer_prob:\n",
    "            candidates = [s for s in G.successors(cur) if s in interchange_list and s not in path]\n",
    "            if candidates:\n",
    "                # Transfers at interchange stations are chosen uniformly at random among possible successors.\n",
    "                # This reflects the lack of detailed transfer preference data.\n",
    "                nxt = random.choice(candidates)\n",
    "                path.append(f\"[TRANSFER→]{nxt}\")\n",
    "                cur = nxt\n",
    "                transfer_count += 1 \n",
    "                continue\n",
    "\n",
    "        if cur not in G:\n",
    "            break\n",
    "        # If no transfer occurs, choose among all successor stations not yet visited.\n",
    "        # Interchange stations are not excluded here to allow for indirect transfers or returns.\n",
    "        succ = [s for s in G.successors(cur) if s not in path]\n",
    "        if not succ:\n",
    "            break\n",
    "        # Choose next station based on link weights (passenger volume)\n",
    "        weights = [G[cur][s][\"weight\"] for s in succ]\n",
    "        # If all weights are zero or if no successors remain, break the loop.\n",
    "        # This ensures robustness against missing data or isolated nodes.\n",
    "        if sum(weights) == 0 or len(weights) != len(succ):\n",
    "            break\n",
    "        cur = random.choices(succ, weights=weights, k=1)[0]\n",
    "        path.append(cur)\n",
    "        # Accumulate a score representing passenger flow intensity at each visited station.\n",
    "        # The score is calculated as the sum of boardings and alightings; default = 0 ensures robustness for stations with missing data.\n",
    "        # This metric can be used to evaluate how \"popular\" or realistic a simulated route is, supporting downstream analysis or prioritization.\n",
    "        score += board_dict.get(cur, 0) + alight_dict.get(cur, 0)\n",
    "    return path, score\n",
    "\n",
    "# Run multiple route simulations and collect results\n",
    "def run_simulation_pipeline(df_links, df_flows, df_entries, df_exits, df_boarders, df_alighters,\n",
    "                            num_routes=10000):\n",
    "    \n",
    "    interchange_stations = extract_interchange_stations(df_flows)\n",
    "    entry_stations = df_entries[\"Station\"].dropna().unique()\n",
    "    exit_stations = df_exits[\"Station\"].dropna().unique()\n",
    "    start_stations = df_entries.sort_values(by=\"Total\", ascending=False)[\"Station\"].tolist()\n",
    "    end_stations = df_exits.sort_values(by=\"Total\", ascending=False)[\"Station\"].tolist()\n",
    "    G = build_graph_from_links(df_links, entry_stations, exit_stations)\n",
    "    entry_weights = build_entry_weights(df_entries)\n",
    "    exit_weights = build_exit_weights(df_exits)\n",
    "    board_dict, alight_dict = build_board_alight_dicts(df_boarders, df_alighters)\n",
    "\n",
    "    starts = list(entry_weights.keys())\n",
    "    raw_weights = np.array([entry_weights[s] for s in starts])\n",
    "\n",
    "    # Convert raw weights to log scale to reduce skewness and improve numerical stability\n",
    "    log_weights = np.log1p(raw_weights)\n",
    "    entry_weights = dict(zip(starts, log_weights))\n",
    "    weights = list(entry_weights.values())\n",
    "\n",
    "    routes = []\n",
    "    scores = []\n",
    "    ends = []\n",
    "\n",
    "    for _ in range(num_routes):\n",
    "        start = random.choices(starts, weights=weights, k=1)[0]\n",
    "        path, score = simulate_route(G, start, interchange_stations, board_dict, alight_dict)\n",
    "        routes.append(path)\n",
    "        scores.append(score)\n",
    "        # Remove transfer tags to get clean end station\n",
    "        clean_path = [step for step in path if not str(step).startswith(\"[TRANSFER\")]\n",
    "        end = clean_path[-1] if len(clean_path) >= 2 else None\n",
    "        ends.append(end)\n",
    "\n",
    "    df_result = pd.DataFrame({\n",
    "        \"Route\": routes,\n",
    "        \"Score\": scores,\n",
    "        \"End\": ends\n",
    "    })\n",
    "\n",
    "    df_result[\"End Exit Volume\"] = df_result[\"End\"].map(exit_weights)\n",
    "\n",
    "    df_result[\"Start\"] = df_result[\"Route\"].apply(lambda x: x[0] if len(x) > 0 else None)\n",
    "    df_result = df_result[df_result[\"Start\"].isin(start_stations) & df_result[\"End\"].isin(end_stations)]\n",
    "\n",
    "    return df_result\n",
    "\n",
    "def plot_route_pair_frequencies(df_result):\n",
    "    # Although the initial design aimed at visualizing top simulated routes on a network map (which required a string-based \"Route_Pair\"), \n",
    "    # the project focus was later refined toward OD-pair-based analysis and accessibility optimization. \n",
    "    # Nevertheless, the \"Route_Pair\" representation remains useful for summarizing and ranking simulated OD pairs by frequency,\n",
    "    # which supports our selection of key pairs for further optimization comparison.\n",
    "    # Create a combined Start-End key for each route\n",
    "    df_result[\"Route_Pair\"] = df_result[\"Start\"] + \" → \" + df_result[\"End\"]\n",
    "\n",
    "    # Count frequency of each unique Start-End pair\n",
    "    pair_counts = df_result[\"Route_Pair\"].value_counts().reset_index()\n",
    "    pair_counts.columns = [\"Route_Pair\", \"Count\"]\n",
    "\n",
    "    # Sort by frequency descending\n",
    "    pair_counts = pair_counts.sort_values(by=\"Count\", ascending=False).reset_index(drop=True)\n",
    "\n",
    "    # Plot the frequencies as a line chart\n",
    "    plt.figure(figsize=(14, 6))\n",
    "    plt.plot(range(len(pair_counts)), pair_counts[\"Count\"], marker='o', linewidth=1.5)\n",
    "    plt.title(\"Frequency of Simulated Start-End Route Pairs\", fontsize=14)\n",
    "    plt.xlabel(\"Route Pair Rank (sorted by frequency)\", fontsize=12)\n",
    "    plt.ylabel(\"Number of Simulated Occurrences\", fontsize=12)\n",
    "    plt.grid(True, linestyle='--', alpha=0.5)\n",
    "    plt.tight_layout()\n",
    "    plt.show()"
   ]
  },
  {
   "cell_type": "markdown",
   "id": "e6c863de",
   "metadata": {},
   "source": [
    "**Note:**  \n",
    "\n",
    "In this simulation, we did not explicitly constrain the route to end at a known exit station. Instead, we capped the number of inter-line transfers to five, reflecting common travel patterns observed in large-scale transport studies (Zhong et al., 2014; Nagel et al., 2007). This cap allows journeys to continue through many stations as long as the number of transfers remains within realistic limits, avoiding overly complex or unlikely paths.\n",
    "\n",
    "The final station in each simulated path does not represent a literal exit, but a plausible stopping point after a realistic sequence of transfers. This abstraction aligns with our goal of identifying high-likelihood route segments, rather than precisely modeling exit behavior.\n",
    "\n",
    "As the primary aim of this simulation is to uncover typical routing patterns between entry points and potential destinations, rather than exact OD pairs, this approximation is considered suitable for OD-based accessibility analysis.\n",
    "\n",
    "Moreover, the station exit dataset reflects \"typical day\" flows with major disruptions and anomalies removed. While this improves consistency, it may under-represent less frequent patterns—such as low-traffic or off-peak exits. Enforcing termination at these stations could introduce bias or exclude valid journeys. To mitigate this, we allow routes to end organically after a capped number of transfers, using `max_transfers` as a practical constraint."
   ]
  },
  {
   "cell_type": "markdown",
   "id": "980dd7be",
   "metadata": {},
   "source": [
    "To capture the variability and distribution of possible travel routes in a realistic manner, we employed a Monte Carlo simulation approach. A total of 30,000 simulation runs were conducted. This number was selected as a balance between computational efficiency and statistical robustness.\n",
    "  \n",
    "According to the law of large numbers and the central limit theorem, the accuracy of Monte Carlo estimates improves at a rate of O(1/N^(1/2)), where N is the number of samples. In practical terms, increasing the number of runs from 10,000 to 30,000 reduces the expected standard error by approximately 42%, which significantly improves the stability of the estimated route frequency distribution without incurring excessive computational cost.\n",
    "  \n",
    "Furthermore, as discussed in Glasserman (2003) and Rubinstein & Kroese (2016), simulation sizes in the range of 10,000 to 100,000 are typically sufficient for modeling aggregate behaviors in large-scale stochastic systems, such as transportation networks. Therefore, we consider 30,000 simulations appropriate for capturing the dominant patterns in route choices and interchange behaviors within our data-driven model.\n",
    "  \n",
    "_References:_  \n",
    "_Glasserman, P. (2003). Monte Carlo Methods in Financial Engineering. Springer_  \n",
    "_Rubinstein, R. Y., & Kroese, D. P. (2016). Simulation and the Monte Carlo Method (3rd ed.). Wiley_"
   ]
  },
  {
   "cell_type": "code",
   "execution_count": 4,
   "id": "42ab77c3",
   "metadata": {},
   "outputs": [
    {
     "name": "stdout",
     "output_type": "stream",
     "text": [
      "[Warning] Entry stations not found in df_links: ['Camden Town', 'Kennington']\n",
      "[Warning] Exit stations not found in df_links: ['Camden Town', 'Kennington']\n"
     ]
    },
    {
     "data": {
      "text/html": [
       "<div>\n",
       "<style scoped>\n",
       "    .dataframe tbody tr th:only-of-type {\n",
       "        vertical-align: middle;\n",
       "    }\n",
       "\n",
       "    .dataframe tbody tr th {\n",
       "        vertical-align: top;\n",
       "    }\n",
       "\n",
       "    .dataframe thead th {\n",
       "        text-align: right;\n",
       "    }\n",
       "</style>\n",
       "<table border=\"1\" class=\"dataframe\">\n",
       "  <thead>\n",
       "    <tr style=\"text-align: right;\">\n",
       "      <th></th>\n",
       "      <th>Route</th>\n",
       "      <th>Score</th>\n",
       "      <th>End</th>\n",
       "      <th>End Exit Volume</th>\n",
       "      <th>Start</th>\n",
       "    </tr>\n",
       "  </thead>\n",
       "  <tbody>\n",
       "    <tr>\n",
       "      <th>0</th>\n",
       "      <td>[Marylebone LU, Edgware Road (Bak), [TRANSFER→...</td>\n",
       "      <td>1.915161e+06</td>\n",
       "      <td>Stockwell</td>\n",
       "      <td>11418.710499</td>\n",
       "      <td>Marylebone LU</td>\n",
       "    </tr>\n",
       "    <tr>\n",
       "      <th>1</th>\n",
       "      <td>[Burnt Oak, Edgware]</td>\n",
       "      <td>1.334343e+04</td>\n",
       "      <td>Edgware</td>\n",
       "      <td>6604.488171</td>\n",
       "      <td>Burnt Oak</td>\n",
       "    </tr>\n",
       "    <tr>\n",
       "      <th>2</th>\n",
       "      <td>[Wimbledon Park, Southfields, East Putney, Put...</td>\n",
       "      <td>1.730589e+06</td>\n",
       "      <td>King's Cross St. Pancras</td>\n",
       "      <td>122827.765441</td>\n",
       "      <td>Wimbledon Park</td>\n",
       "    </tr>\n",
       "    <tr>\n",
       "      <th>3</th>\n",
       "      <td>[Langdon Park, Devons Road, Bow Church, Puddin...</td>\n",
       "      <td>7.089259e+05</td>\n",
       "      <td>Canary Wharf EL</td>\n",
       "      <td>23414.970073</td>\n",
       "      <td>Langdon Park</td>\n",
       "    </tr>\n",
       "    <tr>\n",
       "      <th>4</th>\n",
       "      <td>[Westferry, Limehouse DLR, Shadwell DLR, Bank ...</td>\n",
       "      <td>1.531277e+06</td>\n",
       "      <td>Angel</td>\n",
       "      <td>21339.307030</td>\n",
       "      <td>Westferry</td>\n",
       "    </tr>\n",
       "    <tr>\n",
       "      <th>5</th>\n",
       "      <td>[Shenfield, Brentwood, Harold Wood, Gidea Park...</td>\n",
       "      <td>1.039973e+06</td>\n",
       "      <td>Barking</td>\n",
       "      <td>25951.668285</td>\n",
       "      <td>Shenfield</td>\n",
       "    </tr>\n",
       "    <tr>\n",
       "      <th>6</th>\n",
       "      <td>[Bushey, Carpenders Park, Hatch End, Headstone...</td>\n",
       "      <td>9.021720e+04</td>\n",
       "      <td>Harlesden</td>\n",
       "      <td>4415.004122</td>\n",
       "      <td>Bushey</td>\n",
       "    </tr>\n",
       "    <tr>\n",
       "      <th>7</th>\n",
       "      <td>[London Bridge LU, Bank and Monument, Liverpoo...</td>\n",
       "      <td>2.506706e+06</td>\n",
       "      <td>Hammersmith (DIS)</td>\n",
       "      <td>30293.731838</td>\n",
       "      <td>London Bridge LU</td>\n",
       "    </tr>\n",
       "    <tr>\n",
       "      <th>8</th>\n",
       "      <td>[Barking Riverside, Barking, Upney, Becontree,...</td>\n",
       "      <td>1.944881e+06</td>\n",
       "      <td>Oxford Circus</td>\n",
       "      <td>88888.967042</td>\n",
       "      <td>Barking Riverside</td>\n",
       "    </tr>\n",
       "    <tr>\n",
       "      <th>9</th>\n",
       "      <td>[West Croydon NR, Norwood Junction, [TRANSFER→...</td>\n",
       "      <td>1.590035e+04</td>\n",
       "      <td>Sydenham</td>\n",
       "      <td>4847.996232</td>\n",
       "      <td>West Croydon NR</td>\n",
       "    </tr>\n",
       "    <tr>\n",
       "      <th>10</th>\n",
       "      <td>[Chesham, Chalfont &amp; Latimer, [TRANSFER→]Chorl...</td>\n",
       "      <td>9.447606e+04</td>\n",
       "      <td>Northwick Park</td>\n",
       "      <td>5308.271443</td>\n",
       "      <td>Chesham</td>\n",
       "    </tr>\n",
       "    <tr>\n",
       "      <th>11</th>\n",
       "      <td>[Canary Wharf DLR, West India Quay, Poplar, We...</td>\n",
       "      <td>1.096636e+06</td>\n",
       "      <td>Highbury &amp; Islington</td>\n",
       "      <td>25034.735138</td>\n",
       "      <td>Canary Wharf DLR</td>\n",
       "    </tr>\n",
       "    <tr>\n",
       "      <th>12</th>\n",
       "      <td>[Walthamstow Queen's Road, Blackhorse Road, Wa...</td>\n",
       "      <td>1.238347e+05</td>\n",
       "      <td>Chingford</td>\n",
       "      <td>3833.180397</td>\n",
       "      <td>Walthamstow Queen's Road</td>\n",
       "    </tr>\n",
       "    <tr>\n",
       "      <th>13</th>\n",
       "      <td>[Nine Elms, Kennington (Charing Cross), Waterl...</td>\n",
       "      <td>1.098235e+06</td>\n",
       "      <td>Woolwich EL</td>\n",
       "      <td>20253.596961</td>\n",
       "      <td>Nine Elms</td>\n",
       "    </tr>\n",
       "    <tr>\n",
       "      <th>14</th>\n",
       "      <td>[Brixton LU, Stockwell, Oval, Kennington (Bank...</td>\n",
       "      <td>1.732901e+06</td>\n",
       "      <td>Paddington TfL</td>\n",
       "      <td>81178.247349</td>\n",
       "      <td>Brixton LU</td>\n",
       "    </tr>\n",
       "    <tr>\n",
       "      <th>15</th>\n",
       "      <td>[Turkey Street, Southbury, Edmonton Green, Sil...</td>\n",
       "      <td>2.915248e+05</td>\n",
       "      <td>Wanstead Park</td>\n",
       "      <td>2090.390502</td>\n",
       "      <td>Turkey Street</td>\n",
       "    </tr>\n",
       "    <tr>\n",
       "      <th>16</th>\n",
       "      <td>[Golders Green, Hampstead, Belsize Park, Chalk...</td>\n",
       "      <td>9.441828e+05</td>\n",
       "      <td>Marylebone LU</td>\n",
       "      <td>14425.973721</td>\n",
       "      <td>Golders Green</td>\n",
       "    </tr>\n",
       "    <tr>\n",
       "      <th>17</th>\n",
       "      <td>[Kensington (Olympia), Shepherd's Bush NR, [TR...</td>\n",
       "      <td>1.392953e+06</td>\n",
       "      <td>Edgware</td>\n",
       "      <td>6604.488171</td>\n",
       "      <td>Kensington (Olympia)</td>\n",
       "    </tr>\n",
       "    <tr>\n",
       "      <th>18</th>\n",
       "      <td>[Finsbury Park LU, Arsenal, Holloway Road, Cal...</td>\n",
       "      <td>1.507479e+06</td>\n",
       "      <td>Epping</td>\n",
       "      <td>5368.835030</td>\n",
       "      <td>Finsbury Park LU</td>\n",
       "    </tr>\n",
       "    <tr>\n",
       "      <th>19</th>\n",
       "      <td>[Mile End, [TRANSFER→]Stratford, Leyton, Strat...</td>\n",
       "      <td>4.588363e+05</td>\n",
       "      <td>Stratford</td>\n",
       "      <td>92594.970098</td>\n",
       "      <td>Mile End</td>\n",
       "    </tr>\n",
       "  </tbody>\n",
       "</table>\n",
       "</div>"
      ],
      "text/plain": [
       "                                                Route         Score  \\\n",
       "0   [Marylebone LU, Edgware Road (Bak), [TRANSFER→...  1.915161e+06   \n",
       "1                                [Burnt Oak, Edgware]  1.334343e+04   \n",
       "2   [Wimbledon Park, Southfields, East Putney, Put...  1.730589e+06   \n",
       "3   [Langdon Park, Devons Road, Bow Church, Puddin...  7.089259e+05   \n",
       "4   [Westferry, Limehouse DLR, Shadwell DLR, Bank ...  1.531277e+06   \n",
       "5   [Shenfield, Brentwood, Harold Wood, Gidea Park...  1.039973e+06   \n",
       "6   [Bushey, Carpenders Park, Hatch End, Headstone...  9.021720e+04   \n",
       "7   [London Bridge LU, Bank and Monument, Liverpoo...  2.506706e+06   \n",
       "8   [Barking Riverside, Barking, Upney, Becontree,...  1.944881e+06   \n",
       "9   [West Croydon NR, Norwood Junction, [TRANSFER→...  1.590035e+04   \n",
       "10  [Chesham, Chalfont & Latimer, [TRANSFER→]Chorl...  9.447606e+04   \n",
       "11  [Canary Wharf DLR, West India Quay, Poplar, We...  1.096636e+06   \n",
       "12  [Walthamstow Queen's Road, Blackhorse Road, Wa...  1.238347e+05   \n",
       "13  [Nine Elms, Kennington (Charing Cross), Waterl...  1.098235e+06   \n",
       "14  [Brixton LU, Stockwell, Oval, Kennington (Bank...  1.732901e+06   \n",
       "15  [Turkey Street, Southbury, Edmonton Green, Sil...  2.915248e+05   \n",
       "16  [Golders Green, Hampstead, Belsize Park, Chalk...  9.441828e+05   \n",
       "17  [Kensington (Olympia), Shepherd's Bush NR, [TR...  1.392953e+06   \n",
       "18  [Finsbury Park LU, Arsenal, Holloway Road, Cal...  1.507479e+06   \n",
       "19  [Mile End, [TRANSFER→]Stratford, Leyton, Strat...  4.588363e+05   \n",
       "\n",
       "                         End  End Exit Volume                     Start  \n",
       "0                  Stockwell     11418.710499             Marylebone LU  \n",
       "1                    Edgware      6604.488171                 Burnt Oak  \n",
       "2   King's Cross St. Pancras    122827.765441            Wimbledon Park  \n",
       "3            Canary Wharf EL     23414.970073              Langdon Park  \n",
       "4                      Angel     21339.307030                 Westferry  \n",
       "5                    Barking     25951.668285                 Shenfield  \n",
       "6                  Harlesden      4415.004122                    Bushey  \n",
       "7          Hammersmith (DIS)     30293.731838          London Bridge LU  \n",
       "8              Oxford Circus     88888.967042         Barking Riverside  \n",
       "9                   Sydenham      4847.996232           West Croydon NR  \n",
       "10            Northwick Park      5308.271443                   Chesham  \n",
       "11      Highbury & Islington     25034.735138          Canary Wharf DLR  \n",
       "12                 Chingford      3833.180397  Walthamstow Queen's Road  \n",
       "13               Woolwich EL     20253.596961                 Nine Elms  \n",
       "14            Paddington TfL     81178.247349                Brixton LU  \n",
       "15             Wanstead Park      2090.390502             Turkey Street  \n",
       "16             Marylebone LU     14425.973721             Golders Green  \n",
       "17                   Edgware      6604.488171      Kensington (Olympia)  \n",
       "18                    Epping      5368.835030          Finsbury Park LU  \n",
       "19                 Stratford     92594.970098                  Mile End  "
      ]
     },
     "metadata": {},
     "output_type": "display_data"
    }
   ],
   "source": [
    "random.seed(2025)  # Set seed for reproducibility\n",
    "\n",
    "df_result = run_simulation_pipeline(\n",
    "    df_links, df_flows, df_entries, df_exits,\n",
    "    df_boarders, df_alighters,\n",
    "    num_routes = 30000\n",
    "    )\n",
    "\n",
    "display(df_result.head(20))"
   ]
  },
  {
   "cell_type": "code",
   "execution_count": 5,
   "id": "a56cb9d1",
   "metadata": {},
   "outputs": [
    {
     "name": "stderr",
     "output_type": "stream",
     "text": [
      "d:\\Anaconda3\\lib\\site-packages\\matplotlib\\cbook\\__init__.py:2062: FutureWarning: Support for multi-dimensional indexing (e.g. `obj[:, None]`) is deprecated and will be removed in a future version.  Convert to a numpy array before indexing instead.\n",
      "  x[:, None]\n",
      "d:\\Anaconda3\\lib\\site-packages\\matplotlib\\axes\\_base.py:250: FutureWarning: Support for multi-dimensional indexing (e.g. `obj[:, None]`) is deprecated and will be removed in a future version.  Convert to a numpy array before indexing instead.\n",
      "  y = y[:, np.newaxis]\n"
     ]
    },
    {
     "data": {
      "image/png": "[encoded data removed]",
      "text/plain": [
       "<Figure size 1008x432 with 1 Axes>"
      ]
     },
     "metadata": {},
     "output_type": "display_data"
    }
   ],
   "source": [
    "plot_route_pair_frequencies(df_result)"
   ]
  },
  {
   "cell_type": "markdown",
   "id": "4d57793b",
   "metadata": {},
   "source": [
    "In order to identify the most representative and frequently used travel patterns from the Monte Carlo simulation, we define a route pair (start-end) as a popular route if it appears 15 times or more among the 30,000 simulated journeys. This threshold is based on the observation that while only a small number of start-end route pairs occurred repeatedly, the majority appeared just a few times. In other words, the distribution of route frequencies is highly uneven, with a long tail of rare combinations.\n",
    "  \n",
    "By selecting a cutoff of 15 occurrences, we strike a balance between statistical significance and data coverage. The selected route pairs are frequent enough to reflect recurring patterns, yet limited in number to allow focused downstream analysis. This approach avoids over-interpreting rare, potentially random combinations and centers the analysis on routes that consistently emerge in simulated travel behavior."
   ]
  },
  {
   "cell_type": "markdown",
   "id": "9ea5a79b",
   "metadata": {},
   "source": [
    "**Note:**  \n",
    "The default value of min_occurrence = 15 is based on this long-tailed distribution observed across 30,000 simulated journeys. Setting it as a default parameter simplifies repeated function calls while maintaining consistent filtering logic throughout the analysis."
   ]
  },
  {
   "cell_type": "code",
   "execution_count": 6,
   "id": "0fed1df6",
   "metadata": {},
   "outputs": [
    {
     "name": "stdout",
     "output_type": "stream",
     "text": [
      "Number of route pairs that occurred ≥ 15 times: 182\n"
     ]
    }
   ],
   "source": [
    "def count_frequent_route_pairs(df_result, min_occurrence = 15):\n",
    "    df_result[\"Route_Pair\"] = df_result[\"Start\"] + \" → \" + df_result[\"End\"]\n",
    "    pair_counts = df_result[\"Route_Pair\"].value_counts()\n",
    "    frequent_pairs = pair_counts[pair_counts >= min_occurrence]\n",
    "    print(f\"Number of route pairs that occurred ≥ {min_occurrence} times: {len(frequent_pairs)}\")\n",
    "    return frequent_pairs\n",
    "\n",
    "frequent_pairs = count_frequent_route_pairs(df_result)"
   ]
  },
  {
   "cell_type": "code",
   "execution_count": 7,
   "id": "77ce1afc",
   "metadata": {},
   "outputs": [
    {
     "name": "stdout",
     "output_type": "stream",
     "text": [
      "Saved 182 frequent route pairs to 'frequent_routes_final_2.0.csv'\n"
     ]
    }
   ],
   "source": [
    "def save_frequent_route_pairs_split(df_result, min_occurrence = 15, filename = \"frequent_routes.csv\"):\n",
    "    df_result[\"Route_Pair\"] = df_result[\"Start\"] + \" → \" + df_result[\"End\"]\n",
    "    pair_counts = df_result[\"Route_Pair\"].value_counts()\n",
    "\n",
    "    frequent_pairs = pair_counts[pair_counts >= min_occurrence].reset_index()\n",
    "    frequent_pairs.columns = [\"Route_Pair\", \"Count\"]\n",
    "    frequent_pairs[[\"Start_Station\", \"End_Station\"]] = frequent_pairs[\"Route_Pair\"].str.split(\" → \", expand=True)\n",
    "  \n",
    "    output_df = frequent_pairs[[\"Start_Station\", \"End_Station\", \"Count\"]]\n",
    "    output_df.to_csv(filename, index=False)\n",
    "    \n",
    "    print(f\"Saved {len(output_df)} frequent route pairs to '{filename}'\")\n",
    "    return output_df\n",
    "\n",
    "frequent_routes = save_frequent_route_pairs_split(df_result, filename = \"frequent_routes_final_2.0.csv\")"
   ]
  },
  {
   "cell_type": "markdown",
   "id": "6ff64704",
   "metadata": {},
   "source": [
    "**Note:** The dataset `frequent_routes_final_2.0.csv`, containing 182 frequent OD pairs, will be used in the subsequent stage to collect travel time data for both step-free accessible and regular routes."
   ]
  },
  {
   "cell_type": "markdown",
   "id": "4db42135",
   "metadata": {},
   "source": [
    "## Bus Stop Optimization via P-Median Approximation"
   ]
  },
  {
   "cell_type": "markdown",
   "id": "39aa1594",
   "metadata": {},
   "source": [
    "To identify optimal locations for additional bus stops, we formulated a simplified variant of the P-Median problem, with the objective of minimizing the total weighted walking cost across frequent OD (origin-destination) pairs derived from the simulated dataset. Each OD pair is weighted by its user count, and penalized by its walking time unless covered by one of the selected new facilities (i.e., bus stops).\n",
    "  \n",
    "OD pairs with walking times exceeding a minimum threshold were treated as \"underserved\". For each such pair, if either the origin or destination is selected as a new bus stop, we assume the walking burden is substantially reduced to a nominal value (set to 1 minute). Otherwise, the full walking cost (i.e., walk_time × user count) is retained. The algorithm evaluates all combinations of up to p new stop locations and selects the one that minimizes the total weighted cost.\n",
    "  \n",
    "For the purpose of verifying the method's functionality, both the maximum number of new stops (p = 3) and the minimum walking time threshold (walk_time ≥ 16) were selected arbitrarily. These values were not intended to reflect real-world planning assumptions and carry no empirical significance. They will be further calibrated or replaced based on empirical data and literature-informed benchmarks in subsequent analyses.\n",
    "  \n",
    "The method relies on an exhaustive combinatorial search and is therefore limited to a small number of candidate facilities. However, it provides an interpretable and data-driven framework for evaluating the potential impact of targeted interventions in improving network accessibility."
   ]
  },
  {
   "cell_type": "code",
   "execution_count": 20,
   "id": "a4785178",
   "metadata": {},
   "outputs": [],
   "source": [
    "def suggest_new_bus_stops_from_od_walk(df_od, max_new_stops = 3, min_walk_threshold = 5):\n",
    "    \"\"\"\n",
    "    Suggest new bus stops based on OD pairs with high walk_time.\n",
    "    Expects df_od to contain: ['Start_Station', 'End_Station', 'Count', 'walk_time']\n",
    "    \"\"\"\n",
    "\n",
    "    # Step 1: Filter OD pairs with long walk times\n",
    "    df_long_walks = df_od[df_od[\"walk_time\"] >= min_walk_threshold].copy()\n",
    "    if df_long_walks.empty:\n",
    "        print(\"No OD pairs exceed the minimum walk threshold.\")\n",
    "        return []\n",
    "\n",
    "    # Step 2: Expand station frequency as potential demand\n",
    "    candidate_nodes = set(df_long_walks[\"Start_Station\"]).union(set(df_long_walks[\"End_Station\"]))\n",
    "    print(f\"Found {len(df_long_walks)} OD pairs with walk_time ≥ {min_walk_threshold}\")\n",
    "    print(f\"Candidate new stop locations: {len(candidate_nodes)} stations\")\n",
    "\n",
    "    # Step 3: Try all combinations of new stop placements (brute-force, only for small-scale)\n",
    "    candidate_nodes = list(candidate_nodes)\n",
    "    best_total_cost = float(\"inf\")\n",
    "    best_combo = None\n",
    "\n",
    "    for combo in combinations(candidate_nodes, max_new_stops):\n",
    "        total_cost = 0\n",
    "        for _, row in df_long_walks.iterrows():\n",
    "            u, v = row[\"Start_Station\"], row[\"End_Station\"]\n",
    "            count = row[\"Count\"]\n",
    "            walk_time = row[\"walk_time\"]\n",
    "\n",
    "            # If this OD pair's start or end station is covered by a new bus stop,\n",
    "            # we assume the walking burden is significantly reduced (e.g., to 1 minute).\n",
    "            # Otherwise, we keep the original walk_time × number of users.\n",
    "            if u in combo or v in combo:\n",
    "                total_cost += 1 * count\n",
    "            else:\n",
    "                total_cost += walk_time * count\n",
    "\n",
    "        if total_cost < best_total_cost:\n",
    "            best_total_cost = total_cost\n",
    "            best_combo = combo\n",
    "\n",
    "    print(f\"Suggested new bus stop locations (up to {max_new_stops}):\")\n",
    "    print(best_combo)\n",
    "    print(f\"Total weighted walk cost reduced to: {best_total_cost:.2f}\")\n",
    "\n",
    "    return best_combo"
   ]
  },
  {
   "cell_type": "markdown",
   "id": "b0f336f4",
   "metadata": {},
   "source": [
    "**Note:**  \n",
    "The dataset `frequent_routes_try.csv` was generated as a test set for experiments where walking time was used as the cost metric in the bus stop optimization.  The walking durations were created using randomized values and do not correspond to actual transport conditions.\n",
    "\n",
    "As we decided not to proceed with the walking-time-based cost function in the final model, this dataset will no longer be provided or updated.  However, we chose to retain the corresponding code in the notebook for the sake of documenting all tested design alternatives in the final report and demonstrating the evolution of our modeling approach."
   ]
  },
  {
   "cell_type": "code",
   "execution_count": 6,
   "id": "8902cfce",
   "metadata": {},
   "outputs": [
    {
     "name": "stdout",
     "output_type": "stream",
     "text": [
      "Found 30 OD pairs with walk_time ≥ 16\n",
      "Candidate new stop locations: 51 stations\n",
      "Suggested new bus stop locations (up to 3):\n",
      "(\"King's Cross St. Pancras\", 'Edgware', 'Stockwell')\n",
      "Total weighted walk cost reduced to: 12681.00\n"
     ]
    },
    {
     "data": {
      "text/plain": [
       "(\"King's Cross St. Pancras\", 'Edgware', 'Stockwell')"
      ]
     },
     "execution_count": 6,
     "metadata": {},
     "output_type": "execute_result"
    }
   ],
   "source": [
    "df_od = pd.read_csv(\"frequent_routes_try.csv\")\n",
    "entry_stations = df_entries[\"Station\"].dropna().unique()\n",
    "exit_stations = df_exits[\"Station\"].dropna().unique()\n",
    "G = build_graph_from_links(df_links, entry_stations, exit_stations)\n",
    "suggest_new_bus_stops_from_od_walk(df_od, max_new_stops = 3, min_walk_threshold = 16)  # The numerical selection here is only to verify whether this code can run smoothly. Further changes will be made based on actual needs or literature support in the future."
   ]
  },
  {
   "cell_type": "markdown",
   "id": "c7cc5640",
   "metadata": {},
   "source": [
    "We replaced the original walking-time-based cost with the total estimated travel time between each origin-destination pair, allowing for a more comprehensive reflection of real commuting burdens. For OD pairs whose origin or destination is covered by a new stop, the total time is reduced to a nominal value (e.g., 1 minute). All others retain their original total time. The optimization then selects the combination of up to p new stops that minimizes the weighted total commute time across all selected OD pairs."
   ]
  },
  {
   "cell_type": "markdown",
   "id": "a2758c50",
   "metadata": {},
   "source": [
    "Since the unified total travel time across OD pairs (rather than walking time alone) better captures user experience, we plan to use Google Maps API to obtain these values for the frequent OD pairs generated from simulation. A generic route-time estimation script is under development and being debugged. In the meantime, arbitrary values were used to test the algorithm pipeline."
   ]
  },
  {
   "cell_type": "code",
   "execution_count": 5,
   "id": "ba0dd7b6",
   "metadata": {},
   "outputs": [],
   "source": [
    "def suggest_new_bus_stops_from_od_total(df_od, max_new_stops = 3, min_total_threshold = 15):\n",
    "    \"\"\"\n",
    "    Suggest new bus stops based on OD pairs with high total travel time.\n",
    "    Expects df_od to contain: ['Start_Station', 'End_Station', 'Count', 'total_time']\n",
    "    \"\"\"\n",
    "\n",
    "    # Step 1: Filter OD pairs with long total travel time\n",
    "    df_long_travel = df_od[df_od[\"Modified_time\"] >= min_total_threshold].copy()\n",
    "    if df_long_travel.empty:\n",
    "        print(\"No OD pairs exceed the minimum total time threshold.\")\n",
    "        return []\n",
    "\n",
    "    # Step 2: Identify candidate stations from underserved OD pairs\n",
    "    candidate_nodes = set(df_long_travel[\"Start_Station\"]).union(set(df_long_travel[\"End_Station\"]))\n",
    "    print(f\"Found {len(df_long_travel)} OD pairs with total_time ≥ {min_total_threshold}\")\n",
    "    print(f\"Candidate new stop locations: {len(candidate_nodes)} stations\")\n",
    "\n",
    "    # Step 3: Try all combinations of new stop placements (brute-force for small-scale test)\n",
    "    candidate_nodes = list(candidate_nodes)\n",
    "    best_total_cost = float(\"inf\")\n",
    "    best_combo = None\n",
    "\n",
    "    for combo in combinations(candidate_nodes, max_new_stops):\n",
    "        total_cost = 0\n",
    "        for _, row in df_long_travel.iterrows():\n",
    "            u, v = row[\"Start_Station\"], row[\"End_Station\"]\n",
    "            count = row[\"Count\"]\n",
    "            total_time = row[\"Modified_time\"]\n",
    "\n",
    "            # If either end is covered by a new stop, we reduce total time to 1 minute\n",
    "            if u in combo or v in combo:\n",
    "                total_cost += 1 * count\n",
    "            else:\n",
    "                total_cost += total_time * count\n",
    "\n",
    "        if total_cost < best_total_cost:\n",
    "            best_total_cost = total_cost\n",
    "            best_combo = combo\n",
    "\n",
    "    print(f\"Suggested new bus stop locations (up to {max_new_stops}):\")\n",
    "    print(best_combo)\n",
    "    print(f\"Total weighted travel cost reduced to: {best_total_cost:.2f}\")\n",
    "\n",
    "    return best_combo"
   ]
  },
  {
   "cell_type": "markdown",
   "id": "c25e792f",
   "metadata": {},
   "source": [
    "**Note:**  \n",
    "The dataset `final_complete_accessible_routes.csv` was generated using the Jupyter Notebook titled `FINAL_wheelchair_accessible__commute_time.ipynb`. This script implemented a web scraping pipeline simulating user interactions on Google Maps, retrieving step-free (wheelchair accessible) total travel times for OD pairs listed in `frequent_routes_final.csv`.\n",
    "\n",
    "The scraping was necessary because Google Maps API does not support querying wheelchair-accessible options directly. The output of the notebook forms the basis for the final accessibility-based stop optimization."
   ]
  },
  {
   "cell_type": "code",
   "execution_count": null,
   "id": "8732a1f1",
   "metadata": {},
   "outputs": [
    {
     "name": "stdout",
     "output_type": "stream",
     "text": [
      "Found 66 OD pairs with total_time ≥ 30\n",
      "Candidate new stop locations: 97 stations\n",
      "Suggested new bus stop locations (up to 3):\n",
      "('Seven Sisters', 'Wimbledon', 'Stratford')\n",
      "Total weighted travel cost reduced to: 97355.00\n"
     ]
    },
    {
     "data": {
      "text/plain": [
       "('Seven Sisters', 'Wimbledon', 'Stratford')"
      ]
     },
     "execution_count": 5,
     "metadata": {},
     "output_type": "execute_result"
    }
   ],
   "source": [
    "df_od = pd.read_csv(\"final_complete_accessible_routes.csv\")\n",
    "entry_stations = df_entries[\"Station\"].dropna().unique()\n",
    "exit_stations = df_exits[\"Station\"].dropna().unique()\n",
    "G = build_graph_from_links(df_links, entry_stations, exit_stations)\n",
    "suggest_new_bus_stops_from_od_total(df_od, max_new_stops = 3, min_total_threshold = 30)"
   ]
  },
  {
   "cell_type": "markdown",
   "id": "9262cf30",
   "metadata": {},
   "source": [
    "### Analysis of Selected Bus Stop Candidates from Travel Time Distributions  \n",
    "\n",
    "To further investigate why certain stations-Wimbledon, Stratford, and Seven Sisters-were repeatedly selected as optimal candidates for new bus stops in the model, we examined their step-free travel time distributions from both origin and destination perspectives."
   ]
  },
  {
   "cell_type": "markdown",
   "id": "9ba4edbd",
   "metadata": {},
   "source": [
    "#### As Start Stations  "
   ]
  },
  {
   "cell_type": "code",
   "execution_count": 11,
   "id": "89637501",
   "metadata": {},
   "outputs": [
    {
     "data": {
      "image/png": "[encoded data removed]",
      "text/plain": [
       "<Figure size 432x288 with 1 Axes>"
      ]
     },
     "metadata": {},
     "output_type": "display_data"
    },
    {
     "name": "stdout",
     "output_type": "stream",
     "text": [
      "               count       mean        std   min   25%   50%   75%   max\n",
      "Start_Station                                                           \n",
      "Stratford        3.0  50.333333  20.502032  38.0  38.5  39.0  56.5  74.0\n",
      "Wimbledon        1.0  54.000000        NaN  54.0  54.0  54.0  54.0  54.0\n"
     ]
    }
   ],
   "source": [
    "sns.boxplot(data=df_od[df_od[\"Start_Station\"].isin([\"Wimbledon\", \"Seven Sisters\", \"Stratford\"])],\n",
    "            x=\"Start_Station\", y=\"Modified_time\")\n",
    "plt.title(\"Step-Free Travel Time Distribution for Selected Start Stations\")\n",
    "plt.show()\n",
    "\n",
    "df_focus = df_od[df_od[\"Start_Station\"].isin([\"Wimbledon\", \"Seven Sisters\", \"Stratford\"])]\n",
    "print(df_focus.groupby(\"Start_Station\")[\"Modified_time\"].describe())"
   ]
  },
  {
   "cell_type": "markdown",
   "id": "24dec2bc",
   "metadata": {},
   "source": [
    "Boxplot analysis and descriptive statistics show that:\n",
    "1. Stratford exhibits a relatively high mean step-free travel time (≈ 50 mins), with noticeable dispersion (std ≈ 20.5).\n",
    "2. Wimbledon, though based on a single route, also shows a high travel time of 54 mins, suggesting limited accessibility.\n",
    "3. Seven Sisters did not appear as a start station among high-burden OD pairs, indicating that its accessibility challenge may be more prominent when serving as a destination.\n",
    "\n",
    "This suggests that Stratford and Wimbledon tend to be inefficient origin points under step-free routing, thus carrying higher weighted costs in the objective function."
   ]
  },
  {
   "cell_type": "markdown",
   "id": "4c1b5885",
   "metadata": {},
   "source": [
    "#### As End Stations  "
   ]
  },
  {
   "cell_type": "code",
   "execution_count": null,
   "id": "823f588f",
   "metadata": {},
   "outputs": [
    {
     "data": {
      "image/png": "[encoded data removed]",
      "text/plain": [
       "<Figure size 432x288 with 1 Axes>"
      ]
     },
     "metadata": {},
     "output_type": "display_data"
    },
    {
     "name": "stdout",
     "output_type": "stream",
     "text": [
      "               count        mean        std    min    25%    50%    75%    max\n",
      "End_Station                                                                   \n",
      "Seven Sisters    2.0  180.000000  36.769553  154.0  167.0  180.0  193.0  206.0\n",
      "Stratford        3.0   28.666667  14.364308   18.0   20.5   23.0   34.0   45.0\n",
      "Wimbledon        4.0   47.500000  15.264338   27.0   40.5   51.0   58.0   61.0\n"
     ]
    }
   ],
   "source": [
    "sns.boxplot(data=df_od[df_od[\"End_Station\"].isin([\"Wimbledon\", \"Seven Sisters\", \"Stratford\"])],\n",
    "            x=\"End_Station\", y=\"Modified_time\")\n",
    "plt.title(\"Step-Free Travel Time Distribution for Selected Start Stations\")\n",
    "plt.show()\n",
    "\n",
    "df_focus = df_od[df_od[\"End_Station\"].isin([\"Wimbledon\", \"Seven Sisters\", \"Stratford\"])]\n",
    "print(df_focus.groupby(\"End_Station\")[\"Modified_time\"].describe())"
   ]
  },
  {
   "cell_type": "markdown",
   "id": "5aad2f8e",
   "metadata": {},
   "source": [
    "When switching to the destination perspective:\n",
    "1. Seven Sisters shows exceptionally high step-free travel times, with a mean of 180 mins and a maximum exceeding 200 mins.\n",
    "2. In contrast, Stratford and Wimbledon exhibit lower values as destination stations, indicating that their accessibility issues are more pronounced when they serve as origins rather than destinations.\n",
    "\n",
    "This directional imbalance reveals that the burden of step-free travel is not symmetric.  The same station may be a greater bottleneck in one direction (e.g., Seven Sisters as a destination) than in the other."
   ]
  },
  {
   "cell_type": "markdown",
   "id": "6f6a22b6",
   "metadata": {},
   "source": [
    "### Filtering Long-Distance Outliers  \n",
    "\n",
    "While directional imbalance has revealed stations like Seven Sisters to be disproportionately costly as destinations, further inspection uncovered that a small subset of OD pairs exhibited exceptionally long step-free travel times, in some cases exceeding 200 minutes. These extreme values-though real-risk skewing the optimization process by shifting attention toward a few distant stations at the expense of broader accessibility gains.\n",
    "\n",
    "To mitigate this, we applied a 95th percentile threshold on total travel time (Modified_time) to trim the top 5% of excessively long OD pairs. This filtering step aimed to:\n",
    "\n",
    "1. Avoid outlier-driven bias in subsequent stop placement suggestions.\n",
    "2. Promote a more spatially balanced distribution of candidate locations.\n",
    "3. Improve model interpretability by focusing on the majority user experience."
   ]
  },
  {
   "cell_type": "markdown",
   "id": "b3e12f56",
   "metadata": {},
   "source": [
    "#### Statement about 95% Quantile for Travel Time Filtering\n",
    "\n",
    "The longest 5% of routes (based on total modified travel time) were excluded to reduce the influence of extreme values. This choice is not dictated by a specific threshold in the literature, but follows a common practice in transport modeling to ensure robustness and eliminate outliers. Studies such as Geurs & van Wee (2004) and Papa & Bertolini (2015) have highlighted the distorting impact of rare long-distance journeys on accessibility metrics, and recommend percentile-based trimming as a defensible heuristic.\n",
    "\n",
    "While the 95th percentile is not a universally \"correct\" cut-off, it strikes a pragmatic balance: removing the tail without excluding meaningful data.\n",
    "\n",
    "_References:_  \n",
    "_Geurs, K. T., & van Wee, B. (2004). Accessibility evaluation of land-use and transport strategies: Review and research directions. Journal of Transport Geography, 12(2), 127-140. https://doi.org/10.1016/j.jtrangeo.2003.10.005_  \n",
    "_Papa, E., & Bertolini, L. (2015). Accessibility and transit-oriented development in European metropolitan areas. Journal of Transport Geography, 47, 70-83. https://doi.org/10.1016/j.jtrangeo.2015.07.003_"
   ]
  },
  {
   "cell_type": "code",
   "execution_count": 8,
   "id": "dc31ece2",
   "metadata": {},
   "outputs": [
    {
     "name": "stdout",
     "output_type": "stream",
     "text": [
      "Found 60 OD pairs with total_time ≥ 30\n",
      "Candidate new stop locations: 89 stations\n",
      "Suggested new bus stop locations (up to 3):\n",
      "('Clapham Common', 'Wimbledon', 'Colindale')\n",
      "Total weighted travel cost reduced to: 79538.00\n"
     ]
    },
    {
     "data": {
      "text/plain": [
       "('Clapham Common', 'Wimbledon', 'Colindale')"
      ]
     },
     "execution_count": 8,
     "metadata": {},
     "output_type": "execute_result"
    }
   ],
   "source": [
    "df_od = pd.read_csv(\"final_complete_accessible_routes.csv\")\n",
    "# 95% quantile threshold for Modified_time\n",
    "threshold = df_od[\"Modified_time\"].quantile(0.95)\n",
    "df_od_trimmed = df_od[df_od[\"Modified_time\"] <= threshold]\n",
    "# Set max_new_stops to 3\n",
    "suggest_new_bus_stops_from_od_total(df_od_trimmed, max_new_stops = 3, min_total_threshold = 30)"
   ]
  },
  {
   "cell_type": "markdown",
   "id": "cec4dffd",
   "metadata": {},
   "source": [
    "### Parameter Settings Justification\n",
    "\n",
    "To ensure the tractability and interpretability of the optimization process, we initially set the maximum number of new bus stops to three. This value is not theoretically fixed but serves as **a practical baseline for sensitivity analysis**, in which we intend to evaluate how different constraint levels (e.g., allowing 2, 5, or more stops) impact overall accessibility improvements. This aligns with common practice in facility location problems, where budgetary or infrastructural limits are varied to assess cost–benefit trade-offs.\n",
    "\n",
    "As for the minimum total travel time threshold, OD pairs with a regular journey duration shorter than 30 minutes were excluded. This filtering is guided by empirical conventions in urban transport research, where 30, 45, and 60 minutes are widely adopted as cut-off points to differentiate short, moderate, and long trips. These benchmarks are well established in datasets such as the London Travel Demand Survey (LTDS).\n",
    "\n",
    "According to LTDS-a large-scale household travel diary survey conducted annually by Transport for London-commute durations are commonly categorized using thresholds like 30, 45, and 60 minutes (Travel in London 2023/2024; ITF, 2018). The use of a 30-minute threshold in this study is therefore consistent with recognized practice in accessibility and transport equity evaluations, allowing us to focus on journeys where time burdens are more pronounced and thus optimization interventions more impactful."
   ]
  },
  {
   "cell_type": "markdown",
   "id": "18b5c9e0",
   "metadata": {},
   "source": [
    "#### Sensitivity Analysis: Varying the Maximum Number of Additional Bus Stops"
   ]
  },
  {
   "cell_type": "code",
   "execution_count": 9,
   "id": "3700a2ee",
   "metadata": {},
   "outputs": [
    {
     "name": "stdout",
     "output_type": "stream",
     "text": [
      "Found 60 OD pairs with total_time ≥ 30\n",
      "Candidate new stop locations: 89 stations\n",
      "Suggested new bus stop locations (up to 2):\n",
      "('Wimbledon', 'Colindale')\n",
      "Total weighted travel cost reduced to: 84903.00\n"
     ]
    },
    {
     "data": {
      "text/plain": [
       "('Wimbledon', 'Colindale')"
      ]
     },
     "execution_count": 9,
     "metadata": {},
     "output_type": "execute_result"
    }
   ],
   "source": [
    "# Set max_new_stops to 2\n",
    "suggest_new_bus_stops_from_od_total(df_od_trimmed, max_new_stops = 2, min_total_threshold = 30)"
   ]
  },
  {
   "cell_type": "code",
   "execution_count": 11,
   "id": "7d2555ac",
   "metadata": {},
   "outputs": [
    {
     "name": "stdout",
     "output_type": "stream",
     "text": [
      "Found 60 OD pairs with total_time ≥ 30\n",
      "Candidate new stop locations: 89 stations\n",
      "Suggested new bus stop locations (up to 4):\n",
      "('Clapham Common', 'Wimbledon', 'Colindale', 'Stratford')\n",
      "Total weighted travel cost reduced to: 74822.00\n"
     ]
    },
    {
     "data": {
      "text/plain": [
       "('Clapham Common', 'Wimbledon', 'Colindale', 'Stratford')"
      ]
     },
     "execution_count": 11,
     "metadata": {},
     "output_type": "execute_result"
    }
   ],
   "source": [
    "# Set max_new_stops to 4\n",
    "suggest_new_bus_stops_from_od_total(df_od_trimmed, max_new_stops = 4, min_total_threshold = 30)"
   ]
  },
  {
   "cell_type": "code",
   "execution_count": 10,
   "id": "c01013ab",
   "metadata": {},
   "outputs": [
    {
     "name": "stdout",
     "output_type": "stream",
     "text": [
      "Found 60 OD pairs with total_time ≥ 30\n",
      "Candidate new stop locations: 89 stations\n"
     ]
    },
    {
     "ename": "KeyboardInterrupt",
     "evalue": "",
     "output_type": "error",
     "traceback": [
      "\u001b[1;31m---------------------------------------------------------------------------\u001b[0m",
      "\u001b[1;31mKeyboardInterrupt\u001b[0m                         Traceback (most recent call last)",
      "\u001b[1;32m<ipython-input-10-44ab2f5b8579>\u001b[0m in \u001b[0;36m<module>\u001b[1;34m()\u001b[0m\n\u001b[0;32m      1\u001b[0m \u001b[1;31m# Set max_new_stops to 5\u001b[0m\u001b[1;33m\u001b[0m\u001b[1;33m\u001b[0m\u001b[0m\n\u001b[1;32m----> 2\u001b[1;33m \u001b[0msuggest_new_bus_stops_from_od_total\u001b[0m\u001b[1;33m(\u001b[0m\u001b[0mdf_od_trimmed\u001b[0m\u001b[1;33m,\u001b[0m \u001b[0mmax_new_stops\u001b[0m \u001b[1;33m=\u001b[0m \u001b[1;36m5\u001b[0m\u001b[1;33m,\u001b[0m \u001b[0mmin_total_threshold\u001b[0m \u001b[1;33m=\u001b[0m \u001b[1;36m30\u001b[0m\u001b[1;33m)\u001b[0m\u001b[1;33m\u001b[0m\u001b[0m\n\u001b[0m",
      "\u001b[1;32m<ipython-input-5-16c8a68d5b7f>\u001b[0m in \u001b[0;36msuggest_new_bus_stops_from_od_total\u001b[1;34m(df_od, max_new_stops, min_total_threshold)\u001b[0m\n\u001b[0;32m     23\u001b[0m     \u001b[1;32mfor\u001b[0m \u001b[0mcombo\u001b[0m \u001b[1;32min\u001b[0m \u001b[0mcombinations\u001b[0m\u001b[1;33m(\u001b[0m\u001b[0mcandidate_nodes\u001b[0m\u001b[1;33m,\u001b[0m \u001b[0mmax_new_stops\u001b[0m\u001b[1;33m)\u001b[0m\u001b[1;33m:\u001b[0m\u001b[1;33m\u001b[0m\u001b[0m\n\u001b[0;32m     24\u001b[0m         \u001b[0mtotal_cost\u001b[0m \u001b[1;33m=\u001b[0m \u001b[1;36m0\u001b[0m\u001b[1;33m\u001b[0m\u001b[0m\n\u001b[1;32m---> 25\u001b[1;33m         \u001b[1;32mfor\u001b[0m \u001b[0m_\u001b[0m\u001b[1;33m,\u001b[0m \u001b[0mrow\u001b[0m \u001b[1;32min\u001b[0m \u001b[0mdf_long_travel\u001b[0m\u001b[1;33m.\u001b[0m\u001b[0miterrows\u001b[0m\u001b[1;33m(\u001b[0m\u001b[1;33m)\u001b[0m\u001b[1;33m:\u001b[0m\u001b[1;33m\u001b[0m\u001b[0m\n\u001b[0m\u001b[0;32m     26\u001b[0m             \u001b[0mu\u001b[0m\u001b[1;33m,\u001b[0m \u001b[0mv\u001b[0m \u001b[1;33m=\u001b[0m \u001b[0mrow\u001b[0m\u001b[1;33m[\u001b[0m\u001b[1;34m\"Start_Station\"\u001b[0m\u001b[1;33m]\u001b[0m\u001b[1;33m,\u001b[0m \u001b[0mrow\u001b[0m\u001b[1;33m[\u001b[0m\u001b[1;34m\"End_Station\"\u001b[0m\u001b[1;33m]\u001b[0m\u001b[1;33m\u001b[0m\u001b[0m\n\u001b[0;32m     27\u001b[0m             \u001b[0mcount\u001b[0m \u001b[1;33m=\u001b[0m \u001b[0mrow\u001b[0m\u001b[1;33m[\u001b[0m\u001b[1;34m\"Count\"\u001b[0m\u001b[1;33m]\u001b[0m\u001b[1;33m\u001b[0m\u001b[0m\n",
      "\u001b[1;32md:\\Anaconda3\\lib\\site-packages\\pandas\\core\\frame.py\u001b[0m in \u001b[0;36miterrows\u001b[1;34m(self)\u001b[0m\n\u001b[0;32m   1012\u001b[0m         \u001b[0mklass\u001b[0m \u001b[1;33m=\u001b[0m \u001b[0mself\u001b[0m\u001b[1;33m.\u001b[0m\u001b[0m_constructor_sliced\u001b[0m\u001b[1;33m\u001b[0m\u001b[0m\n\u001b[0;32m   1013\u001b[0m         \u001b[1;32mfor\u001b[0m \u001b[0mk\u001b[0m\u001b[1;33m,\u001b[0m \u001b[0mv\u001b[0m \u001b[1;32min\u001b[0m \u001b[0mzip\u001b[0m\u001b[1;33m(\u001b[0m\u001b[0mself\u001b[0m\u001b[1;33m.\u001b[0m\u001b[0mindex\u001b[0m\u001b[1;33m,\u001b[0m \u001b[0mself\u001b[0m\u001b[1;33m.\u001b[0m\u001b[0mvalues\u001b[0m\u001b[1;33m)\u001b[0m\u001b[1;33m:\u001b[0m\u001b[1;33m\u001b[0m\u001b[0m\n\u001b[1;32m-> 1014\u001b[1;33m             \u001b[0ms\u001b[0m \u001b[1;33m=\u001b[0m \u001b[0mklass\u001b[0m\u001b[1;33m(\u001b[0m\u001b[0mv\u001b[0m\u001b[1;33m,\u001b[0m \u001b[0mindex\u001b[0m\u001b[1;33m=\u001b[0m\u001b[0mcolumns\u001b[0m\u001b[1;33m,\u001b[0m \u001b[0mname\u001b[0m\u001b[1;33m=\u001b[0m\u001b[0mk\u001b[0m\u001b[1;33m)\u001b[0m\u001b[1;33m\u001b[0m\u001b[0m\n\u001b[0m\u001b[0;32m   1015\u001b[0m             \u001b[1;32myield\u001b[0m \u001b[0mk\u001b[0m\u001b[1;33m,\u001b[0m \u001b[0ms\u001b[0m\u001b[1;33m\u001b[0m\u001b[0m\n\u001b[0;32m   1016\u001b[0m \u001b[1;33m\u001b[0m\u001b[0m\n",
      "\u001b[1;32md:\\Anaconda3\\lib\\site-packages\\pandas\\core\\series.py\u001b[0m in \u001b[0;36m__init__\u001b[1;34m(self, data, index, dtype, name, copy, fastpath)\u001b[0m\n\u001b[0;32m    327\u001b[0m                 \u001b[0mdata\u001b[0m \u001b[1;33m=\u001b[0m \u001b[0msanitize_array\u001b[0m\u001b[1;33m(\u001b[0m\u001b[0mdata\u001b[0m\u001b[1;33m,\u001b[0m \u001b[0mindex\u001b[0m\u001b[1;33m,\u001b[0m \u001b[0mdtype\u001b[0m\u001b[1;33m,\u001b[0m \u001b[0mcopy\u001b[0m\u001b[1;33m,\u001b[0m \u001b[0mraise_cast_failure\u001b[0m\u001b[1;33m=\u001b[0m\u001b[1;32mTrue\u001b[0m\u001b[1;33m)\u001b[0m\u001b[1;33m\u001b[0m\u001b[0m\n\u001b[0;32m    328\u001b[0m \u001b[1;33m\u001b[0m\u001b[0m\n\u001b[1;32m--> 329\u001b[1;33m                 \u001b[0mdata\u001b[0m \u001b[1;33m=\u001b[0m \u001b[0mSingleBlockManager\u001b[0m\u001b[1;33m.\u001b[0m\u001b[0mfrom_array\u001b[0m\u001b[1;33m(\u001b[0m\u001b[0mdata\u001b[0m\u001b[1;33m,\u001b[0m \u001b[0mindex\u001b[0m\u001b[1;33m)\u001b[0m\u001b[1;33m\u001b[0m\u001b[0m\n\u001b[0m\u001b[0;32m    330\u001b[0m \u001b[1;33m\u001b[0m\u001b[0m\n\u001b[0;32m    331\u001b[0m         \u001b[0mgeneric\u001b[0m\u001b[1;33m.\u001b[0m\u001b[0mNDFrame\u001b[0m\u001b[1;33m.\u001b[0m\u001b[0m__init__\u001b[0m\u001b[1;33m(\u001b[0m\u001b[0mself\u001b[0m\u001b[1;33m,\u001b[0m \u001b[0mdata\u001b[0m\u001b[1;33m)\u001b[0m\u001b[1;33m\u001b[0m\u001b[0m\n",
      "\u001b[1;32md:\\Anaconda3\\lib\\site-packages\\pandas\\core\\internals\\managers.py\u001b[0m in \u001b[0;36mfrom_array\u001b[1;34m(cls, array, index)\u001b[0m\n\u001b[0;32m   1576\u001b[0m         \u001b[0mConstructor\u001b[0m \u001b[1;32mfor\u001b[0m \u001b[1;32mif\u001b[0m \u001b[0mwe\u001b[0m \u001b[0mhave\u001b[0m \u001b[0man\u001b[0m \u001b[0marray\u001b[0m \u001b[0mthat\u001b[0m \u001b[1;32mis\u001b[0m \u001b[1;32mnot\u001b[0m \u001b[0myet\u001b[0m \u001b[0ma\u001b[0m \u001b[0mBlock\u001b[0m\u001b[1;33m.\u001b[0m\u001b[1;33m\u001b[0m\u001b[0m\n\u001b[0;32m   1577\u001b[0m         \"\"\"\n\u001b[1;32m-> 1578\u001b[1;33m         \u001b[0mblock\u001b[0m \u001b[1;33m=\u001b[0m \u001b[0mmake_block\u001b[0m\u001b[1;33m(\u001b[0m\u001b[0marray\u001b[0m\u001b[1;33m,\u001b[0m \u001b[0mplacement\u001b[0m\u001b[1;33m=\u001b[0m\u001b[0mslice\u001b[0m\u001b[1;33m(\u001b[0m\u001b[1;36m0\u001b[0m\u001b[1;33m,\u001b[0m \u001b[0mlen\u001b[0m\u001b[1;33m(\u001b[0m\u001b[0mindex\u001b[0m\u001b[1;33m)\u001b[0m\u001b[1;33m)\u001b[0m\u001b[1;33m,\u001b[0m \u001b[0mndim\u001b[0m\u001b[1;33m=\u001b[0m\u001b[1;36m1\u001b[0m\u001b[1;33m)\u001b[0m\u001b[1;33m\u001b[0m\u001b[0m\n\u001b[0m\u001b[0;32m   1579\u001b[0m         \u001b[1;32mreturn\u001b[0m \u001b[0mcls\u001b[0m\u001b[1;33m(\u001b[0m\u001b[0mblock\u001b[0m\u001b[1;33m,\u001b[0m \u001b[0mindex\u001b[0m\u001b[1;33m)\u001b[0m\u001b[1;33m\u001b[0m\u001b[0m\n\u001b[0;32m   1580\u001b[0m \u001b[1;33m\u001b[0m\u001b[0m\n",
      "\u001b[1;32md:\\Anaconda3\\lib\\site-packages\\pandas\\core\\internals\\blocks.py\u001b[0m in \u001b[0;36mmake_block\u001b[1;34m(values, placement, klass, ndim, dtype)\u001b[0m\n\u001b[0;32m   2735\u001b[0m     \u001b[1;32mif\u001b[0m \u001b[0mklass\u001b[0m \u001b[1;32mis\u001b[0m \u001b[1;32mNone\u001b[0m\u001b[1;33m:\u001b[0m\u001b[1;33m\u001b[0m\u001b[0m\n\u001b[0;32m   2736\u001b[0m         \u001b[0mdtype\u001b[0m \u001b[1;33m=\u001b[0m \u001b[0mdtype\u001b[0m \u001b[1;32mor\u001b[0m \u001b[0mvalues\u001b[0m\u001b[1;33m.\u001b[0m\u001b[0mdtype\u001b[0m\u001b[1;33m\u001b[0m\u001b[0m\n\u001b[1;32m-> 2737\u001b[1;33m         \u001b[0mklass\u001b[0m \u001b[1;33m=\u001b[0m \u001b[0mget_block_type\u001b[0m\u001b[1;33m(\u001b[0m\u001b[0mvalues\u001b[0m\u001b[1;33m,\u001b[0m \u001b[0mdtype\u001b[0m\u001b[1;33m)\u001b[0m\u001b[1;33m\u001b[0m\u001b[0m\n\u001b[0m\u001b[0;32m   2738\u001b[0m \u001b[1;33m\u001b[0m\u001b[0m\n\u001b[0;32m   2739\u001b[0m     \u001b[1;32melif\u001b[0m \u001b[0mklass\u001b[0m \u001b[1;32mis\u001b[0m \u001b[0mDatetimeTZBlock\u001b[0m \u001b[1;32mand\u001b[0m \u001b[1;32mnot\u001b[0m \u001b[0mis_datetime64tz_dtype\u001b[0m\u001b[1;33m(\u001b[0m\u001b[0mvalues\u001b[0m\u001b[1;33m.\u001b[0m\u001b[0mdtype\u001b[0m\u001b[1;33m)\u001b[0m\u001b[1;33m:\u001b[0m\u001b[1;33m\u001b[0m\u001b[0m\n",
      "\u001b[1;32md:\\Anaconda3\\lib\\site-packages\\pandas\\core\\internals\\blocks.py\u001b[0m in \u001b[0;36mget_block_type\u001b[1;34m(values, dtype)\u001b[0m\n\u001b[0;32m   2694\u001b[0m         \u001b[1;31m# Need this first(ish) so that Sparse[datetime] is sparse\u001b[0m\u001b[1;33m\u001b[0m\u001b[1;33m\u001b[0m\u001b[0m\n\u001b[0;32m   2695\u001b[0m         \u001b[0mcls\u001b[0m \u001b[1;33m=\u001b[0m \u001b[0mExtensionBlock\u001b[0m\u001b[1;33m\u001b[0m\u001b[0m\n\u001b[1;32m-> 2696\u001b[1;33m     \u001b[1;32melif\u001b[0m \u001b[0mis_categorical_dtype\u001b[0m\u001b[1;33m(\u001b[0m\u001b[0mvalues\u001b[0m\u001b[1;33m.\u001b[0m\u001b[0mdtype\u001b[0m\u001b[1;33m)\u001b[0m\u001b[1;33m:\u001b[0m\u001b[1;33m\u001b[0m\u001b[0m\n\u001b[0m\u001b[0;32m   2697\u001b[0m         \u001b[0mcls\u001b[0m \u001b[1;33m=\u001b[0m \u001b[0mCategoricalBlock\u001b[0m\u001b[1;33m\u001b[0m\u001b[0m\n\u001b[0;32m   2698\u001b[0m     \u001b[1;32melif\u001b[0m \u001b[0missubclass\u001b[0m\u001b[1;33m(\u001b[0m\u001b[0mvtype\u001b[0m\u001b[1;33m,\u001b[0m \u001b[0mnp\u001b[0m\u001b[1;33m.\u001b[0m\u001b[0mdatetime64\u001b[0m\u001b[1;33m)\u001b[0m\u001b[1;33m:\u001b[0m\u001b[1;33m\u001b[0m\u001b[0m\n",
      "\u001b[1;32md:\\Anaconda3\\lib\\site-packages\\pandas\\core\\dtypes\\common.py\u001b[0m in \u001b[0;36mis_categorical_dtype\u001b[1;34m(arr_or_dtype)\u001b[0m\n\u001b[0;32m    561\u001b[0m     \u001b[1;32mif\u001b[0m \u001b[0marr_or_dtype\u001b[0m \u001b[1;32mis\u001b[0m \u001b[1;32mNone\u001b[0m\u001b[1;33m:\u001b[0m\u001b[1;33m\u001b[0m\u001b[0m\n\u001b[0;32m    562\u001b[0m         \u001b[1;32mreturn\u001b[0m \u001b[1;32mFalse\u001b[0m\u001b[1;33m\u001b[0m\u001b[0m\n\u001b[1;32m--> 563\u001b[1;33m     \u001b[1;32mreturn\u001b[0m \u001b[0mCategoricalDtype\u001b[0m\u001b[1;33m.\u001b[0m\u001b[0mis_dtype\u001b[0m\u001b[1;33m(\u001b[0m\u001b[0marr_or_dtype\u001b[0m\u001b[1;33m)\u001b[0m\u001b[1;33m\u001b[0m\u001b[0m\n\u001b[0m\u001b[0;32m    564\u001b[0m \u001b[1;33m\u001b[0m\u001b[0m\n\u001b[0;32m    565\u001b[0m \u001b[1;33m\u001b[0m\u001b[0m\n",
      "\u001b[1;32md:\\Anaconda3\\lib\\site-packages\\pandas\\core\\dtypes\\base.py\u001b[0m in \u001b[0;36mis_dtype\u001b[1;34m(cls, dtype)\u001b[0m\n\u001b[0;32m    280\u001b[0m         \u001b[0mdtype\u001b[0m \u001b[1;33m=\u001b[0m \u001b[0mgetattr\u001b[0m\u001b[1;33m(\u001b[0m\u001b[0mdtype\u001b[0m\u001b[1;33m,\u001b[0m \u001b[1;34m\"dtype\"\u001b[0m\u001b[1;33m,\u001b[0m \u001b[0mdtype\u001b[0m\u001b[1;33m)\u001b[0m\u001b[1;33m\u001b[0m\u001b[0m\n\u001b[0;32m    281\u001b[0m \u001b[1;33m\u001b[0m\u001b[0m\n\u001b[1;32m--> 282\u001b[1;33m         \u001b[1;32mif\u001b[0m \u001b[0misinstance\u001b[0m\u001b[1;33m(\u001b[0m\u001b[0mdtype\u001b[0m\u001b[1;33m,\u001b[0m \u001b[1;33m(\u001b[0m\u001b[0mABCSeries\u001b[0m\u001b[1;33m,\u001b[0m \u001b[0mABCIndexClass\u001b[0m\u001b[1;33m,\u001b[0m \u001b[0mABCDataFrame\u001b[0m\u001b[1;33m,\u001b[0m \u001b[0mnp\u001b[0m\u001b[1;33m.\u001b[0m\u001b[0mdtype\u001b[0m\u001b[1;33m)\u001b[0m\u001b[1;33m)\u001b[0m\u001b[1;33m:\u001b[0m\u001b[1;33m\u001b[0m\u001b[0m\n\u001b[0m\u001b[0;32m    283\u001b[0m             \u001b[1;31m# https://github.com/pandas-dev/pandas/issues/22960\u001b[0m\u001b[1;33m\u001b[0m\u001b[1;33m\u001b[0m\u001b[0m\n\u001b[0;32m    284\u001b[0m             \u001b[1;31m# avoid passing data to `construct_from_string`. This could\u001b[0m\u001b[1;33m\u001b[0m\u001b[1;33m\u001b[0m\u001b[0m\n",
      "\u001b[1;31mKeyboardInterrupt\u001b[0m: "
     ]
    }
   ],
   "source": [
    "# Set max_new_stops to 5\n",
    "suggest_new_bus_stops_from_od_total(df_od_trimmed, max_new_stops = 5, min_total_threshold = 30)"
   ]
  },
  {
   "cell_type": "markdown",
   "id": "278b8e35",
   "metadata": {},
   "source": [
    "### Optimization Results Summary: Minimizing Absolute Commute Time (Step-Free Routes)\n",
    "\n",
    "To reduce the total travel burden for passengers relying on step-free accessible routes, we implemented a P-Median optimization model using absolute commute time (in minutes) as the cost metric. We filtered the OD pairs to retain only those with a total step-free travel time exceeding 30 minutes and falling below the 95th percentile (to exclude extreme outliers), yielding 60 high-priority OD pairs and 89 candidate stations for new bus stops.\n",
    "\n",
    "Key findings:\n",
    "\n",
    "* When allowing up to 2 new bus stops, the model suggests: `Wimbledon`, `Colindale`\n",
    "  → Total weighted commute cost reduced to: 84,903.00\n",
    "\n",
    "* When allowing up to 3 new bus stops, the model suggests: `Clapham Common`, `Wimbledon`, `Colindale`\n",
    "  → Total weighted commute cost reduced to: 79,538.00\n",
    "\n",
    "* When allowing up to 4 new bus stops, the model suggests: `Clapham Common`, `Wimbledon`, `Colindale`, `Stratford`\n",
    "  → Total weighted commute cost reduced further to: 74,822.00\n",
    "\n",
    "However, when attempting to optimize with 5 new stops, the function failed to complete even after 58 hours of computation, revealing a significant increase in complexity due to combinatorial explosion.\n",
    "\n",
    "To address this, we plan to revise the cost function used in the optimization process by shifting from absolute commute time to more scalable metrics such as:\n",
    "\n",
    "1. **Time difference** between regular and step-free routes\n",
    "2. **Travel time ratio** (e.g., regular / step-free time)\n",
    "\n",
    "This aims to better reflect accessibility disparities while reducing computational burden.\n",
    "\n",
    "These findings provide a solid foundation for refining our optimization strategy and exploring more robust, scalable approaches to improving step-free accessibility in the future."
   ]
  }
 ],
 "metadata": {
  "kernelspec": {
   "display_name": "base",
   "language": "python",
   "name": "python3"
  },
  "language_info": {
   "codemirror_mode": {
    "name": "ipython",
    "version": 3
   },
   "file_extension": ".py",
   "mimetype": "text/x-python",
   "name": "python",
   "nbconvert_exporter": "python",
   "pygments_lexer": "ipython3",
   "version": "3.6.5"
  }
 },
 "nbformat": 4,
 "nbformat_minor": 5
}
