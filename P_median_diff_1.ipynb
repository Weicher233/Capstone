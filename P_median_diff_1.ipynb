{
  "cells": [
    {
      "cell_type": "code",
      "execution_count": 1,
      "id": "ae51e206",
      "metadata": {
        "id": "ae51e206"
      },
      "outputs": [],
      "source": [
        "import pandas as pd\n",
        "import requests\n",
        "import networkx as nx\n",
        "import random\n",
        "from collections import Counter\n",
        "import plotly.graph_objects as go\n",
        "import matplotlib.pyplot as plt\n",
        "from itertools import combinations"
      ]
    },
    {
      "cell_type": "code",
      "execution_count": 2,
      "id": "70df1f79",
      "metadata": {
        "colab": {
          "base_uri": "https://localhost:8080/"
        },
        "id": "70df1f79",
        "outputId": "fe4632f5-88f4-4f3a-a2a7-b160d888ac4e"
      },
      "outputs": [
        {
          "output_type": "stream",
          "name": "stdout",
          "text": [
            "['_Cover', 'Link_Loads', 'Link_Frequencies', 'Line_Boarders', 'Station_Flows', 'Station_Entries', 'Station_Exits', 'Station_Boarders', 'Station_Alighters']\n"
          ]
        }
      ],
      "source": [
        "url = \"https://crowding.data.tfl.gov.uk/NUMBAT/NUMBAT%202023/NBT23FRI_outputs.xlsx\"\n",
        "\n",
        "r = requests.get(url)\n",
        "with open(\"NBT23FRI_outputs.xlsx\", \"wb\") as f:\n",
        "    f.write(r.content)\n",
        "\n",
        "xls = pd.ExcelFile(\"NBT23FRI_outputs.xlsx\")\n",
        "print(xls.sheet_names)"
      ]
    },
    {
      "cell_type": "code",
      "execution_count": 3,
      "id": "f750a1e9",
      "metadata": {
        "id": "f750a1e9"
      },
      "outputs": [],
      "source": [
        "df_links = pd.read_excel(xls, sheet_name=\"Link_Loads\", header=2)\n",
        "df_flows = pd.read_excel(xls, sheet_name=\"Station_Flows\", header=2)\n",
        "df_entries = pd.read_excel(xls, sheet_name=\"Station_Entries\", header=2)\n",
        "df_exits = pd.read_excel(xls, sheet_name=\"Station_Exits\", header=2)\n",
        "df_boarders = pd.read_excel(xls, sheet_name=\"Station_Boarders\", header=2)\n",
        "df_alighters = pd.read_excel(xls, sheet_name=\"Station_Alighters\", header=2)\n",
        "\n",
        "# Extract a sorted list of interchange station names from flow data\n",
        "def extract_interchange_stations(df_flows):\n",
        "    interchange_rows = df_flows[df_flows[\"Movement\"].str.contains(\"Interchange\", na=False)]\n",
        "    interchange_stations = sorted(interchange_rows[\"To Station\"].dropna().unique())\n",
        "    return interchange_stations\n",
        "\n",
        "# Construct a directed graph where nodes are stations and edges represent flows\n",
        "def build_graph_from_links(df_links, entry_stations=None, exit_stations=None):\n",
        "    G = nx.DiGraph()\n",
        "    for _, r in df_links.iterrows():\n",
        "        # Add edge with weight = flow volume\n",
        "        G.add_edge(r[\"From Station\"], r[\"To Station\"], weight=r[\"Total\"])\n",
        "    # Ensure all entry and exit stations are in the graph\n",
        "    if len(entry_stations) > 0:\n",
        "        for station in entry_stations:\n",
        "            if station not in G:\n",
        "                G.add_node(station)\n",
        "    if len(exit_stations) > 0:\n",
        "        for station in exit_stations:\n",
        "            if station not in G:\n",
        "                G.add_node(station)\n",
        "    return G"
      ]
    },
    {
      "cell_type": "code",
      "source": [
        "import pandas as pd\n",
        "from itertools import combinations\n",
        "\n",
        "try:\n",
        "    from rapidfuzz import process, fuzz\n",
        "    _HAS_FUZZ = True\n",
        "except Exception:\n",
        "    _HAS_FUZZ = False\n",
        "\n",
        "\n",
        "def normalize_name(s: str) -> str:\n",
        "    \"\"\"Lightweight normalizer for station names across datasets.\"\"\"\n",
        "    if pd.isna(s):\n",
        "        return \"\"\n",
        "    s = str(s).lower()\n",
        "    junk = [\n",
        "        \" underground\", \" underground station\", \" station\", \" rail station\",\n",
        "        \" (dlr)\", \" dlr\", \" lu\", \" tube\", \" elizabeth line\", \" overground\"\n",
        "    ]\n",
        "    for j in junk:\n",
        "        s = s.replace(j, \"\")\n",
        "    for ch in [\",\", \".\", \"(\", \")\", \"-\", \"–\", \"—\", \"/\"]:\n",
        "        s = s.replace(ch, \" \")\n",
        "    s = \" \".join(s.split())\n",
        "    return s\n",
        "\n",
        "\n",
        "def load_facility_table(path_or_df):\n",
        "    \"\"\"\n",
        "    Load facility table with columns (case-insensitive):\n",
        "      'Station Name', 'Lift access', 'Main bus interchange'(optional)\n",
        "    'Lift access' is 1 (yes) or NaN/blank (no).\n",
        "    Returns DataFrame with:\n",
        "      Station, has_lift (bool), name_norm\n",
        "    \"\"\"\n",
        "    df = path_or_df if isinstance(path_or_df, pd.DataFrame) else pd.read_excel(path_or_df)\n",
        "\n",
        "    cols = {c.lower().strip(): c for c in df.columns}\n",
        "    st_col   = cols.get(\"station name\")\n",
        "    lift_col = cols.get(\"lift access\")\n",
        "    if not all([st_col, lift_col]):\n",
        "        raise ValueError(f\"Expect columns: 'Station Name' & 'Lift access'. Got: {list(df.columns)}\")\n",
        "\n",
        "    def one_to_bool(x):\n",
        "        return True if (pd.notna(x) and (str(x).strip() in {\"1\", \"true\", \"True\"} or x == 1)) else False\n",
        "\n",
        "    out = pd.DataFrame({\n",
        "        \"Station\": df[st_col].astype(str),\n",
        "        \"has_lift\": df[lift_col].map(one_to_bool),\n",
        "    })\n",
        "    out[\"name_norm\"] = out[\"Station\"].map(normalize_name)\n",
        "    return out\n",
        "\n",
        "def match_candidates_to_facility_lift_only(\n",
        "    candidates,\n",
        "    facility_df,\n",
        "    score_cutoff=90,\n",
        "    keep_condition=\"no_lift\",\n",
        "    keep_unmatched=False\n",
        "):\n",
        "    \"\"\"\n",
        "    Filter candidates based on facility table for lift access.\n",
        "    \"\"\"\n",
        "    assert keep_condition in {\"no_lift\", \"has_lift\"}\n",
        "    want = (keep_condition == \"has_lift\")\n",
        "\n",
        "    filtered = []\n",
        "    rows = []\n",
        "    fac_names = facility_df[\"name_norm\"].tolist()\n",
        "\n",
        "    for s in candidates:\n",
        "        s_norm = normalize_name(s)\n",
        "\n",
        "        if _HAS_FUZZ:\n",
        "            best = process.extractOne(\n",
        "                s_norm, fac_names,\n",
        "                scorer=fuzz.token_sort_ratio,\n",
        "                score_cutoff=score_cutoff\n",
        "            )\n",
        "            if best:\n",
        "                idx = best[2]\n",
        "                rec = facility_df.iloc[idx]\n",
        "                ok = (rec[\"has_lift\"] == want)\n",
        "                if ok:\n",
        "                    filtered.append(s)\n",
        "                rows.append({\n",
        "                    \"candidate\": s,\n",
        "                    \"candidate_norm\": s_norm,\n",
        "                    \"matched_station\": rec[\"Station\"],\n",
        "                    \"score\": best[1],\n",
        "                    \"has_lift\": rec[\"has_lift\"],\n",
        "                    \"kept\": bool(ok)\n",
        "                })\n",
        "            else:\n",
        "                if keep_unmatched:\n",
        "                    filtered.append(s)\n",
        "                rows.append({\n",
        "                    \"candidate\": s,\n",
        "                    \"candidate_norm\": s_norm,\n",
        "                    \"matched_station\": None,\n",
        "                    \"score\": None,\n",
        "                    \"has_lift\": None,\n",
        "                    \"kept\": bool(keep_unmatched)\n",
        "                })\n",
        "        else:\n",
        "            hit = facility_df[facility_df[\"name_norm\"] == s_norm]\n",
        "            if not hit.empty:\n",
        "                rec = hit.iloc[0]\n",
        "                ok = (rec[\"has_lift\"] == want)\n",
        "                if ok:\n",
        "                    filtered.append(s)\n",
        "                rows.append({\n",
        "                    \"candidate\": s,\n",
        "                    \"candidate_norm\": s_norm,\n",
        "                    \"matched_station\": rec[\"Station\"],\n",
        "                    \"score\": 100,\n",
        "                    \"has_lift\": rec[\"has_lift\"],\n",
        "                    \"kept\": bool(ok)\n",
        "                })\n",
        "            else:\n",
        "                if keep_unmatched:\n",
        "                    filtered.append(s)\n",
        "                rows.append({\n",
        "                    \"candidate\": s,\n",
        "                    \"candidate_norm\": s_norm,\n",
        "                    \"matched_station\": None,\n",
        "                    \"score\": None,\n",
        "                    \"has_lift\": None,\n",
        "                    \"kept\": bool(keep_unmatched)\n",
        "                })\n",
        "\n",
        "    report = pd.DataFrame(rows)\n",
        "    return filtered, report\n",
        "\n",
        "\n",
        "\n",
        "def suggest_new_bus_stops_from_diff(\n",
        "    df_od,\n",
        "    facility_df,\n",
        "    max_new_stops=3,\n",
        "    min_diff_threshold=15,\n",
        "    fuzzy_cutoff=90,\n",
        "    keep_unmatched=False,\n",
        "    keep_condition=\"no_lift\",\n",
        "):\n",
        "    \"\"\"\n",
        "    Suggest new bus stops based on OD pairs with high total diff time.\n",
        "    Expects df_od to contain: ['Start_Station', 'End_Station', 'Count', 'Total']\n",
        "    facility_df: output of load_facility_table(...)\n",
        "    with 'has_lift' column.\n",
        "    Only keep candidates that (by fuzzy match) have NO lift access.\n",
        "    \"\"\"\n",
        "    # Step 1: Filter OD pairs with long total diff time\n",
        "    df_long_travel = df_od[df_od[\"time_diff\"] >= min_diff_threshold].copy()\n",
        "    if df_long_travel.empty:\n",
        "        print(\"No OD pairs exceed the minimum time_diff threshold.\")\n",
        "        return tuple(), None\n",
        "\n",
        "    # Step 2: Identify candidate stations from underserved OD pairs\n",
        "    candidate_nodes = sorted(set(df_long_travel[\"Start_Station\"]).union(df_long_travel[\"End_Station\"]))\n",
        "    print(f\"Found {len(df_long_travel)} OD pairs with time_diff ≥ {min_diff_threshold}\")\n",
        "    print(f\"Raw candidate stations: {len(candidate_nodes)}\")\n",
        "\n",
        "    # Step 2.5: Apply lift-only facility filter via fuzzy matching\n",
        "    filtered_candidates, match_report = match_candidates_to_facility_lift_only(\n",
        "        candidate_nodes,\n",
        "        facility_df,\n",
        "        score_cutoff=fuzzy_cutoff,\n",
        "        keep_condition=keep_condition,\n",
        "        keep_unmatched=keep_unmatched\n",
        "    )\n",
        "    print(f\"Candidates after lift-only filter ({keep_condition}): {len(filtered_candidates)}\")\n",
        "\n",
        "    if not filtered_candidates:\n",
        "        print(\"No candidates remain after lift-only filter.\")\n",
        "        return tuple(), match_report\n",
        "\n",
        "    # Step 3: Try all combinations of new stop placements (brute-force for small-scale test)\n",
        "    k = min(max_new_stops, len(filtered_candidates))\n",
        "    candidate_nodes = list(filtered_candidates)\n",
        "\n",
        "    best_total_cost = float(\"inf\")\n",
        "    best_combo = None\n",
        "\n",
        "\n",
        "    for combo in combinations(candidate_nodes, max_new_stops):\n",
        "        total_cost = 0\n",
        "        for _, row in df_long_travel.iterrows():\n",
        "            u, v = row[\"Start_Station\"], row[\"End_Station\"]\n",
        "            count = row[\"Frequency\"]\n",
        "            time_diff = row[\"time_diff\"]\n",
        "\n",
        "            if u in combo or v in combo:\n",
        "                total_cost += 1 * count\n",
        "            else:\n",
        "                total_cost += time_diff * count\n",
        "\n",
        "        if total_cost < best_total_cost:\n",
        "            best_total_cost = total_cost\n",
        "            best_combo = combo\n",
        "\n",
        "    print(f\"Suggested new bus stop locations (up to {max_new_stops}): {best_combo}\")\n",
        "    print(f\"Total weighted accessibility gap reduced to: {best_total_cost:.2f}\")\n",
        "\n",
        "    return best_combo, match_report"
      ],
      "metadata": {
        "id": "nrxUB1bPy8-k"
      },
      "id": "nrxUB1bPy8-k",
      "execution_count": 13,
      "outputs": []
    },
    {
      "cell_type": "markdown",
      "source": [
        "# Count coverage rate"
      ],
      "metadata": {
        "id": "TiPxGd4OhEPg"
      },
      "id": "TiPxGd4OhEPg"
    },
    {
      "cell_type": "code",
      "source": [
        "def coverage_rates(df_od, best_stops, threshold, diff_col=\"time_diff\"):\n",
        "    df = df_od.copy()\n",
        "    df[diff_col] = pd.to_numeric(df[diff_col], errors=\"coerce\").fillna(0)\n",
        "    wcol = \"Count\" if \"Count\" in df.columns else (\"Frequency\" if \"Frequency\" in df.columns else None)\n",
        "    if wcol is None:\n",
        "        df[\"__w__\"] = 1; wcol = \"__w__\"\n",
        "    df = df[df[diff_col] >= threshold].copy()\n",
        "    if df.empty:\n",
        "        return {\"num_od\":0, \"covered_pairs\":0, \"pair_cov\":0.0, \"trip_cov\":0.0}\n",
        "    s = set(best_stops)\n",
        "    covered = df[\"Start_Station\"].isin(s) | df[\"End_Station\"].isin(s)\n",
        "    pair_cov = float(covered.mean())\n",
        "    trip_cov = float(df.loc[covered, wcol].sum() / df[wcol].sum()) if df[wcol].sum() > 0 else 0.0\n",
        "    return {\"num_od\": int(len(df)), \"covered_pairs\": int(covered.sum()),\n",
        "            \"pair_cov\": pair_cov, \"trip_cov\": trip_cov}\n"
      ],
      "metadata": {
        "id": "ZG0-XkG6PFFH"
      },
      "id": "ZG0-XkG6PFFH",
      "execution_count": 32,
      "outputs": []
    },
    {
      "cell_type": "markdown",
      "source": [
        "# max_new_stops=2"
      ],
      "metadata": {
        "id": "KmjvgFATiGvm"
      },
      "id": "KmjvgFATiGvm"
    },
    {
      "cell_type": "code",
      "source": [
        "df_od = pd.read_csv(\"OD_Routes_diff_ratio.csv\")\n",
        "fac = load_facility_table(\"FINISH_station_facility.xlsx\")\n",
        "entry_stations = df_entries[\"Station\"].dropna().unique()\n",
        "exit_stations = df_exits[\"Station\"].dropna().unique()\n",
        "G = build_graph_from_links(df_links, entry_stations, exit_stations)\n",
        "best_stops, match_report = suggest_new_bus_stops_from_diff(\n",
        "    df_od,\n",
        "    facility_df=fac,\n",
        "    max_new_stops=2,\n",
        "    min_diff_threshold=31.9,\n",
        "    fuzzy_cutoff=85,\n",
        "    keep_unmatched=True,\n",
        "    keep_condition=\"no_lift\"\n",
        ")"
      ],
      "metadata": {
        "colab": {
          "base_uri": "https://localhost:8080/"
        },
        "id": "N444Jd2NhRaU",
        "outputId": "a8372506-a761-4612-a186-fe6bf77bd68f"
      },
      "id": "N444Jd2NhRaU",
      "execution_count": 53,
      "outputs": [
        {
          "output_type": "stream",
          "name": "stdout",
          "text": [
            "Found 46 OD pairs with time_diff ≥ 31.9\n",
            "Raw candidate stations: 62\n",
            "Candidates after lift-only filter (no_lift): 46\n",
            "Suggested new bus stop locations (up to 2): ('High Barnet', 'West Ruislip')\n",
            "Total weighted accessibility gap reduced to: 46317.28\n"
          ]
        }
      ]
    },
    {
      "cell_type": "code",
      "source": [
        "m = coverage_rates(df_od, best_stops, threshold=31.9, diff_col=\"time_diff\")\n",
        "print(f\"covered_pairs: {m['covered_pairs']}/{m['num_od']},  pair_cov={m['pair_cov']:.1%},  trip_cov={m['trip_cov']:.1%}\")\n"
      ],
      "metadata": {
        "colab": {
          "base_uri": "https://localhost:8080/"
        },
        "id": "OrjGf9IJhT4Q",
        "outputId": "63b5b576-2e2d-42a6-b710-20a50a2865eb"
      },
      "id": "OrjGf9IJhT4Q",
      "execution_count": 54,
      "outputs": [
        {
          "output_type": "stream",
          "name": "stdout",
          "text": [
            "covered_pairs: 15/46,  pair_cov=32.6%,  trip_cov=30.9%\n"
          ]
        }
      ]
    },
    {
      "cell_type": "code",
      "source": [
        "df_od = pd.read_csv(\"OD_Routes_diff_ratio.csv\")\n",
        "fac = load_facility_table(\"FINISH_station_facility.xlsx\")\n",
        "entry_stations = df_entries[\"Station\"].dropna().unique()\n",
        "exit_stations = df_exits[\"Station\"].dropna().unique()\n",
        "G = build_graph_from_links(df_links, entry_stations, exit_stations)\n",
        "best_stops, match_report = suggest_new_bus_stops_from_diff(\n",
        "    df_od,\n",
        "    facility_df=fac,\n",
        "    max_new_stops=2,\n",
        "    min_diff_threshold=34.1,\n",
        "    fuzzy_cutoff=85,\n",
        "    keep_unmatched=True,\n",
        "    keep_condition=\"no_lift\"\n",
        ")"
      ],
      "metadata": {
        "colab": {
          "base_uri": "https://localhost:8080/"
        },
        "id": "uCauZot2hWme",
        "outputId": "59534671-43dd-486d-8b24-a5965469261d"
      },
      "id": "uCauZot2hWme",
      "execution_count": 57,
      "outputs": [
        {
          "output_type": "stream",
          "name": "stdout",
          "text": [
            "Found 40 OD pairs with time_diff ≥ 34.1\n",
            "Raw candidate stations: 54\n",
            "Candidates after lift-only filter (no_lift): 41\n",
            "Suggested new bus stop locations (up to 2): ('High Barnet', 'West Ruislip')\n",
            "Total weighted accessibility gap reduced to: 41107.90\n"
          ]
        }
      ]
    },
    {
      "cell_type": "code",
      "source": [
        "m = coverage_rates(df_od, best_stops, threshold=34.1, diff_col=\"time_diff\")\n",
        "print(f\"covered_pairs: {m['covered_pairs']}/{m['num_od']},  pair_cov={m['pair_cov']:.1%},  trip_cov={m['trip_cov']:.1%}\")\n"
      ],
      "metadata": {
        "colab": {
          "base_uri": "https://localhost:8080/"
        },
        "id": "r1GCS40qhZLa",
        "outputId": "b2e0a078-eb30-49ae-fd76-fa39be9a9a34"
      },
      "id": "r1GCS40qhZLa",
      "execution_count": 58,
      "outputs": [
        {
          "output_type": "stream",
          "name": "stdout",
          "text": [
            "covered_pairs: 15/40,  pair_cov=37.5%,  trip_cov=35.2%\n"
          ]
        }
      ]
    },
    {
      "cell_type": "markdown",
      "source": [
        "# max_new_stops=3"
      ],
      "metadata": {
        "id": "pCJAN4LEiMku"
      },
      "id": "pCJAN4LEiMku"
    },
    {
      "cell_type": "code",
      "source": [
        "df_od = pd.read_csv(\"OD_Routes_diff_ratio.csv\")\n",
        "fac = load_facility_table(\"FINISH_station_facility.xlsx\")\n",
        "entry_stations = df_entries[\"Station\"].dropna().unique()\n",
        "exit_stations = df_exits[\"Station\"].dropna().unique()\n",
        "G = build_graph_from_links(df_links, entry_stations, exit_stations)\n",
        "best_stops, match_report = suggest_new_bus_stops_from_diff(\n",
        "    df_od,\n",
        "    facility_df=fac,\n",
        "    max_new_stops=3,\n",
        "    min_diff_threshold=31.9,\n",
        "    fuzzy_cutoff=85,\n",
        "    keep_unmatched=True,\n",
        "    keep_condition=\"no_lift\"\n",
        ")"
      ],
      "metadata": {
        "colab": {
          "base_uri": "https://localhost:8080/"
        },
        "id": "yKHLUEXWAqgn",
        "outputId": "e4e46b26-8f6c-4de4-c3a7-57c2b1a25fb2"
      },
      "id": "yKHLUEXWAqgn",
      "execution_count": 47,
      "outputs": [
        {
          "output_type": "stream",
          "name": "stdout",
          "text": [
            "Found 46 OD pairs with time_diff ≥ 31.9\n",
            "Raw candidate stations: 62\n",
            "Candidates after lift-only filter (no_lift): 46\n",
            "Suggested new bus stop locations (up to 3): ('High Barnet', 'Turnpike Lane', 'West Ruislip')\n",
            "Total weighted accessibility gap reduced to: 41329.28\n"
          ]
        }
      ]
    },
    {
      "cell_type": "code",
      "source": [
        "m = coverage_rates(df_od, best_stops, threshold=31.9, diff_col=\"time_diff\")\n",
        "print(f\"covered_pairs: {m['covered_pairs']}/{m['num_od']},  pair_cov={m['pair_cov']:.1%},  trip_cov={m['trip_cov']:.1%}\")\n"
      ],
      "metadata": {
        "colab": {
          "base_uri": "https://localhost:8080/"
        },
        "id": "vlnvBYi8Wx37",
        "outputId": "3fedafdf-f9a1-4dcb-efa2-bf3c27a7dddf"
      },
      "id": "vlnvBYi8Wx37",
      "execution_count": 48,
      "outputs": [
        {
          "output_type": "stream",
          "name": "stdout",
          "text": [
            "covered_pairs: 16/46,  pair_cov=34.8%,  trip_cov=34.2%\n"
          ]
        }
      ]
    },
    {
      "cell_type": "code",
      "source": [
        "df_od = pd.read_csv(\"OD_Routes_diff_ratio.csv\")\n",
        "fac = load_facility_table(\"FINISH_station_facility.xlsx\")\n",
        "entry_stations = df_entries[\"Station\"].dropna().unique()\n",
        "exit_stations = df_exits[\"Station\"].dropna().unique()\n",
        "G = build_graph_from_links(df_links, entry_stations, exit_stations)\n",
        "best_stops, match_report = suggest_new_bus_stops_from_diff(\n",
        "    df_od,\n",
        "    facility_df=fac,\n",
        "    max_new_stops=3,\n",
        "    min_diff_threshold=34.1,\n",
        "    fuzzy_cutoff=85,\n",
        "    keep_unmatched=True,\n",
        "    keep_condition=\"no_lift\"\n",
        ")"
      ],
      "metadata": {
        "colab": {
          "base_uri": "https://localhost:8080/"
        },
        "id": "vcJ0_nXHWvTH",
        "outputId": "659c7c71-a6b4-48a9-94f9-5c4edac30e3e"
      },
      "id": "vcJ0_nXHWvTH",
      "execution_count": 49,
      "outputs": [
        {
          "output_type": "stream",
          "name": "stdout",
          "text": [
            "Found 40 OD pairs with time_diff ≥ 34.1\n",
            "Raw candidate stations: 54\n",
            "Candidates after lift-only filter (no_lift): 41\n",
            "Suggested new bus stop locations (up to 3): ('High Barnet', 'Turnpike Lane', 'West Ruislip')\n",
            "Total weighted accessibility gap reduced to: 36119.90\n"
          ]
        }
      ]
    },
    {
      "cell_type": "code",
      "source": [
        "m = coverage_rates(df_od, best_stops, threshold=34.1, diff_col=\"time_diff\")\n",
        "print(f\"covered_pairs: {m['covered_pairs']}/{m['num_od']},  pair_cov={m['pair_cov']:.1%},  trip_cov={m['trip_cov']:.1%}\")\n"
      ],
      "metadata": {
        "colab": {
          "base_uri": "https://localhost:8080/"
        },
        "id": "mMIb38rbWrt6",
        "outputId": "5cc84724-653d-4413-8f10-af38572c78f4"
      },
      "id": "mMIb38rbWrt6",
      "execution_count": 50,
      "outputs": [
        {
          "output_type": "stream",
          "name": "stdout",
          "text": [
            "covered_pairs: 16/40,  pair_cov=40.0%,  trip_cov=39.1%\n"
          ]
        }
      ]
    },
    {
      "cell_type": "code",
      "source": [
        "df_od = pd.read_csv(\"OD_Routes_diff_ratio.csv\")\n",
        "fac = load_facility_table(\"FINISH_station_facility.xlsx\")\n",
        "entry_stations = df_entries[\"Station\"].dropna().unique()\n",
        "exit_stations = df_exits[\"Station\"].dropna().unique()\n",
        "G = build_graph_from_links(df_links, entry_stations, exit_stations)\n",
        "best_stops, match_report = suggest_new_bus_stops_from_diff(\n",
        "    df_od,\n",
        "    facility_df=fac,\n",
        "    max_new_stops=3,\n",
        "    min_diff_threshold=25.3,\n",
        "    fuzzy_cutoff=85,\n",
        "    keep_unmatched=True,\n",
        "    keep_condition=\"no_lift\"\n",
        ")"
      ],
      "metadata": {
        "colab": {
          "base_uri": "https://localhost:8080/"
        },
        "id": "RCxW0MKTAvyY",
        "outputId": "c5e52821-85d2-43ea-a2f7-b58c4e86f310"
      },
      "id": "RCxW0MKTAvyY",
      "execution_count": 21,
      "outputs": [
        {
          "output_type": "stream",
          "name": "stdout",
          "text": [
            "Found 61 OD pairs with time_diff ≥ 25.3\n",
            "Raw candidate stations: 78\n",
            "Candidates after lift-only filter (no_lift): 59\n",
            "Suggested new bus stop locations (up to 3): ('Hammersmith (H&C)', 'High Barnet', 'West Ruislip')\n",
            "Total weighted accessibility gap reduced to: 52045.95\n"
          ]
        }
      ]
    },
    {
      "cell_type": "code",
      "source": [
        "df_od = pd.read_csv(\"OD_Routes_diff_ratio.csv\")\n",
        "fac = load_facility_table(\"FINISH_station_facility.xlsx\")\n",
        "entry_stations = df_entries[\"Station\"].dropna().unique()\n",
        "exit_stations = df_exits[\"Station\"].dropna().unique()\n",
        "G = build_graph_from_links(df_links, entry_stations, exit_stations)\n",
        "best_stops, match_report = suggest_new_bus_stops_from_diff(\n",
        "    df_od,\n",
        "    facility_df=fac,\n",
        "    max_new_stops=3,\n",
        "    min_diff_threshold=14.7,\n",
        "    fuzzy_cutoff=85,\n",
        "    keep_unmatched=True,\n",
        "    keep_condition=\"no_lift\"\n",
        ")"
      ],
      "metadata": {
        "colab": {
          "base_uri": "https://localhost:8080/"
        },
        "id": "9cuGYZN3BGfL",
        "outputId": "ac7f9982-d7ff-49b1-b294-1b6456b49ef4"
      },
      "id": "9cuGYZN3BGfL",
      "execution_count": 22,
      "outputs": [
        {
          "output_type": "stream",
          "name": "stdout",
          "text": [
            "Found 92 OD pairs with time_diff ≥ 14.7\n",
            "Raw candidate stations: 113\n",
            "Candidates after lift-only filter (no_lift): 82\n",
            "Suggested new bus stop locations (up to 3): ('Hammersmith (H&C)', 'High Barnet', 'West Ruislip')\n",
            "Total weighted accessibility gap reduced to: 65358.30\n"
          ]
        }
      ]
    },
    {
      "cell_type": "markdown",
      "source": [
        "# max_new_stops=4"
      ],
      "metadata": {
        "id": "mXl-oXM1iUb8"
      },
      "id": "mXl-oXM1iUb8"
    },
    {
      "cell_type": "code",
      "source": [
        "df_od = pd.read_csv(\"OD_Routes_diff_ratio.csv\")\n",
        "fac = load_facility_table(\"FINISH_station_facility.xlsx\")\n",
        "entry_stations = df_entries[\"Station\"].dropna().unique()\n",
        "exit_stations = df_exits[\"Station\"].dropna().unique()\n",
        "G = build_graph_from_links(df_links, entry_stations, exit_stations)\n",
        "best_stops, match_report = suggest_new_bus_stops_from_diff(\n",
        "    df_od,\n",
        "    facility_df=fac,\n",
        "    max_new_stops=4,\n",
        "    min_diff_threshold=31.9,\n",
        "    fuzzy_cutoff=85,\n",
        "    keep_unmatched=True,\n",
        "    keep_condition=\"no_lift\"\n",
        ")"
      ],
      "metadata": {
        "colab": {
          "base_uri": "https://localhost:8080/"
        },
        "id": "vIj4zVIACIeg",
        "outputId": "9a8d21cc-ebe6-4108-8dc5-1bdcbe33b31a"
      },
      "id": "vIj4zVIACIeg",
      "execution_count": 66,
      "outputs": [
        {
          "output_type": "stream",
          "name": "stdout",
          "text": [
            "Found 46 OD pairs with time_diff ≥ 31.9\n",
            "Raw candidate stations: 62\n",
            "Candidates after lift-only filter (no_lift): 46\n",
            "Suggested new bus stop locations (up to 4): ('Hammersmith (H&C)', 'High Barnet', 'Turnpike Lane', 'West Ruislip')\n",
            "Total weighted accessibility gap reduced to: 36732.70\n"
          ]
        }
      ]
    },
    {
      "cell_type": "code",
      "source": [
        "m = coverage_rates(df_od, best_stops, threshold=31.9, diff_col=\"time_diff\")\n",
        "print(f\"covered_pairs: {m['covered_pairs']}/{m['num_od']},  pair_cov={m['pair_cov']:.1%},  trip_cov={m['trip_cov']:.1%}\")\n"
      ],
      "metadata": {
        "colab": {
          "base_uri": "https://localhost:8080/"
        },
        "id": "dlW73QDiihei",
        "outputId": "aa524d7c-2272-4908-b956-bed77cff99f3"
      },
      "id": "dlW73QDiihei",
      "execution_count": 67,
      "outputs": [
        {
          "output_type": "stream",
          "name": "stdout",
          "text": [
            "covered_pairs: 19/46,  pair_cov=41.3%,  trip_cov=41.5%\n"
          ]
        }
      ]
    },
    {
      "cell_type": "code",
      "source": [
        "df_od = pd.read_csv(\"OD_Routes_diff_ratio.csv\")\n",
        "fac = load_facility_table(\"FINISH_station_facility.xlsx\")\n",
        "entry_stations = df_entries[\"Station\"].dropna().unique()\n",
        "exit_stations = df_exits[\"Station\"].dropna().unique()\n",
        "G = build_graph_from_links(df_links, entry_stations, exit_stations)\n",
        "best_stops, match_report = suggest_new_bus_stops_from_diff(\n",
        "    df_od,\n",
        "    facility_df=fac,\n",
        "    max_new_stops=4,\n",
        "    min_diff_threshold=34.1,\n",
        "    fuzzy_cutoff=85,\n",
        "    keep_unmatched=True,\n",
        "    keep_condition=\"no_lift\"\n",
        ")"
      ],
      "metadata": {
        "colab": {
          "base_uri": "https://localhost:8080/"
        },
        "id": "2ejVJOYziaEX",
        "outputId": "59f60bc4-4df2-4b77-e358-00d51ec63259"
      },
      "id": "2ejVJOYziaEX",
      "execution_count": 59,
      "outputs": [
        {
          "output_type": "stream",
          "name": "stdout",
          "text": [
            "Found 40 OD pairs with time_diff ≥ 34.1\n",
            "Raw candidate stations: 54\n",
            "Candidates after lift-only filter (no_lift): 41\n",
            "Suggested new bus stop locations (up to 4): ('Hammersmith (H&C)', 'High Barnet', 'Turnpike Lane', 'West Ruislip')\n",
            "Total weighted accessibility gap reduced to: 32469.32\n"
          ]
        }
      ]
    },
    {
      "cell_type": "code",
      "source": [
        "m = coverage_rates(df_od, best_stops, threshold=34.1, diff_col=\"time_diff\")\n",
        "print(f\"covered_pairs: {m['covered_pairs']}/{m['num_od']},  pair_cov={m['pair_cov']:.1%},  trip_cov={m['trip_cov']:.1%}\")\n"
      ],
      "metadata": {
        "colab": {
          "base_uri": "https://localhost:8080/"
        },
        "id": "iO_pMlpzifJ3",
        "outputId": "d77e08c0-1666-4adb-e4bb-8efa48e1c586"
      },
      "id": "iO_pMlpzifJ3",
      "execution_count": 60,
      "outputs": [
        {
          "output_type": "stream",
          "name": "stdout",
          "text": [
            "covered_pairs: 18/40,  pair_cov=45.0%,  trip_cov=44.7%\n"
          ]
        }
      ]
    },
    {
      "cell_type": "code",
      "source": [
        "df_od = pd.read_csv(\"OD_Routes_diff_ratio.csv\")\n",
        "fac = load_facility_table(\"FINISH_station_facility.xlsx\")\n",
        "entry_stations = df_entries[\"Station\"].dropna().unique()\n",
        "exit_stations = df_exits[\"Station\"].dropna().unique()\n",
        "G = build_graph_from_links(df_links, entry_stations, exit_stations)\n",
        "best_stops, match_report = suggest_new_bus_stops_from_diff(\n",
        "    df_od,\n",
        "    facility_df=fac,\n",
        "    max_new_stops=4,\n",
        "    min_diff_threshold=25.3,\n",
        "    fuzzy_cutoff=85,\n",
        "    keep_unmatched=True,\n",
        "    keep_condition=\"no_lift\"\n",
        ")"
      ],
      "metadata": {
        "colab": {
          "base_uri": "https://localhost:8080/"
        },
        "id": "KwHjgm2_F6zU",
        "outputId": "022652a2-b7bb-4783-e75e-bfa3363bee35"
      },
      "id": "KwHjgm2_F6zU",
      "execution_count": 24,
      "outputs": [
        {
          "output_type": "stream",
          "name": "stdout",
          "text": [
            "Found 61 OD pairs with time_diff ≥ 25.3\n",
            "Raw candidate stations: 78\n",
            "Candidates after lift-only filter (no_lift): 59\n",
            "Suggested new bus stop locations (up to 4): ('Hammersmith (H&C)', 'High Barnet', 'Turnpike Lane', 'West Ruislip')\n",
            "Total weighted accessibility gap reduced to: 47057.95\n"
          ]
        }
      ]
    },
    {
      "cell_type": "markdown",
      "source": [
        "# 95% quantile threshold for time_diff"
      ],
      "metadata": {
        "id": "dr_sQ2rGgzJ_"
      },
      "id": "dr_sQ2rGgzJ_"
    },
    {
      "cell_type": "markdown",
      "source": [
        "## max_new_stops=2"
      ],
      "metadata": {
        "id": "8-018BTBjsih"
      },
      "id": "8-018BTBjsih"
    },
    {
      "cell_type": "code",
      "source": [
        "df_od = pd.read_csv(\"OD_Routes_diff_ratio.csv\")\n",
        "fac = load_facility_table(\"FINISH_station_facility.xlsx\")\n",
        "entry_stations = df_entries[\"Station\"].dropna().unique()\n",
        "exit_stations = df_exits[\"Station\"].dropna().unique()\n",
        "G = build_graph_from_links(df_links, entry_stations, exit_stations)\n",
        "\n",
        "# 95% quantile threshold for time_diff\n",
        "threshold = df_od[\"time_diff\"].quantile(0.95)\n",
        "df_od_trimmed = df_od[df_od[\"time_diff\"] <= threshold]\n",
        "\n",
        "best_stops, match_report = suggest_new_bus_stops_from_diff(\n",
        "    df_od_trimmed,\n",
        "    facility_df=fac,\n",
        "    max_new_stops=2,\n",
        "    min_diff_threshold=31.9,\n",
        "    fuzzy_cutoff=85,\n",
        "    keep_unmatched=True,\n",
        "    keep_condition=\"no_lift\"\n",
        ")"
      ],
      "metadata": {
        "colab": {
          "base_uri": "https://localhost:8080/"
        },
        "id": "IKqJiAd9jeMN",
        "outputId": "78afd129-a932-4b2c-ea8e-f2a82029689c"
      },
      "id": "IKqJiAd9jeMN",
      "execution_count": 63,
      "outputs": [
        {
          "output_type": "stream",
          "name": "stdout",
          "text": [
            "Found 36 OD pairs with time_diff ≥ 31.9\n",
            "Raw candidate stations: 49\n",
            "Candidates after lift-only filter (no_lift): 35\n",
            "Suggested new bus stop locations (up to 2): ('High Barnet', 'West Ruislip')\n",
            "Total weighted accessibility gap reduced to: 29762.13\n"
          ]
        }
      ]
    },
    {
      "cell_type": "code",
      "source": [
        "m = coverage_rates(df_od_trimmed, best_stops, threshold=31.9, diff_col=\"time_diff\")\n",
        "print(f\"covered_pairs: {m['covered_pairs']}/{m['num_od']},  pair_cov={m['pair_cov']:.1%},  trip_cov={m['trip_cov']:.1%}\")\n"
      ],
      "metadata": {
        "colab": {
          "base_uri": "https://localhost:8080/"
        },
        "id": "cBUootBIjmIo",
        "outputId": "ffacc55e-ea79-458c-be61-d69907c3de73"
      },
      "id": "cBUootBIjmIo",
      "execution_count": 64,
      "outputs": [
        {
          "output_type": "stream",
          "name": "stdout",
          "text": [
            "covered_pairs: 11/36,  pair_cov=30.6%,  trip_cov=30.4%\n"
          ]
        }
      ]
    },
    {
      "cell_type": "code",
      "source": [
        "df_od = pd.read_csv(\"OD_Routes_diff_ratio.csv\")\n",
        "fac = load_facility_table(\"FINISH_station_facility.xlsx\")\n",
        "entry_stations = df_entries[\"Station\"].dropna().unique()\n",
        "exit_stations = df_exits[\"Station\"].dropna().unique()\n",
        "G = build_graph_from_links(df_links, entry_stations, exit_stations)\n",
        "\n",
        "# 95% quantile threshold for time_diff\n",
        "threshold = df_od[\"time_diff\"].quantile(0.95)\n",
        "df_od_trimmed = df_od[df_od[\"time_diff\"] <= threshold]\n",
        "\n",
        "best_stops, match_report = suggest_new_bus_stops_from_diff(\n",
        "    df_od_trimmed,\n",
        "    facility_df=fac,\n",
        "    max_new_stops=2,\n",
        "    min_diff_threshold=34.1,\n",
        "    fuzzy_cutoff=85,\n",
        "    keep_unmatched=True,\n",
        "    keep_condition=\"no_lift\"\n",
        ")"
      ],
      "metadata": {
        "colab": {
          "base_uri": "https://localhost:8080/"
        },
        "id": "Erw7BQDhjhqf",
        "outputId": "b1c615d2-4711-40fd-d35d-7fd0519527b7"
      },
      "id": "Erw7BQDhjhqf",
      "execution_count": 62,
      "outputs": [
        {
          "output_type": "stream",
          "name": "stdout",
          "text": [
            "Found 30 OD pairs with time_diff ≥ 34.1\n",
            "Raw candidate stations: 41\n",
            "Candidates after lift-only filter (no_lift): 30\n",
            "Suggested new bus stop locations (up to 2): ('High Barnet', 'West Ruislip')\n",
            "Total weighted accessibility gap reduced to: 24552.75\n"
          ]
        }
      ]
    },
    {
      "cell_type": "code",
      "source": [
        "m = coverage_rates(df_od_trimmed, best_stops, threshold=34.1, diff_col=\"time_diff\")\n",
        "print(f\"covered_pairs: {m['covered_pairs']}/{m['num_od']},  pair_cov={m['pair_cov']:.1%},  trip_cov={m['trip_cov']:.1%}\")\n"
      ],
      "metadata": {
        "colab": {
          "base_uri": "https://localhost:8080/"
        },
        "id": "CVFoU-nxjoWB",
        "outputId": "8bc64e06-3186-4209-c7c2-fc84cfb5008c"
      },
      "id": "CVFoU-nxjoWB",
      "execution_count": 65,
      "outputs": [
        {
          "output_type": "stream",
          "name": "stdout",
          "text": [
            "covered_pairs: 11/30,  pair_cov=36.7%,  trip_cov=36.1%\n"
          ]
        }
      ]
    },
    {
      "cell_type": "markdown",
      "source": [
        "## max_new_stops=3"
      ],
      "metadata": {
        "id": "DAawWk_xinT-"
      },
      "id": "DAawWk_xinT-"
    },
    {
      "cell_type": "code",
      "source": [
        "df_od = pd.read_csv(\"OD_Routes_diff_ratio.csv\")\n",
        "fac = load_facility_table(\"FINISH_station_facility.xlsx\")\n",
        "entry_stations = df_entries[\"Station\"].dropna().unique()\n",
        "exit_stations = df_exits[\"Station\"].dropna().unique()\n",
        "G = build_graph_from_links(df_links, entry_stations, exit_stations)\n",
        "\n",
        "# 95% quantile threshold for time_diff\n",
        "threshold = df_od[\"time_diff\"].quantile(0.95)\n",
        "df_od_trimmed = df_od[df_od[\"time_diff\"] <= threshold]\n",
        "\n",
        "best_stops, match_report = suggest_new_bus_stops_from_diff(\n",
        "    df_od_trimmed,\n",
        "    facility_df=fac,\n",
        "    max_new_stops=3,\n",
        "    min_diff_threshold=31.9,\n",
        "    fuzzy_cutoff=85,\n",
        "    keep_unmatched=True,\n",
        "    keep_condition=\"no_lift\"\n",
        ")"
      ],
      "metadata": {
        "colab": {
          "base_uri": "https://localhost:8080/"
        },
        "id": "YqN84YuCHueq",
        "outputId": "af7f95dd-30b8-44ef-f049-124dce578e44"
      },
      "id": "YqN84YuCHueq",
      "execution_count": 44,
      "outputs": [
        {
          "output_type": "stream",
          "name": "stdout",
          "text": [
            "Found 36 OD pairs with time_diff ≥ 31.9\n",
            "Raw candidate stations: 49\n",
            "Candidates after lift-only filter (no_lift): 35\n",
            "Suggested new bus stop locations (up to 3): ('High Barnet', 'Uxbridge', 'West Ruislip')\n",
            "Total weighted accessibility gap reduced to: 26464.13\n"
          ]
        }
      ]
    },
    {
      "cell_type": "code",
      "source": [
        "m = coverage_rates(df_od_trimmed, best_stops, threshold=31.9, diff_col=\"time_diff\")\n",
        "print(f\"covered_pairs: {m['covered_pairs']}/{m['num_od']},  pair_cov={m['pair_cov']:.1%},  trip_cov={m['trip_cov']:.1%}\")\n"
      ],
      "metadata": {
        "colab": {
          "base_uri": "https://localhost:8080/"
        },
        "id": "ThVZR-Q0WY2H",
        "outputId": "f6a02f98-021b-42f2-a924-36bf0705db91"
      },
      "id": "ThVZR-Q0WY2H",
      "execution_count": 46,
      "outputs": [
        {
          "output_type": "stream",
          "name": "stdout",
          "text": [
            "covered_pairs: 13/36,  pair_cov=36.1%,  trip_cov=37.5%\n"
          ]
        }
      ]
    },
    {
      "cell_type": "code",
      "source": [
        "df_od = pd.read_csv(\"OD_Routes_diff_ratio.csv\")\n",
        "fac = load_facility_table(\"FINISH_station_facility.xlsx\")\n",
        "entry_stations = df_entries[\"Station\"].dropna().unique()\n",
        "exit_stations = df_exits[\"Station\"].dropna().unique()\n",
        "G = build_graph_from_links(df_links, entry_stations, exit_stations)\n",
        "\n",
        "# 95% quantile threshold for time_diff\n",
        "threshold = df_od[\"time_diff\"].quantile(0.95)\n",
        "df_od_trimmed = df_od[df_od[\"time_diff\"] <= threshold]\n",
        "\n",
        "best_stops, match_report = suggest_new_bus_stops_from_diff(\n",
        "    df_od_trimmed,\n",
        "    facility_df=fac,\n",
        "    max_new_stops=3,\n",
        "    min_diff_threshold=34.1,\n",
        "    fuzzy_cutoff=85,\n",
        "    keep_unmatched=True,\n",
        "    keep_condition=\"no_lift\"\n",
        ")"
      ],
      "metadata": {
        "colab": {
          "base_uri": "https://localhost:8080/"
        },
        "id": "OXrafOPTMPIn",
        "outputId": "e3291267-d459-4bbb-f5fb-ed8fb293030d"
      },
      "id": "OXrafOPTMPIn",
      "execution_count": 42,
      "outputs": [
        {
          "output_type": "stream",
          "name": "stdout",
          "text": [
            "Found 30 OD pairs with time_diff ≥ 34.1\n",
            "Raw candidate stations: 41\n",
            "Candidates after lift-only filter (no_lift): 30\n",
            "Suggested new bus stop locations (up to 3): ('High Barnet', 'Uxbridge', 'West Ruislip')\n",
            "Total weighted accessibility gap reduced to: 21254.75\n"
          ]
        }
      ]
    },
    {
      "cell_type": "code",
      "source": [
        "m = coverage_rates(df_od_trimmed, best_stops, threshold=34.1, diff_col=\"time_diff\")\n",
        "print(f\"covered_pairs: {m['covered_pairs']}/{m['num_od']},  pair_cov={m['pair_cov']:.1%},  trip_cov={m['trip_cov']:.1%}\")\n"
      ],
      "metadata": {
        "colab": {
          "base_uri": "https://localhost:8080/"
        },
        "id": "6C3Vy8sZWT9O",
        "outputId": "48cbb26e-5132-4d9a-b9a9-438fd71aef0c"
      },
      "id": "6C3Vy8sZWT9O",
      "execution_count": 43,
      "outputs": [
        {
          "output_type": "stream",
          "name": "stdout",
          "text": [
            "covered_pairs: 13/30,  pair_cov=43.3%,  trip_cov=44.5%\n"
          ]
        }
      ]
    },
    {
      "cell_type": "markdown",
      "source": [
        "## max_new_stops=4"
      ],
      "metadata": {
        "id": "hvh5J4b1is7C"
      },
      "id": "hvh5J4b1is7C"
    },
    {
      "cell_type": "code",
      "source": [
        "df_od = pd.read_csv(\"OD_Routes_diff_ratio.csv\")\n",
        "fac = load_facility_table(\"FINISH_station_facility.xlsx\")\n",
        "entry_stations = df_entries[\"Station\"].dropna().unique()\n",
        "exit_stations = df_exits[\"Station\"].dropna().unique()\n",
        "G = build_graph_from_links(df_links, entry_stations, exit_stations)\n",
        "\n",
        "# 95% quantile threshold for time_diff\n",
        "threshold = df_od[\"time_diff\"].quantile(0.95)\n",
        "df_od_trimmed = df_od[df_od[\"time_diff\"] <= threshold]\n",
        "\n",
        "best_stops, match_report = suggest_new_bus_stops_from_diff(\n",
        "    df_od_trimmed,\n",
        "    facility_df=fac,\n",
        "    max_new_stops=4,\n",
        "    min_diff_threshold=34.1,\n",
        "    fuzzy_cutoff=85,\n",
        "    keep_unmatched=True,\n",
        "    keep_condition=\"no_lift\"\n",
        ")"
      ],
      "metadata": {
        "colab": {
          "base_uri": "https://localhost:8080/"
        },
        "id": "eLIUQiU1MYYJ",
        "outputId": "7f0f5111-6b1f-4da0-ebfa-8592234a16c9"
      },
      "id": "eLIUQiU1MYYJ",
      "execution_count": 40,
      "outputs": [
        {
          "output_type": "stream",
          "name": "stdout",
          "text": [
            "Found 30 OD pairs with time_diff ≥ 34.1\n",
            "Raw candidate stations: 41\n",
            "Candidates after lift-only filter (no_lift): 30\n",
            "Suggested new bus stop locations (up to 4): ('Belsize Park', 'High Barnet', 'Uxbridge', 'West Ruislip')\n",
            "Total weighted accessibility gap reduced to: 19434.35\n"
          ]
        }
      ]
    },
    {
      "cell_type": "code",
      "source": [
        "m = coverage_rates(df_od_trimmed, best_stops, threshold=34.1, diff_col=\"time_diff\")\n",
        "print(f\"covered_pairs: {m['covered_pairs']}/{m['num_od']},  pair_cov={m['pair_cov']:.1%},  trip_cov={m['trip_cov']:.1%}\")\n"
      ],
      "metadata": {
        "colab": {
          "base_uri": "https://localhost:8080/"
        },
        "id": "0onOImgMVWqu",
        "outputId": "305e000e-cec9-4d5e-c496-f7ce9b0fd3a1"
      },
      "id": "0onOImgMVWqu",
      "execution_count": 41,
      "outputs": [
        {
          "output_type": "stream",
          "name": "stdout",
          "text": [
            "covered_pairs: 14/30,  pair_cov=46.7%,  trip_cov=48.8%\n"
          ]
        }
      ]
    },
    {
      "cell_type": "code",
      "source": [
        "df_od = pd.read_csv(\"OD_Routes_diff_ratio.csv\")\n",
        "fac = load_facility_table(\"FINISH_station_facility.xlsx\")\n",
        "entry_stations = df_entries[\"Station\"].dropna().unique()\n",
        "exit_stations = df_exits[\"Station\"].dropna().unique()\n",
        "G = build_graph_from_links(df_links, entry_stations, exit_stations)\n",
        "\n",
        "# 95% quantile threshold for time_diff\n",
        "threshold = df_od[\"time_diff\"].quantile(0.95)\n",
        "df_od_trimmed = df_od[df_od[\"time_diff\"] <= threshold]\n",
        "\n",
        "best_stops, match_report = suggest_new_bus_stops_from_diff(\n",
        "    df_od_trimmed,\n",
        "    facility_df=fac,\n",
        "    max_new_stops=4,\n",
        "    min_diff_threshold=31.9,\n",
        "    fuzzy_cutoff=85,\n",
        "    keep_unmatched=True,\n",
        "    keep_condition=\"no_lift\"\n",
        ")"
      ],
      "metadata": {
        "colab": {
          "base_uri": "https://localhost:8080/"
        },
        "id": "q6Lnm5UyMxVI",
        "outputId": "31f08245-b1da-47cf-ea70-cc272385a63d"
      },
      "id": "q6Lnm5UyMxVI",
      "execution_count": 30,
      "outputs": [
        {
          "output_type": "stream",
          "name": "stdout",
          "text": [
            "Found 36 OD pairs with time_diff ≥ 31.9\n",
            "Raw candidate stations: 49\n",
            "Candidates after lift-only filter (no_lift): 35\n",
            "Suggested new bus stop locations (up to 4): ('Hammersmith (H&C)', 'High Barnet', 'Uxbridge', 'West Ruislip')\n",
            "Total weighted accessibility gap reduced to: 24391.03\n"
          ]
        }
      ]
    },
    {
      "cell_type": "code",
      "source": [
        "m = coverage_rates(df_od_trimmed, best_stops, threshold=31.9, diff_col=\"time_diff\")\n",
        "print(f\"covered_pairs: {m['covered_pairs']}/{m['num_od']},  pair_cov={m['pair_cov']:.1%},  trip_cov={m['trip_cov']:.1%}\")\n"
      ],
      "metadata": {
        "colab": {
          "base_uri": "https://localhost:8080/"
        },
        "id": "py4Bw8SZRYYk",
        "outputId": "97947c10-018d-4e11-ca7c-7d33e28b6148"
      },
      "id": "py4Bw8SZRYYk",
      "execution_count": 39,
      "outputs": [
        {
          "output_type": "stream",
          "name": "stdout",
          "text": [
            "covered_pairs: 15/36,  pair_cov=41.7%,  trip_cov=43.9%\n"
          ]
        }
      ]
    },
    {
      "cell_type": "markdown",
      "id": "2N5K15m1Wy3k",
      "metadata": {
        "id": "2N5K15m1Wy3k"
      },
      "source": [
        "# Cumulative Distribution of Step-free Travel Time Differences"
      ]
    },
    {
      "cell_type": "code",
      "source": [
        "import numpy as np\n",
        "import pandas as pd\n",
        "import matplotlib.pyplot as plt\n",
        "\n",
        "# --- load & clean ---\n",
        "df = pd.read_csv(\"OD_Routes_diff_ratio.csv\")\n",
        "df[\"time_diff\"] = pd.to_numeric(df[\"time_diff\"], errors=\"coerce\").fillna(0).clip(lower=0)\n",
        "\n",
        "# auto-detect weight column (trip counts)\n",
        "if \"Count\" in df.columns:\n",
        "    wcol = \"Count\"\n",
        "elif \"Frequency\" in df.columns:\n",
        "    wcol = \"Frequency\"\n",
        "else:\n",
        "    wcol = \"__w__\"; df[wcol] = 1\n",
        "\n",
        "# helper: weighted quantile\n",
        "def weighted_quantile(values, quantiles, weights):\n",
        "    values = np.asarray(values); weights = np.asarray(weights)\n",
        "    qs = np.atleast_1d(quantiles)\n",
        "    idx = np.argsort(values)\n",
        "    x, w = values[idx], weights[idx]\n",
        "    c = np.cumsum(w) / w.sum()\n",
        "    return np.interp(qs, c, x)\n",
        "\n",
        "vals = df[\"time_diff\"].to_numpy()\n",
        "ws   = df[wcol].to_numpy()\n",
        "qs   = [0.50, 2/3, 0.75, 0.80, 0.90]\n",
        "\n",
        "# -----------------------\n",
        "# Figure 1: Unweighted CDF\n",
        "# -----------------------\n",
        "x_unw = np.sort(vals)\n",
        "cdf_unw = np.arange(1, len(x_unw)+1) / len(x_unw)\n",
        "uq = np.quantile(vals, qs)\n",
        "\n",
        "plt.figure(figsize=(8,4))\n",
        "plt.plot(x_unw, cdf_unw, linestyle='-')\n",
        "for q, v in zip(qs, uq):\n",
        "    plt.axvline(v, linestyle=':', alpha=0.7)\n",
        "    y = max(q - 0.06, 0.02)  # put label slightly below the quantile line\n",
        "    plt.text(v, y, f\"p{int(q*100)} ≈ {v:.1f}m\", ha='center', va='bottom', rotation=0)\n",
        "plt.xlabel(\"time_diff (minutes)\")\n",
        "plt.ylabel(\"Cumulative proportion of OD pairs\")\n",
        "plt.title(\"Unweighted CDF of time_diff\")\n",
        "plt.grid(alpha=0.3)\n",
        "plt.show()\n",
        "\n",
        "# -----------------------\n",
        "# Figure 2: Weighted CDF\n",
        "# -----------------------\n",
        "idx = np.argsort(vals)\n",
        "x = vals[idx]; w = ws[idx]\n",
        "wcdf = np.cumsum(w) / w.sum()\n",
        "wq = weighted_quantile(vals, qs, ws)\n",
        "\n",
        "plt.figure(figsize=(8,4))\n",
        "plt.plot(x, wcdf, linestyle='-')\n",
        "for q, v in zip(qs, wq):\n",
        "    plt.axvline(v, linestyle='--', alpha=0.8)\n",
        "    y = min(q + 0.03, 0.98)  # put label slightly above the quantile line\n",
        "    plt.text(v, y, f\"p{int(q*100)} ≈ {v:.1f}m\", ha='center', va='bottom', rotation=0)\n",
        "plt.xlabel(\"time_diff (minutes)\")\n",
        "plt.ylabel(\"Weighted cumulative proportion of OD pairs\")\n",
        "plt.title(\"Weighted CDF of time_diff (weights = trip counts)\")\n",
        "plt.grid(alpha=0.3)\n",
        "plt.show()\n"
      ],
      "metadata": {
        "colab": {
          "base_uri": "https://localhost:8080/",
          "height": 803
        },
        "id": "YmeQOBzNdox9",
        "outputId": "4e329c39-19ab-4ea4-db9a-1b454b8d263f"
      },
      "id": "YmeQOBzNdox9",
      "execution_count": 52,
      "outputs": [
        {
          "output_type": "display_data",
          "data": {
            "text/plain": [
              "<Figure size 800x400 with 1 Axes>"
            ],
            "image/png": "[encoded data removed]"
          },
          "metadata": {}
        },
        {
          "output_type": "display_data",
          "data": {
            "text/plain": [
              "<Figure size 800x400 with 1 Axes>"
            ],
            "image/png": "[encoded data removed]"
          },
          "metadata": {}
        }
      ]
    }
  ],
  "metadata": {
    "colab": {
      "provenance": []
    },
    "kernelspec": {
      "display_name": "base",
      "language": "python",
      "name": "python3"
    },
    "language_info": {
      "codemirror_mode": {
        "name": "ipython",
        "version": 3
      },
      "file_extension": ".py",
      "mimetype": "text/x-python",
      "name": "python",
      "nbconvert_exporter": "python",
      "pygments_lexer": "ipython3",
      "version": "3.6.5"
    }
  },
  "nbformat": 4,
  "nbformat_minor": 5
}