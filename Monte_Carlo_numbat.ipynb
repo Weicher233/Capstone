{
 "cells": [
  {
   "cell_type": "code",
   "execution_count": 12,
   "id": "d125a5d0",
   "metadata": {},
   "outputs": [],
   "source": [
    "import pandas as pd\n",
    "import requests\n",
    "import networkx as nx\n",
    "import random\n",
    "from collections import Counter\n",
    "import plotly.graph_objects as go"
   ]
  },
  {
   "cell_type": "code",
   "execution_count": 13,
   "id": "111e4d35",
   "metadata": {},
   "outputs": [
    {
     "name": "stdout",
     "output_type": "stream",
     "text": [
      "['_Cover', 'Link_Loads', 'Link_Frequencies', 'Line_Boarders', 'Station_Flows', 'Station_Entries', 'Station_Exits', 'Station_Boarders', 'Station_Alighters']\n"
     ]
    }
   ],
   "source": [
    "url = \"https://crowding.data.tfl.gov.uk/NUMBAT/NUMBAT%202023/NBT23FRI_outputs.xlsx\"\n",
    "\n",
    "r = requests.get(url)\n",
    "with open(\"NBT23FRI_outputs.xlsx\", \"wb\") as f:\n",
    "    f.write(r.content)\n",
    "\n",
    "xls = pd.ExcelFile(\"NBT23FRI_outputs.xlsx\")\n",
    "print(xls.sheet_names)"
   ]
  },
  {
   "cell_type": "code",
   "execution_count": 14,
   "id": "fbc9ee6a",
   "metadata": {},
   "outputs": [],
   "source": [
    "df_links = pd.read_excel(xls, sheet_name=\"Link_Loads\", header=2)\n",
    "df_flows = pd.read_excel(xls, sheet_name=\"Station_Flows\", header=2)\n",
    "df_entries = pd.read_excel(xls, sheet_name=\"Station_Entries\", header=2)\n",
    "df_exits = pd.read_excel(xls, sheet_name=\"Station_Exits\", header=2)\n",
    "df_boarders = pd.read_excel(xls, sheet_name=\"Station_Boarders\", header=2)\n",
    "df_alighters = pd.read_excel(xls, sheet_name=\"Station_Alighters\", header=2)\n",
    "\n",
    "def extract_interchange_stations(df_flows):\n",
    "    interchange_rows = df_flows[df_flows[\"Movement\"].str.contains(\"Interchange\", na=False)]\n",
    "    interchange_stations = sorted(interchange_rows[\"To Station\"].dropna().unique())\n",
    "    return interchange_stations\n",
    "\n",
    "def build_graph_from_links(df_links, entry_stations=None, exit_stations=None):\n",
    "    G = nx.DiGraph()\n",
    "    for _, r in df_links.iterrows():\n",
    "        G.add_edge(r[\"From Station\"], r[\"To Station\"], weight=r[\"Total\"])\n",
    "    if len(entry_stations) > 0:\n",
    "        for station in entry_stations:\n",
    "            if station not in G:\n",
    "                G.add_node(station)\n",
    "    if len(exit_stations) > 0:\n",
    "        for station in exit_stations:\n",
    "            if station not in G:\n",
    "                G.add_node(station)\n",
    "    return G\n",
    "\n",
    "def build_entry_weights(df_entries):\n",
    "    entries = df_entries[[\"Station\", \"Total\"]].dropna()\n",
    "    return dict(zip(entries[\"Station\"], entries[\"Total\"]))\n",
    "\n",
    "def build_exit_weights(df_exits):\n",
    "    exits = df_exits[[\"Station\", \"Total\"]].dropna()\n",
    "    return dict(zip(exits[\"Station\"], exits[\"Total\"]))\n",
    "\n",
    "def build_board_alight_dicts(df_boarders, df_alighters):\n",
    "    board_dict = df_boarders.groupby(\"Station\")[\"Total\"].sum().to_dict()\n",
    "    alight_dict = df_alighters.groupby(\"Station\")[\"Total\"].sum().to_dict()\n",
    "    return board_dict, alight_dict\n",
    "\n",
    "def simulate_route(G, start, interchange_list, board_dict, alight_dict,\n",
    "                   max_steps=5, transfer_prob=0.3):\n",
    "    path = [start]\n",
    "    cur = start\n",
    "    score = 0\n",
    "    for _ in range(max_steps):\n",
    "        if cur in interchange_list and random.random() < transfer_prob:\n",
    "            candidates = [s for s in G.successors(cur) if s in interchange_list and s not in path]\n",
    "            if candidates:\n",
    "                nxt = random.choice(candidates)\n",
    "                path.append(f\"[TRANSFER→]{nxt}\")\n",
    "                cur = nxt\n",
    "                continue\n",
    "\n",
    "        if cur not in G:\n",
    "            break\n",
    "        succ = [s for s in G.successors(cur) if s not in path]\n",
    "        if not succ:\n",
    "            break\n",
    "        weights = [G[cur][s][\"weight\"] for s in succ]\n",
    "        cur = random.choices(succ, weights=weights, k=1)[0]\n",
    "        path.append(cur)\n",
    "        score += board_dict.get(cur, 0) + alight_dict.get(cur, 0)\n",
    "    return path, score\n",
    "\n",
    "def run_simulation_pipeline(df_links, df_flows, df_entries, df_exits, df_boarders, df_alighters,\n",
    "                            num_routes=10000):\n",
    "    interchange_stations = extract_interchange_stations(df_flows)\n",
    "    entry_stations = df_entries[\"Station\"].dropna().unique()\n",
    "    exit_stations = df_exits[\"Station\"].dropna().unique()\n",
    "    top_start_stations = df_entries.sort_values(by=\"Total\", ascending=False).head(20)[\"Station\"].tolist()\n",
    "    top_end_stations = df_exits.sort_values(by=\"Total\", ascending=False).head(20)[\"Station\"].tolist()\n",
    "    G = build_graph_from_links(df_links, entry_stations, exit_stations)\n",
    "    entry_weights = build_entry_weights(df_entries)\n",
    "    exit_weights = build_exit_weights(df_exits)\n",
    "    board_dict, alight_dict = build_board_alight_dicts(df_boarders, df_alighters)\n",
    "\n",
    "    starts = list(entry_weights.keys())\n",
    "    weights = list(entry_weights.values())\n",
    "    starts = [s for s in starts if s in top_start_stations]\n",
    "    weights = [entry_weights[s] for s in starts]\n",
    "\n",
    "    routes = []\n",
    "    scores = []\n",
    "    ends = []\n",
    "\n",
    "    for _ in range(num_routes):\n",
    "        start = random.choices(starts, weights=weights, k=1)[0]\n",
    "        path, score = simulate_route(G, start, interchange_stations, board_dict, alight_dict)\n",
    "        routes.append(path)\n",
    "        scores.append(score)\n",
    "        clean_path = [step for step in path if not str(step).startswith(\"[TRANSFER\")]\n",
    "        end = clean_path[-1] if len(clean_path) >= 2 else None\n",
    "        ends.append(end)\n",
    "\n",
    "    df_result = pd.DataFrame({\n",
    "        \"Route\": routes,\n",
    "        \"Score\": scores,\n",
    "        \"End\": ends\n",
    "    })\n",
    "\n",
    "    df_result[\"End Exit Volume\"] = df_result[\"End\"].map(exit_weights)\n",
    "\n",
    "    df_result[\"Start\"] = df_result[\"Route\"].apply(lambda x: x[0] if len(x) > 0 else None)\n",
    "    df_result[\"End Clean\"] = df_result[\"End\"]\n",
    "    df_result = df_result[df_result[\"Start\"].isin(top_start_stations) & df_result[\"End Clean\"].isin(top_end_stations)]\n",
    "\n",
    "    return df_result\n",
    "\n",
    "def analyze_results(df_result):\n",
    "    # Top scored routes\n",
    "    top_routes = df_result.sort_values(by=\"Score\", ascending=False).head(20)\n",
    "\n",
    "    all_links = []\n",
    "\n",
    "    for route in df_result[\"Route\"].tolist():\n",
    "        clean_steps = []\n",
    "        for step in route:\n",
    "            if isinstance(step, str) and step.startswith(\"[TRANSFER→]\"):\n",
    "                clean_steps.append(step.replace(\"[TRANSFER→]\", \"\"))\n",
    "            else:\n",
    "                clean_steps.append(step)\n",
    "        all_links += [(clean_steps[i], clean_steps[i+1]) for i in range(len(clean_steps)-1) if clean_steps[i] != clean_steps[i + 1]]\n",
    "\n",
    "    pair_counts = Counter(all_links)\n",
    "    df_pairs = pd.DataFrame(pair_counts.items(), columns=[\"Step-Step\", \"Count\"]).sort_values(by=\"Count\", ascending=False)\n",
    "\n",
    "    top_links = df_pairs.head(20)\n",
    "    sources = [pair[0] for pair in top_links[\"Step-Step\"]]\n",
    "    targets = [pair[1] for pair in top_links[\"Step-Step\"]]\n",
    "    values = top_links[\"Count\"].tolist()\n",
    "\n",
    "    label_list = list(set(sources + targets))\n",
    "    label_map = {label: idx for idx, label in enumerate(label_list)}\n",
    "    source_idx = [label_map[s] for s in sources]\n",
    "    target_idx = [label_map[t] for t in targets]\n",
    "\n",
    "    sankey_fig = go.Figure(data=[go.Sankey(\n",
    "        node=dict(\n",
    "            pad=15,\n",
    "            thickness=20,\n",
    "            line=dict(color=\"black\", width=0.5),\n",
    "            label=label_list,\n",
    "        ),\n",
    "        link=dict(\n",
    "            source=source_idx,\n",
    "            target=target_idx,\n",
    "            value=values,\n",
    "        ))])\n",
    "    sankey_fig.update_layout(title_text=\"Top 20 Simulated Start-End Routes\", font_size=10)\n",
    "\n",
    "    print(\"\\nTop 20 Scored Routes:\")\n",
    "    print(top_routes[[\"Route\", \"Score\"]].reset_index(drop=True))\n",
    "\n",
    "    print(\"\\nTop 20 Start-End Pairs:\")\n",
    "    print(df_pairs.head(20).reset_index(drop=True))\n",
    "\n",
    "    return sankey_fig"
   ]
  },
  {
   "cell_type": "code",
   "execution_count": 17,
   "id": "42ab77c3",
   "metadata": {},
   "outputs": [
    {
     "data": {
      "text/html": [
       "<div>\n",
       "<style scoped>\n",
       "    .dataframe tbody tr th:only-of-type {\n",
       "        vertical-align: middle;\n",
       "    }\n",
       "\n",
       "    .dataframe tbody tr th {\n",
       "        vertical-align: top;\n",
       "    }\n",
       "\n",
       "    .dataframe thead th {\n",
       "        text-align: right;\n",
       "    }\n",
       "</style>\n",
       "<table border=\"1\" class=\"dataframe\">\n",
       "  <thead>\n",
       "    <tr style=\"text-align: right;\">\n",
       "      <th></th>\n",
       "      <th>Route</th>\n",
       "      <th>Score</th>\n",
       "      <th>End</th>\n",
       "      <th>End Exit Volume</th>\n",
       "      <th>Start</th>\n",
       "      <th>End Clean</th>\n",
       "    </tr>\n",
       "  </thead>\n",
       "  <tbody>\n",
       "    <tr>\n",
       "      <th>3960</th>\n",
       "      <td>[Leicester Square, Tottenham Court Road, Oxfor...</td>\n",
       "      <td>1.553579e+06</td>\n",
       "      <td>Victoria LU</td>\n",
       "      <td>86723.867825</td>\n",
       "      <td>Leicester Square</td>\n",
       "      <td>Victoria LU</td>\n",
       "    </tr>\n",
       "    <tr>\n",
       "      <th>6211</th>\n",
       "      <td>[Farringdon, Tottenham Court Road, Oxford Circ...</td>\n",
       "      <td>1.483416e+06</td>\n",
       "      <td>King's Cross St. Pancras</td>\n",
       "      <td>122827.765441</td>\n",
       "      <td>Farringdon</td>\n",
       "      <td>King's Cross St. Pancras</td>\n",
       "    </tr>\n",
       "    <tr>\n",
       "      <th>9700</th>\n",
       "      <td>[Leicester Square, Tottenham Court Road, Oxfor...</td>\n",
       "      <td>1.483416e+06</td>\n",
       "      <td>King's Cross St. Pancras</td>\n",
       "      <td>122827.765441</td>\n",
       "      <td>Leicester Square</td>\n",
       "      <td>King's Cross St. Pancras</td>\n",
       "    </tr>\n",
       "    <tr>\n",
       "      <th>7714</th>\n",
       "      <td>[Bond Street, Oxford Circus, Tottenham Court R...</td>\n",
       "      <td>1.482658e+06</td>\n",
       "      <td>Bank and Monument</td>\n",
       "      <td>54480.339957</td>\n",
       "      <td>Bond Street</td>\n",
       "      <td>Bank and Monument</td>\n",
       "    </tr>\n",
       "    <tr>\n",
       "      <th>2075</th>\n",
       "      <td>[Victoria LU, Green Park, Oxford Circus, Totte...</td>\n",
       "      <td>1.453984e+06</td>\n",
       "      <td>Paddington TfL</td>\n",
       "      <td>81178.247349</td>\n",
       "      <td>Victoria LU</td>\n",
       "      <td>Paddington TfL</td>\n",
       "    </tr>\n",
       "  </tbody>\n",
       "</table>\n",
       "</div>"
      ],
      "text/plain": [
       "                                                  Route         Score  \\\n",
       "3960  [Leicester Square, Tottenham Court Road, Oxfor...  1.553579e+06   \n",
       "6211  [Farringdon, Tottenham Court Road, Oxford Circ...  1.483416e+06   \n",
       "9700  [Leicester Square, Tottenham Court Road, Oxfor...  1.483416e+06   \n",
       "7714  [Bond Street, Oxford Circus, Tottenham Court R...  1.482658e+06   \n",
       "2075  [Victoria LU, Green Park, Oxford Circus, Totte...  1.453984e+06   \n",
       "\n",
       "                           End  End Exit Volume             Start  \\\n",
       "3960               Victoria LU     86723.867825  Leicester Square   \n",
       "6211  King's Cross St. Pancras    122827.765441        Farringdon   \n",
       "9700  King's Cross St. Pancras    122827.765441  Leicester Square   \n",
       "7714         Bank and Monument     54480.339957       Bond Street   \n",
       "2075            Paddington TfL     81178.247349       Victoria LU   \n",
       "\n",
       "                     End Clean  \n",
       "3960               Victoria LU  \n",
       "6211  King's Cross St. Pancras  \n",
       "9700  King's Cross St. Pancras  \n",
       "7714         Bank and Monument  \n",
       "2075            Paddington TfL  "
      ]
     },
     "metadata": {},
     "output_type": "display_data"
    }
   ],
   "source": [
    "df_result = run_simulation_pipeline(\n",
    "    df_links, df_flows, df_entries, df_exits,\n",
    "    df_boarders, df_alighters,\n",
    "    num_routes=10000\n",
    ")\n",
    "df_result_sorted = (\n",
    "    df_result.assign(Route_str=df_result[\"Route\"].apply(str))\n",
    "    .sort_values(by=\"Score\", ascending=False)\n",
    "    .drop_duplicates(subset=[\"Route_str\"])\n",
    "    .drop(columns=[\"Route_str\"])\n",
    ")\n",
    "display(df_result_sorted.head())"
   ]
  },
  {
   "cell_type": "code",
   "execution_count": 19,
   "id": "16869798",
   "metadata": {},
   "outputs": [],
   "source": [
    "df_result_sorted.to_csv(\"top_scored_routes.csv\", index=False)"
   ]
  },
  {
   "cell_type": "code",
   "execution_count": 20,
   "id": "86052a69",
   "metadata": {},
   "outputs": [],
   "source": [
    "od_pairs = df_result[[\"Start\", \"End Clean\"]].dropna()\n",
    "od_pairs.columns = [\"Origin\", \"Destination\"]\n",
    "\n",
    "od_pairs[\"OD Pair\"] = list(zip(od_pairs[\"Origin\"], od_pairs[\"Destination\"]))\n",
    "top_od = od_pairs[\"OD Pair\"].value_counts().head(30).reset_index()\n",
    "top_od.columns = [\"OD Pair\", \"Count\"]\n",
    "\n",
    "top_od[\"Start\"] = top_od[\"OD Pair\"].apply(lambda x: x[0])\n",
    "top_od[\"End\"] = top_od[\"OD Pair\"].apply(lambda x: x[1])\n",
    "top_od = top_od[[\"Start\", \"End\", \"Count\"]]\n",
    "\n",
    "top_od.to_csv(\"top_30_od_pairs.csv\", index=False)"
   ]
  },
  {
   "cell_type": "code",
   "execution_count": 21,
   "id": "0fc25a6f",
   "metadata": {},
   "outputs": [
    {
     "name": "stdout",
     "output_type": "stream",
     "text": [
      "\n",
      "Top 20 Scored Routes:\n",
      "                                                Route         Score\n",
      "0   [Leicester Square, Tottenham Court Road, Oxfor...  1.553579e+06\n",
      "1   [Farringdon, Tottenham Court Road, Oxford Circ...  1.483416e+06\n",
      "2   [Leicester Square, Tottenham Court Road, Oxfor...  1.483416e+06\n",
      "3   [Bond Street, Oxford Circus, Tottenham Court R...  1.482658e+06\n",
      "4   [Victoria LU, Green Park, Oxford Circus, Totte...  1.453984e+06\n",
      "5   [Farringdon, Tottenham Court Road, Oxford Circ...  1.429866e+06\n",
      "6   [Bond Street, Green Park, Oxford Circus, Totte...  1.396390e+06\n",
      "7   [Bond Street, Green Park, Oxford Circus, Totte...  1.396390e+06\n",
      "8   [Victoria LU, Green Park, Oxford Circus, Totte...  1.396390e+06\n",
      "9   [Piccadilly Circus, Green Park, Oxford Circus,...  1.396390e+06\n",
      "10  [Victoria LU, Green Park, Oxford Circus, Totte...  1.396390e+06\n",
      "11  [Paddington TfL, Bond Street, Tottenham Court ...  1.395854e+06\n",
      "12  [Liverpool Street LU, Farringdon, Tottenham Co...  1.394702e+06\n",
      "13  [Bank and Monument, Liverpool Street LU, Farri...  1.391344e+06\n",
      "14  [Piccadilly Circus, Leicester Square, Tottenha...  1.391158e+06\n",
      "15  [Oxford Circus, Tottenham Court Road, Farringd...  1.383147e+06\n",
      "16  [Waterloo LU, Westminster, Green Park, Oxford ...  1.374370e+06\n",
      "17  [Waterloo LU, Westminster, Green Park, Bond St...  1.374370e+06\n",
      "18  [Waterloo LU, Westminster, Green Park, Bond St...  1.374370e+06\n",
      "19  [Waterloo LU, Westminster, Green Park, Bond St...  1.374370e+06\n",
      "\n",
      "Top 20 Start-End Pairs:\n",
      "                                   Step-Step  Count\n",
      "0                (Green Park, Oxford Circus)    288\n",
      "1         (Farringdon, Tottenham Court Road)    274\n",
      "2                  (Victoria LU, Green Park)    271\n",
      "3         (Tottenham Court Road, Farringdon)    271\n",
      "4                (Oxford Circus, Green Park)    256\n",
      "5      (Tottenham Court Road, Oxford Circus)    226\n",
      "6             (Warren Street, Oxford Circus)    224\n",
      "7                  (Westminster, Green Park)    219\n",
      "8                 (Euston LU, Warren Street)    218\n",
      "9             (Oxford Circus, Warren Street)    213\n",
      "10       (Bond Street, Tottenham Court Road)    210\n",
      "11           (Piccadilly Circus, Green Park)    206\n",
      "12                 (Green Park, Bond Street)    203\n",
      "13     (Oxford Circus, Tottenham Court Road)    202\n",
      "14           (Green Park, Piccadilly Circus)    202\n",
      "15                (Waterloo LU, Westminster)    201\n",
      "16  (Leicester Square, Tottenham Court Road)    199\n",
      "17              (Oxford Circus, Bond Street)    196\n",
      "18           (Tottenham Court Road, Holborn)    194\n",
      "19       (Tottenham Court Road, Bond Street)    193\n"
     ]
    },
    {
     "data": {
      "application/vnd.plotly.v1+json": {
       "config": {
        "plotlyServerURL": "https://plot.ly"
       },
       "data": [
        {
         "link": {
          "source": [
           8,
           11,
           2,
           1,
           9,
           1,
           4,
           3,
           5,
           9,
           12,
           0,
           8,
           9,
           8,
           10,
           6,
           9,
           1,
           1
          ],
          "target": [
           9,
           1,
           8,
           11,
           8,
           9,
           9,
           8,
           4,
           4,
           1,
           8,
           12,
           1,
           0,
           3,
           1,
           12,
           7,
           12
          ],
          "value": [
           288,
           274,
           271,
           271,
           256,
           226,
           224,
           219,
           218,
           213,
           210,
           206,
           203,
           202,
           202,
           201,
           199,
           196,
           194,
           193
          ]
         },
         "node": {
          "label": [
           "Piccadilly Circus",
           "Tottenham Court Road",
           "Victoria LU",
           "Westminster",
           "Warren Street",
           "Euston LU",
           "Leicester Square",
           "Holborn",
           "Green Park",
           "Oxford Circus",
           "Waterloo LU",
           "Farringdon",
           "Bond Street"
          ],
          "line": {
           "color": "black",
           "width": 0.5
          },
          "pad": 15,
          "thickness": 20
         },
         "type": "sankey"
        }
       ],
       "layout": {
        "font": {
         "size": 10
        },
        "template": {
         "data": {
          "bar": [
           {
            "error_x": {
             "color": "#2a3f5f"
            },
            "error_y": {
             "color": "#2a3f5f"
            },
            "marker": {
             "line": {
              "color": "#E5ECF6",
              "width": 0.5
             },
             "pattern": {
              "fillmode": "overlay",
              "size": 10,
              "solidity": 0.2
             }
            },
            "type": "bar"
           }
          ],
          "barpolar": [
           {
            "marker": {
             "line": {
              "color": "#E5ECF6",
              "width": 0.5
             },
             "pattern": {
              "fillmode": "overlay",
              "size": 10,
              "solidity": 0.2
             }
            },
            "type": "barpolar"
           }
          ],
          "carpet": [
           {
            "aaxis": {
             "endlinecolor": "#2a3f5f",
             "gridcolor": "white",
             "linecolor": "white",
             "minorgridcolor": "white",
             "startlinecolor": "#2a3f5f"
            },
            "baxis": {
             "endlinecolor": "#2a3f5f",
             "gridcolor": "white",
             "linecolor": "white",
             "minorgridcolor": "white",
             "startlinecolor": "#2a3f5f"
            },
            "type": "carpet"
           }
          ],
          "choropleth": [
           {
            "colorbar": {
             "outlinewidth": 0,
             "ticks": ""
            },
            "type": "choropleth"
           }
          ],
          "contour": [
           {
            "colorbar": {
             "outlinewidth": 0,
             "ticks": ""
            },
            "colorscale": [
             [
              0,
              "#0d0887"
             ],
             [
              0.1111111111111111,
              "#46039f"
             ],
             [
              0.2222222222222222,
              "#7201a8"
             ],
             [
              0.3333333333333333,
              "#9c179e"
             ],
             [
              0.4444444444444444,
              "#bd3786"
             ],
             [
              0.5555555555555556,
              "#d8576b"
             ],
             [
              0.6666666666666666,
              "#ed7953"
             ],
             [
              0.7777777777777778,
              "#fb9f3a"
             ],
             [
              0.8888888888888888,
              "#fdca26"
             ],
             [
              1,
              "#f0f921"
             ]
            ],
            "type": "contour"
           }
          ],
          "contourcarpet": [
           {
            "colorbar": {
             "outlinewidth": 0,
             "ticks": ""
            },
            "type": "contourcarpet"
           }
          ],
          "heatmap": [
           {
            "colorbar": {
             "outlinewidth": 0,
             "ticks": ""
            },
            "colorscale": [
             [
              0,
              "#0d0887"
             ],
             [
              0.1111111111111111,
              "#46039f"
             ],
             [
              0.2222222222222222,
              "#7201a8"
             ],
             [
              0.3333333333333333,
              "#9c179e"
             ],
             [
              0.4444444444444444,
              "#bd3786"
             ],
             [
              0.5555555555555556,
              "#d8576b"
             ],
             [
              0.6666666666666666,
              "#ed7953"
             ],
             [
              0.7777777777777778,
              "#fb9f3a"
             ],
             [
              0.8888888888888888,
              "#fdca26"
             ],
             [
              1,
              "#f0f921"
             ]
            ],
            "type": "heatmap"
           }
          ],
          "heatmapgl": [
           {
            "colorbar": {
             "outlinewidth": 0,
             "ticks": ""
            },
            "colorscale": [
             [
              0,
              "#0d0887"
             ],
             [
              0.1111111111111111,
              "#46039f"
             ],
             [
              0.2222222222222222,
              "#7201a8"
             ],
             [
              0.3333333333333333,
              "#9c179e"
             ],
             [
              0.4444444444444444,
              "#bd3786"
             ],
             [
              0.5555555555555556,
              "#d8576b"
             ],
             [
              0.6666666666666666,
              "#ed7953"
             ],
             [
              0.7777777777777778,
              "#fb9f3a"
             ],
             [
              0.8888888888888888,
              "#fdca26"
             ],
             [
              1,
              "#f0f921"
             ]
            ],
            "type": "heatmapgl"
           }
          ],
          "histogram": [
           {
            "marker": {
             "pattern": {
              "fillmode": "overlay",
              "size": 10,
              "solidity": 0.2
             }
            },
            "type": "histogram"
           }
          ],
          "histogram2d": [
           {
            "colorbar": {
             "outlinewidth": 0,
             "ticks": ""
            },
            "colorscale": [
             [
              0,
              "#0d0887"
             ],
             [
              0.1111111111111111,
              "#46039f"
             ],
             [
              0.2222222222222222,
              "#7201a8"
             ],
             [
              0.3333333333333333,
              "#9c179e"
             ],
             [
              0.4444444444444444,
              "#bd3786"
             ],
             [
              0.5555555555555556,
              "#d8576b"
             ],
             [
              0.6666666666666666,
              "#ed7953"
             ],
             [
              0.7777777777777778,
              "#fb9f3a"
             ],
             [
              0.8888888888888888,
              "#fdca26"
             ],
             [
              1,
              "#f0f921"
             ]
            ],
            "type": "histogram2d"
           }
          ],
          "histogram2dcontour": [
           {
            "colorbar": {
             "outlinewidth": 0,
             "ticks": ""
            },
            "colorscale": [
             [
              0,
              "#0d0887"
             ],
             [
              0.1111111111111111,
              "#46039f"
             ],
             [
              0.2222222222222222,
              "#7201a8"
             ],
             [
              0.3333333333333333,
              "#9c179e"
             ],
             [
              0.4444444444444444,
              "#bd3786"
             ],
             [
              0.5555555555555556,
              "#d8576b"
             ],
             [
              0.6666666666666666,
              "#ed7953"
             ],
             [
              0.7777777777777778,
              "#fb9f3a"
             ],
             [
              0.8888888888888888,
              "#fdca26"
             ],
             [
              1,
              "#f0f921"
             ]
            ],
            "type": "histogram2dcontour"
           }
          ],
          "mesh3d": [
           {
            "colorbar": {
             "outlinewidth": 0,
             "ticks": ""
            },
            "type": "mesh3d"
           }
          ],
          "parcoords": [
           {
            "line": {
             "colorbar": {
              "outlinewidth": 0,
              "ticks": ""
             }
            },
            "type": "parcoords"
           }
          ],
          "pie": [
           {
            "automargin": true,
            "type": "pie"
           }
          ],
          "scatter": [
           {
            "fillpattern": {
             "fillmode": "overlay",
             "size": 10,
             "solidity": 0.2
            },
            "type": "scatter"
           }
          ],
          "scatter3d": [
           {
            "line": {
             "colorbar": {
              "outlinewidth": 0,
              "ticks": ""
             }
            },
            "marker": {
             "colorbar": {
              "outlinewidth": 0,
              "ticks": ""
             }
            },
            "type": "scatter3d"
           }
          ],
          "scattercarpet": [
           {
            "marker": {
             "colorbar": {
              "outlinewidth": 0,
              "ticks": ""
             }
            },
            "type": "scattercarpet"
           }
          ],
          "scattergeo": [
           {
            "marker": {
             "colorbar": {
              "outlinewidth": 0,
              "ticks": ""
             }
            },
            "type": "scattergeo"
           }
          ],
          "scattergl": [
           {
            "marker": {
             "colorbar": {
              "outlinewidth": 0,
              "ticks": ""
             }
            },
            "type": "scattergl"
           }
          ],
          "scattermapbox": [
           {
            "marker": {
             "colorbar": {
              "outlinewidth": 0,
              "ticks": ""
             }
            },
            "type": "scattermapbox"
           }
          ],
          "scatterpolar": [
           {
            "marker": {
             "colorbar": {
              "outlinewidth": 0,
              "ticks": ""
             }
            },
            "type": "scatterpolar"
           }
          ],
          "scatterpolargl": [
           {
            "marker": {
             "colorbar": {
              "outlinewidth": 0,
              "ticks": ""
             }
            },
            "type": "scatterpolargl"
           }
          ],
          "scatterternary": [
           {
            "marker": {
             "colorbar": {
              "outlinewidth": 0,
              "ticks": ""
             }
            },
            "type": "scatterternary"
           }
          ],
          "surface": [
           {
            "colorbar": {
             "outlinewidth": 0,
             "ticks": ""
            },
            "colorscale": [
             [
              0,
              "#0d0887"
             ],
             [
              0.1111111111111111,
              "#46039f"
             ],
             [
              0.2222222222222222,
              "#7201a8"
             ],
             [
              0.3333333333333333,
              "#9c179e"
             ],
             [
              0.4444444444444444,
              "#bd3786"
             ],
             [
              0.5555555555555556,
              "#d8576b"
             ],
             [
              0.6666666666666666,
              "#ed7953"
             ],
             [
              0.7777777777777778,
              "#fb9f3a"
             ],
             [
              0.8888888888888888,
              "#fdca26"
             ],
             [
              1,
              "#f0f921"
             ]
            ],
            "type": "surface"
           }
          ],
          "table": [
           {
            "cells": {
             "fill": {
              "color": "#EBF0F8"
             },
             "line": {
              "color": "white"
             }
            },
            "header": {
             "fill": {
              "color": "#C8D4E3"
             },
             "line": {
              "color": "white"
             }
            },
            "type": "table"
           }
          ]
         },
         "layout": {
          "annotationdefaults": {
           "arrowcolor": "#2a3f5f",
           "arrowhead": 0,
           "arrowwidth": 1
          },
          "autotypenumbers": "strict",
          "coloraxis": {
           "colorbar": {
            "outlinewidth": 0,
            "ticks": ""
           }
          },
          "colorscale": {
           "diverging": [
            [
             0,
             "#8e0152"
            ],
            [
             0.1,
             "#c51b7d"
            ],
            [
             0.2,
             "#de77ae"
            ],
            [
             0.3,
             "#f1b6da"
            ],
            [
             0.4,
             "#fde0ef"
            ],
            [
             0.5,
             "#f7f7f7"
            ],
            [
             0.6,
             "#e6f5d0"
            ],
            [
             0.7,
             "#b8e186"
            ],
            [
             0.8,
             "#7fbc41"
            ],
            [
             0.9,
             "#4d9221"
            ],
            [
             1,
             "#276419"
            ]
           ],
           "sequential": [
            [
             0,
             "#0d0887"
            ],
            [
             0.1111111111111111,
             "#46039f"
            ],
            [
             0.2222222222222222,
             "#7201a8"
            ],
            [
             0.3333333333333333,
             "#9c179e"
            ],
            [
             0.4444444444444444,
             "#bd3786"
            ],
            [
             0.5555555555555556,
             "#d8576b"
            ],
            [
             0.6666666666666666,
             "#ed7953"
            ],
            [
             0.7777777777777778,
             "#fb9f3a"
            ],
            [
             0.8888888888888888,
             "#fdca26"
            ],
            [
             1,
             "#f0f921"
            ]
           ],
           "sequentialminus": [
            [
             0,
             "#0d0887"
            ],
            [
             0.1111111111111111,
             "#46039f"
            ],
            [
             0.2222222222222222,
             "#7201a8"
            ],
            [
             0.3333333333333333,
             "#9c179e"
            ],
            [
             0.4444444444444444,
             "#bd3786"
            ],
            [
             0.5555555555555556,
             "#d8576b"
            ],
            [
             0.6666666666666666,
             "#ed7953"
            ],
            [
             0.7777777777777778,
             "#fb9f3a"
            ],
            [
             0.8888888888888888,
             "#fdca26"
            ],
            [
             1,
             "#f0f921"
            ]
           ]
          },
          "colorway": [
           "#636efa",
           "#EF553B",
           "#00cc96",
           "#ab63fa",
           "#FFA15A",
           "#19d3f3",
           "#FF6692",
           "#B6E880",
           "#FF97FF",
           "#FECB52"
          ],
          "font": {
           "color": "#2a3f5f"
          },
          "geo": {
           "bgcolor": "white",
           "lakecolor": "white",
           "landcolor": "#E5ECF6",
           "showlakes": true,
           "showland": true,
           "subunitcolor": "white"
          },
          "hoverlabel": {
           "align": "left"
          },
          "hovermode": "closest",
          "mapbox": {
           "style": "light"
          },
          "paper_bgcolor": "white",
          "plot_bgcolor": "#E5ECF6",
          "polar": {
           "angularaxis": {
            "gridcolor": "white",
            "linecolor": "white",
            "ticks": ""
           },
           "bgcolor": "#E5ECF6",
           "radialaxis": {
            "gridcolor": "white",
            "linecolor": "white",
            "ticks": ""
           }
          },
          "scene": {
           "xaxis": {
            "backgroundcolor": "#E5ECF6",
            "gridcolor": "white",
            "gridwidth": 2,
            "linecolor": "white",
            "showbackground": true,
            "ticks": "",
            "zerolinecolor": "white"
           },
           "yaxis": {
            "backgroundcolor": "#E5ECF6",
            "gridcolor": "white",
            "gridwidth": 2,
            "linecolor": "white",
            "showbackground": true,
            "ticks": "",
            "zerolinecolor": "white"
           },
           "zaxis": {
            "backgroundcolor": "#E5ECF6",
            "gridcolor": "white",
            "gridwidth": 2,
            "linecolor": "white",
            "showbackground": true,
            "ticks": "",
            "zerolinecolor": "white"
           }
          },
          "shapedefaults": {
           "line": {
            "color": "#2a3f5f"
           }
          },
          "ternary": {
           "aaxis": {
            "gridcolor": "white",
            "linecolor": "white",
            "ticks": ""
           },
           "baxis": {
            "gridcolor": "white",
            "linecolor": "white",
            "ticks": ""
           },
           "bgcolor": "#E5ECF6",
           "caxis": {
            "gridcolor": "white",
            "linecolor": "white",
            "ticks": ""
           }
          },
          "title": {
           "x": 0.05
          },
          "xaxis": {
           "automargin": true,
           "gridcolor": "white",
           "linecolor": "white",
           "ticks": "",
           "title": {
            "standoff": 15
           },
           "zerolinecolor": "white",
           "zerolinewidth": 2
          },
          "yaxis": {
           "automargin": true,
           "gridcolor": "white",
           "linecolor": "white",
           "ticks": "",
           "title": {
            "standoff": 15
           },
           "zerolinecolor": "white",
           "zerolinewidth": 2
          }
         }
        },
        "title": {
         "text": "Top 20 Simulated Start-End Routes"
        }
       }
      }
     },
     "metadata": {},
     "output_type": "display_data"
    }
   ],
   "source": [
    "fig = analyze_results(df_result)\n",
    "fig.show()"
   ]
  },
  {
   "cell_type": "markdown",
   "id": "cbeb9398",
   "metadata": {},
   "source": [
    "To show the chart on GitHub:"
   ]
  },
  {
   "attachments": {
    "image.png": {
     "image/png": "[encoded data removed]"
    }
   },
   "cell_type": "markdown",
   "id": "df53e155",
   "metadata": {},
   "source": [
    "![image.png](attachment:image.png)"
   ]
  }
 ],
 "metadata": {
  "kernelspec": {
   "display_name": "base",
   "language": "python",
   "name": "python3"
  },
  "language_info": {
   "codemirror_mode": {
    "name": "ipython",
    "version": 3
   },
   "file_extension": ".py",
   "mimetype": "text/x-python",
   "name": "python",
   "nbconvert_exporter": "python",
   "pygments_lexer": "ipython3",
   "version": "3.6.5"
  }
 },
 "nbformat": 4,
 "nbformat_minor": 5
}
